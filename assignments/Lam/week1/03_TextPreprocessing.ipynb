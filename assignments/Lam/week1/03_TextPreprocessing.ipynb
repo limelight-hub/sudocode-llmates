{
  "nbformat": 4,
  "nbformat_minor": 0,
  "metadata": {
    "colab": {
      "provenance": []
    },
    "kernelspec": {
      "name": "python3",
      "display_name": "Python 3"
    },
    "language_info": {
      "name": "python"
    }
  },
  "cells": [
    {
      "cell_type": "markdown",
      "source": [
        "# 1. Load Data"
      ],
      "metadata": {
        "id": "u8fH_VFtxu-x"
      }
    },
    {
      "cell_type": "code",
      "execution_count": 1,
      "metadata": {
        "colab": {
          "base_uri": "https://localhost:8080/"
        },
        "id": "5UwQX1xWvk52",
        "outputId": "a3e909fd-25fb-4276-eb6d-1c6e0c76eea9"
      },
      "outputs": [
        {
          "output_type": "stream",
          "name": "stdout",
          "text": [
            "Downloading from https://www.kaggle.com/api/v1/datasets/download/haitranquangofficial/vietnamese-online-news-dataset?dataset_version_number=1...\n"
          ]
        },
        {
          "output_type": "stream",
          "name": "stderr",
          "text": [
            "100%|██████████| 199M/199M [00:02<00:00, 85.4MB/s]"
          ]
        },
        {
          "output_type": "stream",
          "name": "stdout",
          "text": [
            "Extracting files...\n"
          ]
        },
        {
          "output_type": "stream",
          "name": "stderr",
          "text": [
            "\n"
          ]
        },
        {
          "output_type": "stream",
          "name": "stdout",
          "text": [
            "Path to dataset files: /root/.cache/kagglehub/datasets/haitranquangofficial/vietnamese-online-news-dataset/versions/1\n"
          ]
        }
      ],
      "source": [
        "import kagglehub\n",
        "\n",
        "# Download latest version\n",
        "path = kagglehub.dataset_download(\"haitranquangofficial/vietnamese-online-news-dataset\")\n",
        "\n",
        "print(\"Path to dataset files:\", path)"
      ]
    },
    {
      "cell_type": "code",
      "source": [
        "import pandas as pd\n",
        "import json\n",
        "import os\n",
        "import re\n",
        "\n",
        "file_path = os.path.join(path, \"news_dataset.json\")\n",
        "df = pd.read_json(file_path)\n",
        "df.head()"
      ],
      "metadata": {
        "colab": {
          "base_uri": "https://localhost:8080/",
          "height": 466
        },
        "id": "isRjZ8oKwFhk",
        "outputId": "136d0d9e-a18c-4732-d192-39d7912936e5"
      },
      "execution_count": 2,
      "outputs": [
        {
          "output_type": "execute_result",
          "data": {
            "text/plain": [
              "       id             author  \\\n",
              "0  218270                      \n",
              "1  218269      (Nguồn: Sina)   \n",
              "2  218268          Hồ Sỹ Anh   \n",
              "3  218267           Ngọc Ánh   \n",
              "4  218266  HẢI YẾN - MINH LÝ   \n",
              "\n",
              "                                             content  picture_count  \\\n",
              "0  Chiều 31/7, Công an tỉnh Thừa Thiên - Huế đã c...              3   \n",
              "1  Gần đây, Thứ trưởng Bộ Phát triển Kỹ thuật số,...              1   \n",
              "2  Kết quả thi tốt nghiệp THPT năm 2022 cho thấy ...              3   \n",
              "3  Thống đốc Kentucky Andy Beshear hôm 31/7 cho h...              1   \n",
              "4  Vụ tai nạn giao thông liên hoàn trên phố đi bộ...             12   \n",
              "\n",
              "   processed        source                                              title  \\\n",
              "0          0     docbao.vn  Tên cướp tiệm vàng tại Huế là đại uý công an, ...   \n",
              "1          0        vtc.vn        Bỏ qua mạng 5G, Nga tiến thẳng từ 4G lên 6G   \n",
              "2          0  thanhnien.vn  Địa phương nào đứng đầu cả nước tổng điểm 3 mô...   \n",
              "3          0     vnexpress  Người chết trong mưa lũ 'nghìn năm có một' ở M...   \n",
              "4          0          soha  Hải Phòng: Hình ảnh xe \"điên\" gây tai nạn liên...   \n",
              "\n",
              "              topic                                                url  \\\n",
              "0         Pháp luật  https://docbao.vn/phap-luat/ten-cuop-tiem-vang...   \n",
              "1      Sống kết nối  https://vtc.vn/bo-qua-mang-5g-nga-tien-thang-t...   \n",
              "2          Giáo dục  https://thanhnien.vn/dia-phuong-nao-dung-dau-c...   \n",
              "3          Thế giới  https://vnexpress.net/nguoi-chet-trong-mua-lu-...   \n",
              "4  Thời sự - Xã hội  https://soha.vn/hai-phong-hinh-anh-xe-dien-gay...   \n",
              "\n",
              "                  crawled_at  \n",
              "0 2022-08-01 09:09:22.817308  \n",
              "1 2022-08-01 09:09:21.181469  \n",
              "2 2022-08-01 09:09:15.311901  \n",
              "3 2022-08-01 09:09:02.211498  \n",
              "4 2022-08-01 09:09:01.601170  "
            ],
            "text/html": [
              "\n",
              "  <div id=\"df-4b565fbb-9a75-457b-9ce2-9ce09455a360\" class=\"colab-df-container\">\n",
              "    <div>\n",
              "<style scoped>\n",
              "    .dataframe tbody tr th:only-of-type {\n",
              "        vertical-align: middle;\n",
              "    }\n",
              "\n",
              "    .dataframe tbody tr th {\n",
              "        vertical-align: top;\n",
              "    }\n",
              "\n",
              "    .dataframe thead th {\n",
              "        text-align: right;\n",
              "    }\n",
              "</style>\n",
              "<table border=\"1\" class=\"dataframe\">\n",
              "  <thead>\n",
              "    <tr style=\"text-align: right;\">\n",
              "      <th></th>\n",
              "      <th>id</th>\n",
              "      <th>author</th>\n",
              "      <th>content</th>\n",
              "      <th>picture_count</th>\n",
              "      <th>processed</th>\n",
              "      <th>source</th>\n",
              "      <th>title</th>\n",
              "      <th>topic</th>\n",
              "      <th>url</th>\n",
              "      <th>crawled_at</th>\n",
              "    </tr>\n",
              "  </thead>\n",
              "  <tbody>\n",
              "    <tr>\n",
              "      <th>0</th>\n",
              "      <td>218270</td>\n",
              "      <td></td>\n",
              "      <td>Chiều 31/7, Công an tỉnh Thừa Thiên - Huế đã c...</td>\n",
              "      <td>3</td>\n",
              "      <td>0</td>\n",
              "      <td>docbao.vn</td>\n",
              "      <td>Tên cướp tiệm vàng tại Huế là đại uý công an, ...</td>\n",
              "      <td>Pháp luật</td>\n",
              "      <td>https://docbao.vn/phap-luat/ten-cuop-tiem-vang...</td>\n",
              "      <td>2022-08-01 09:09:22.817308</td>\n",
              "    </tr>\n",
              "    <tr>\n",
              "      <th>1</th>\n",
              "      <td>218269</td>\n",
              "      <td>(Nguồn: Sina)</td>\n",
              "      <td>Gần đây, Thứ trưởng Bộ Phát triển Kỹ thuật số,...</td>\n",
              "      <td>1</td>\n",
              "      <td>0</td>\n",
              "      <td>vtc.vn</td>\n",
              "      <td>Bỏ qua mạng 5G, Nga tiến thẳng từ 4G lên 6G</td>\n",
              "      <td>Sống kết nối</td>\n",
              "      <td>https://vtc.vn/bo-qua-mang-5g-nga-tien-thang-t...</td>\n",
              "      <td>2022-08-01 09:09:21.181469</td>\n",
              "    </tr>\n",
              "    <tr>\n",
              "      <th>2</th>\n",
              "      <td>218268</td>\n",
              "      <td>Hồ Sỹ Anh</td>\n",
              "      <td>Kết quả thi tốt nghiệp THPT năm 2022 cho thấy ...</td>\n",
              "      <td>3</td>\n",
              "      <td>0</td>\n",
              "      <td>thanhnien.vn</td>\n",
              "      <td>Địa phương nào đứng đầu cả nước tổng điểm 3 mô...</td>\n",
              "      <td>Giáo dục</td>\n",
              "      <td>https://thanhnien.vn/dia-phuong-nao-dung-dau-c...</td>\n",
              "      <td>2022-08-01 09:09:15.311901</td>\n",
              "    </tr>\n",
              "    <tr>\n",
              "      <th>3</th>\n",
              "      <td>218267</td>\n",
              "      <td>Ngọc Ánh</td>\n",
              "      <td>Thống đốc Kentucky Andy Beshear hôm 31/7 cho h...</td>\n",
              "      <td>1</td>\n",
              "      <td>0</td>\n",
              "      <td>vnexpress</td>\n",
              "      <td>Người chết trong mưa lũ 'nghìn năm có một' ở M...</td>\n",
              "      <td>Thế giới</td>\n",
              "      <td>https://vnexpress.net/nguoi-chet-trong-mua-lu-...</td>\n",
              "      <td>2022-08-01 09:09:02.211498</td>\n",
              "    </tr>\n",
              "    <tr>\n",
              "      <th>4</th>\n",
              "      <td>218266</td>\n",
              "      <td>HẢI YẾN - MINH LÝ</td>\n",
              "      <td>Vụ tai nạn giao thông liên hoàn trên phố đi bộ...</td>\n",
              "      <td>12</td>\n",
              "      <td>0</td>\n",
              "      <td>soha</td>\n",
              "      <td>Hải Phòng: Hình ảnh xe \"điên\" gây tai nạn liên...</td>\n",
              "      <td>Thời sự - Xã hội</td>\n",
              "      <td>https://soha.vn/hai-phong-hinh-anh-xe-dien-gay...</td>\n",
              "      <td>2022-08-01 09:09:01.601170</td>\n",
              "    </tr>\n",
              "  </tbody>\n",
              "</table>\n",
              "</div>\n",
              "    <div class=\"colab-df-buttons\">\n",
              "\n",
              "  <div class=\"colab-df-container\">\n",
              "    <button class=\"colab-df-convert\" onclick=\"convertToInteractive('df-4b565fbb-9a75-457b-9ce2-9ce09455a360')\"\n",
              "            title=\"Convert this dataframe to an interactive table.\"\n",
              "            style=\"display:none;\">\n",
              "\n",
              "  <svg xmlns=\"http://www.w3.org/2000/svg\" height=\"24px\" viewBox=\"0 -960 960 960\">\n",
              "    <path d=\"M120-120v-720h720v720H120Zm60-500h600v-160H180v160Zm220 220h160v-160H400v160Zm0 220h160v-160H400v160ZM180-400h160v-160H180v160Zm440 0h160v-160H620v160ZM180-180h160v-160H180v160Zm440 0h160v-160H620v160Z\"/>\n",
              "  </svg>\n",
              "    </button>\n",
              "\n",
              "  <style>\n",
              "    .colab-df-container {\n",
              "      display:flex;\n",
              "      gap: 12px;\n",
              "    }\n",
              "\n",
              "    .colab-df-convert {\n",
              "      background-color: #E8F0FE;\n",
              "      border: none;\n",
              "      border-radius: 50%;\n",
              "      cursor: pointer;\n",
              "      display: none;\n",
              "      fill: #1967D2;\n",
              "      height: 32px;\n",
              "      padding: 0 0 0 0;\n",
              "      width: 32px;\n",
              "    }\n",
              "\n",
              "    .colab-df-convert:hover {\n",
              "      background-color: #E2EBFA;\n",
              "      box-shadow: 0px 1px 2px rgba(60, 64, 67, 0.3), 0px 1px 3px 1px rgba(60, 64, 67, 0.15);\n",
              "      fill: #174EA6;\n",
              "    }\n",
              "\n",
              "    .colab-df-buttons div {\n",
              "      margin-bottom: 4px;\n",
              "    }\n",
              "\n",
              "    [theme=dark] .colab-df-convert {\n",
              "      background-color: #3B4455;\n",
              "      fill: #D2E3FC;\n",
              "    }\n",
              "\n",
              "    [theme=dark] .colab-df-convert:hover {\n",
              "      background-color: #434B5C;\n",
              "      box-shadow: 0px 1px 3px 1px rgba(0, 0, 0, 0.15);\n",
              "      filter: drop-shadow(0px 1px 2px rgba(0, 0, 0, 0.3));\n",
              "      fill: #FFFFFF;\n",
              "    }\n",
              "  </style>\n",
              "\n",
              "    <script>\n",
              "      const buttonEl =\n",
              "        document.querySelector('#df-4b565fbb-9a75-457b-9ce2-9ce09455a360 button.colab-df-convert');\n",
              "      buttonEl.style.display =\n",
              "        google.colab.kernel.accessAllowed ? 'block' : 'none';\n",
              "\n",
              "      async function convertToInteractive(key) {\n",
              "        const element = document.querySelector('#df-4b565fbb-9a75-457b-9ce2-9ce09455a360');\n",
              "        const dataTable =\n",
              "          await google.colab.kernel.invokeFunction('convertToInteractive',\n",
              "                                                    [key], {});\n",
              "        if (!dataTable) return;\n",
              "\n",
              "        const docLinkHtml = 'Like what you see? Visit the ' +\n",
              "          '<a target=\"_blank\" href=https://colab.research.google.com/notebooks/data_table.ipynb>data table notebook</a>'\n",
              "          + ' to learn more about interactive tables.';\n",
              "        element.innerHTML = '';\n",
              "        dataTable['output_type'] = 'display_data';\n",
              "        await google.colab.output.renderOutput(dataTable, element);\n",
              "        const docLink = document.createElement('div');\n",
              "        docLink.innerHTML = docLinkHtml;\n",
              "        element.appendChild(docLink);\n",
              "      }\n",
              "    </script>\n",
              "  </div>\n",
              "\n",
              "\n",
              "    <div id=\"df-05cc0c20-3e12-4e5a-8cd0-a7be20d2c73b\">\n",
              "      <button class=\"colab-df-quickchart\" onclick=\"quickchart('df-05cc0c20-3e12-4e5a-8cd0-a7be20d2c73b')\"\n",
              "                title=\"Suggest charts\"\n",
              "                style=\"display:none;\">\n",
              "\n",
              "<svg xmlns=\"http://www.w3.org/2000/svg\" height=\"24px\"viewBox=\"0 0 24 24\"\n",
              "     width=\"24px\">\n",
              "    <g>\n",
              "        <path d=\"M19 3H5c-1.1 0-2 .9-2 2v14c0 1.1.9 2 2 2h14c1.1 0 2-.9 2-2V5c0-1.1-.9-2-2-2zM9 17H7v-7h2v7zm4 0h-2V7h2v10zm4 0h-2v-4h2v4z\"/>\n",
              "    </g>\n",
              "</svg>\n",
              "      </button>\n",
              "\n",
              "<style>\n",
              "  .colab-df-quickchart {\n",
              "      --bg-color: #E8F0FE;\n",
              "      --fill-color: #1967D2;\n",
              "      --hover-bg-color: #E2EBFA;\n",
              "      --hover-fill-color: #174EA6;\n",
              "      --disabled-fill-color: #AAA;\n",
              "      --disabled-bg-color: #DDD;\n",
              "  }\n",
              "\n",
              "  [theme=dark] .colab-df-quickchart {\n",
              "      --bg-color: #3B4455;\n",
              "      --fill-color: #D2E3FC;\n",
              "      --hover-bg-color: #434B5C;\n",
              "      --hover-fill-color: #FFFFFF;\n",
              "      --disabled-bg-color: #3B4455;\n",
              "      --disabled-fill-color: #666;\n",
              "  }\n",
              "\n",
              "  .colab-df-quickchart {\n",
              "    background-color: var(--bg-color);\n",
              "    border: none;\n",
              "    border-radius: 50%;\n",
              "    cursor: pointer;\n",
              "    display: none;\n",
              "    fill: var(--fill-color);\n",
              "    height: 32px;\n",
              "    padding: 0;\n",
              "    width: 32px;\n",
              "  }\n",
              "\n",
              "  .colab-df-quickchart:hover {\n",
              "    background-color: var(--hover-bg-color);\n",
              "    box-shadow: 0 1px 2px rgba(60, 64, 67, 0.3), 0 1px 3px 1px rgba(60, 64, 67, 0.15);\n",
              "    fill: var(--button-hover-fill-color);\n",
              "  }\n",
              "\n",
              "  .colab-df-quickchart-complete:disabled,\n",
              "  .colab-df-quickchart-complete:disabled:hover {\n",
              "    background-color: var(--disabled-bg-color);\n",
              "    fill: var(--disabled-fill-color);\n",
              "    box-shadow: none;\n",
              "  }\n",
              "\n",
              "  .colab-df-spinner {\n",
              "    border: 2px solid var(--fill-color);\n",
              "    border-color: transparent;\n",
              "    border-bottom-color: var(--fill-color);\n",
              "    animation:\n",
              "      spin 1s steps(1) infinite;\n",
              "  }\n",
              "\n",
              "  @keyframes spin {\n",
              "    0% {\n",
              "      border-color: transparent;\n",
              "      border-bottom-color: var(--fill-color);\n",
              "      border-left-color: var(--fill-color);\n",
              "    }\n",
              "    20% {\n",
              "      border-color: transparent;\n",
              "      border-left-color: var(--fill-color);\n",
              "      border-top-color: var(--fill-color);\n",
              "    }\n",
              "    30% {\n",
              "      border-color: transparent;\n",
              "      border-left-color: var(--fill-color);\n",
              "      border-top-color: var(--fill-color);\n",
              "      border-right-color: var(--fill-color);\n",
              "    }\n",
              "    40% {\n",
              "      border-color: transparent;\n",
              "      border-right-color: var(--fill-color);\n",
              "      border-top-color: var(--fill-color);\n",
              "    }\n",
              "    60% {\n",
              "      border-color: transparent;\n",
              "      border-right-color: var(--fill-color);\n",
              "    }\n",
              "    80% {\n",
              "      border-color: transparent;\n",
              "      border-right-color: var(--fill-color);\n",
              "      border-bottom-color: var(--fill-color);\n",
              "    }\n",
              "    90% {\n",
              "      border-color: transparent;\n",
              "      border-bottom-color: var(--fill-color);\n",
              "    }\n",
              "  }\n",
              "</style>\n",
              "\n",
              "      <script>\n",
              "        async function quickchart(key) {\n",
              "          const quickchartButtonEl =\n",
              "            document.querySelector('#' + key + ' button');\n",
              "          quickchartButtonEl.disabled = true;  // To prevent multiple clicks.\n",
              "          quickchartButtonEl.classList.add('colab-df-spinner');\n",
              "          try {\n",
              "            const charts = await google.colab.kernel.invokeFunction(\n",
              "                'suggestCharts', [key], {});\n",
              "          } catch (error) {\n",
              "            console.error('Error during call to suggestCharts:', error);\n",
              "          }\n",
              "          quickchartButtonEl.classList.remove('colab-df-spinner');\n",
              "          quickchartButtonEl.classList.add('colab-df-quickchart-complete');\n",
              "        }\n",
              "        (() => {\n",
              "          let quickchartButtonEl =\n",
              "            document.querySelector('#df-05cc0c20-3e12-4e5a-8cd0-a7be20d2c73b button');\n",
              "          quickchartButtonEl.style.display =\n",
              "            google.colab.kernel.accessAllowed ? 'block' : 'none';\n",
              "        })();\n",
              "      </script>\n",
              "    </div>\n",
              "\n",
              "    </div>\n",
              "  </div>\n"
            ],
            "application/vnd.google.colaboratory.intrinsic+json": {
              "type": "dataframe",
              "variable_name": "df"
            }
          },
          "metadata": {},
          "execution_count": 2
        }
      ]
    },
    {
      "cell_type": "markdown",
      "source": [
        "# 2. Text Preprocessing"
      ],
      "metadata": {
        "id": "tr1ml3LizGHH"
      }
    },
    {
      "cell_type": "markdown",
      "source": [
        "# 2.1 Lower case"
      ],
      "metadata": {
        "id": "BGs02JowzKQ7"
      }
    },
    {
      "cell_type": "code",
      "source": [
        "df['content'] = df['content'].str.lower()\n",
        "df['content'][0]"
      ],
      "metadata": {
        "id": "XL5YO9tmxjHv",
        "colab": {
          "base_uri": "https://localhost:8080/",
          "height": 139
        },
        "outputId": "c58cfe5e-04fa-4bf7-eaf4-0925c9e1d907"
      },
      "execution_count": 3,
      "outputs": [
        {
          "output_type": "execute_result",
          "data": {
            "text/plain": [
              "\"chiều 31/7, công an tỉnh thừa thiên - huế đã có thông tin ban đầu về vụ nổ súng,cướp tiệm vàng tại chợ đông ba nằm trên đường trần hưng đạo (tp huế, tỉnh thừa thiên - huế). thông sài gòn giải phóng, khoảng 12h30' ngày 31/7, một đối tượng sử dụng súng ak bất ngờ xông vào tiệm vàng hoàng đức và thái lợi (phía trước chợ đông ba) rồi nổ súng chỉ thiên liên tiếp uy hiếp chủ tiệm để cướp vàng. sau đó, đối tượng mang số vàng vừa cướp được vứt ra vỉa hè rồi đi bộ đến khu vực cầu gia hội, cách khu vực gây án khoảng 300m. giám đốc công an tỉnh thừa thiên – huế lập tức trực tiếp chỉ đạo các lực lượng chức năng gồm công an tỉnh và công an tp huế nhanh chóng có mặt tại hiện trường triển khai đồng bộ các biện pháp nghiệp vụ, khoanh vùng và ngăn không để người dân đi vào hiện trường. hàng trăm tiểu thương trong chợ đông ba và người dân gần cầu gia hội được yêu cầu di chuyển khỏi hiện trường, đóng cửa nhà đề phòng đạn lạc. tuy nhiên, thấy vàng bị ném ra đường, nhiều người đua nhau nhặt, tạo cảnh nhốn nháo trước cổng chợ. do đây là khu vực trung tâm tp huế, đông dân nên để đảm bảo an toàn cho người dân, lực lượng công an đã tìm cách hướng đối tượng ra nhà lục giác tại khu vực công viên trịnh công sơn (cạnh cầu gia hội). lúc này, đối tượng có biểu hiện kích động muốn tự tử nên đại tá phạm văn toàn, trưởng phòng cảnh sát hình sự công an tỉnh thừa thiên – huế và một số đồng chí công an khác trực tiếp tiếp cận, thuyết phục đối tượng. đối tượng lại yêu cầu được nói chuyện với đại tá đặng ngọc sơn, phó giám đốc công an tỉnh. ngay sau đó, khi được đại tá đặng ngọc sơn gặp gỡ, động viên, thuyết phục, đối tượng đã đồng ý hạ và giao nộp vũ khí. theo vnexpress cho biết, tên cướp là ngô văn quốc, 38 tuổi, quân hàm đại úy, công tác tại trại giam bình điền, đóng ở xã bình tiến, thị xã hương trà. khẩu súng gây án đã bị thu giữ. hiện trường hai tiệm vàng bị phong tỏa để công an khám nghiệm. phía trong nhiều mảnh kính bị vỡ văng vãi khắp nơi. đông ba là chợ nổi tiếng và sầm uất nhất tp huế, nằm bên bờ bắc sông hương, trên đường trần hưng đạo. nơi đây thu hút nhiều du khách trong và ngoài nước trong hành trình du lịch huế. theo mt (2sao/vietnamnet) https://2sao.vn/ten-cuop-tiem-vang-tai-hue-la-dai-uy-cong-an-cong-tac-tai-trai-giam-n-315312.html trang thông tin điện tử docbao.vn công ty cổ phần quang minh việt nam giấy phép thiết lập trang thông tin điện tử tổng hợp trên internet số 2372/gp-stttt cấp ngày 29/8/2014. sđt: 024. 666.40816 địa chỉ: p604, tầng 6, tòa nhà golden field, khu đô thị mới mỹ đình 1, phường cầu diễn, quận nam từ liêm, hà nội chịu trách nhiệm nội dung: điều thị bích; đt: 0903.263.198; email: docbao@kib.vn đọc báo trực tuyến hiện tại chỉ sử dụng tên miền duy nhất là docbao.vn; độc giả lưu ý tránh nhầm lẫn. chính sách bảo mật rss\""
            ],
            "application/vnd.google.colaboratory.intrinsic+json": {
              "type": "string"
            }
          },
          "metadata": {},
          "execution_count": 3
        }
      ]
    },
    {
      "cell_type": "markdown",
      "source": [
        "## 2.2 Xóa đường dẫn\n",
        "* Loại bỏ URL. Ví dụ: **https://**\n",
        "* Loại bỏ đường dẫn. **Ví dụ: C:\\folder\\file.txt**\n",
        "* Loại bỏ các khoảng trắng dài"
      ],
      "metadata": {
        "id": "BitoUBymp92g"
      }
    },
    {
      "cell_type": "code",
      "source": [
        "def remove_url(text):\n",
        "    text = re.sub(r'http\\S+|www\\S+|https\\S+', '', text, flags=re.MULTILINE)\n",
        "    text = re.sub(r'\\b[a-zA-Z]:\\\\[^\\s]*', '', text)\n",
        "    text = re.sub(r'\\s+',' ',text)\n",
        "    return text\n",
        "df['content'] = df['content'].apply(remove_url)\n",
        "df['content'][0]"
      ],
      "metadata": {
        "colab": {
          "base_uri": "https://localhost:8080/",
          "height": 139
        },
        "id": "Q5lot15xqY0E",
        "outputId": "14f75a54-55dd-4dbb-8b45-c86fc925f5f0"
      },
      "execution_count": 4,
      "outputs": [
        {
          "output_type": "execute_result",
          "data": {
            "text/plain": [
              "\"chiều 31/7, công an tỉnh thừa thiên - huế đã có thông tin ban đầu về vụ nổ súng,cướp tiệm vàng tại chợ đông ba nằm trên đường trần hưng đạo (tp huế, tỉnh thừa thiên - huế). thông sài gòn giải phóng, khoảng 12h30' ngày 31/7, một đối tượng sử dụng súng ak bất ngờ xông vào tiệm vàng hoàng đức và thái lợi (phía trước chợ đông ba) rồi nổ súng chỉ thiên liên tiếp uy hiếp chủ tiệm để cướp vàng. sau đó, đối tượng mang số vàng vừa cướp được vứt ra vỉa hè rồi đi bộ đến khu vực cầu gia hội, cách khu vực gây án khoảng 300m. giám đốc công an tỉnh thừa thiên – huế lập tức trực tiếp chỉ đạo các lực lượng chức năng gồm công an tỉnh và công an tp huế nhanh chóng có mặt tại hiện trường triển khai đồng bộ các biện pháp nghiệp vụ, khoanh vùng và ngăn không để người dân đi vào hiện trường. hàng trăm tiểu thương trong chợ đông ba và người dân gần cầu gia hội được yêu cầu di chuyển khỏi hiện trường, đóng cửa nhà đề phòng đạn lạc. tuy nhiên, thấy vàng bị ném ra đường, nhiều người đua nhau nhặt, tạo cảnh nhốn nháo trước cổng chợ. do đây là khu vực trung tâm tp huế, đông dân nên để đảm bảo an toàn cho người dân, lực lượng công an đã tìm cách hướng đối tượng ra nhà lục giác tại khu vực công viên trịnh công sơn (cạnh cầu gia hội). lúc này, đối tượng có biểu hiện kích động muốn tự tử nên đại tá phạm văn toàn, trưởng phòng cảnh sát hình sự công an tỉnh thừa thiên – huế và một số đồng chí công an khác trực tiếp tiếp cận, thuyết phục đối tượng. đối tượng lại yêu cầu được nói chuyện với đại tá đặng ngọc sơn, phó giám đốc công an tỉnh. ngay sau đó, khi được đại tá đặng ngọc sơn gặp gỡ, động viên, thuyết phục, đối tượng đã đồng ý hạ và giao nộp vũ khí. theo vnexpress cho biết, tên cướp là ngô văn quốc, 38 tuổi, quân hàm đại úy, công tác tại trại giam bình điền, đóng ở xã bình tiến, thị xã hương trà. khẩu súng gây án đã bị thu giữ. hiện trường hai tiệm vàng bị phong tỏa để công an khám nghiệm. phía trong nhiều mảnh kính bị vỡ văng vãi khắp nơi. đông ba là chợ nổi tiếng và sầm uất nhất tp huế, nằm bên bờ bắc sông hương, trên đường trần hưng đạo. nơi đây thu hút nhiều du khách trong và ngoài nước trong hành trình du lịch huế. theo mt (2sao/vietnamnet) trang thông tin điện tử docbao.vn công ty cổ phần quang minh việt nam giấy phép thiết lập trang thông tin điện tử tổng hợp trên internet số 2372/gp-stttt cấp ngày 29/8/2014. sđt: 024. 666.40816 địa chỉ: p604, tầng 6, tòa nhà golden field, khu đô thị mới mỹ đình 1, phường cầu diễn, quận nam từ liêm, hà nội chịu trách nhiệm nội dung: điều thị bích; đt: 0903.263.198; email: docbao@kib.vn đọc báo trực tuyến hiện tại chỉ sử dụng tên miền duy nhất là docbao.vn; độc giả lưu ý tránh nhầm lẫn. chính sách bảo mật rss\""
            ],
            "application/vnd.google.colaboratory.intrinsic+json": {
              "type": "string"
            }
          },
          "metadata": {},
          "execution_count": 4
        }
      ]
    },
    {
      "cell_type": "markdown",
      "source": [
        "## 2.3 Remove Punctuation"
      ],
      "metadata": {
        "id": "WKBL2AK8rcA6"
      }
    },
    {
      "cell_type": "code",
      "source": [
        "import string\n",
        "string.punctuation"
      ],
      "metadata": {
        "colab": {
          "base_uri": "https://localhost:8080/",
          "height": 35
        },
        "id": "QZztjFErrnJY",
        "outputId": "cccfa5bd-d868-4036-a5b5-6f4348121968"
      },
      "execution_count": 5,
      "outputs": [
        {
          "output_type": "execute_result",
          "data": {
            "text/plain": [
              "'!\"#$%&\\'()*+,-./:;<=>?@[\\\\]^_`{|}~'"
            ],
            "application/vnd.google.colaboratory.intrinsic+json": {
              "type": "string"
            }
          },
          "metadata": {},
          "execution_count": 5
        }
      ]
    },
    {
      "cell_type": "code",
      "source": [
        "df['content'] = df['content'].str.translate(str.maketrans('', '', string.punctuation))\n",
        "df['content'][0]"
      ],
      "metadata": {
        "colab": {
          "base_uri": "https://localhost:8080/",
          "height": 139
        },
        "id": "T5NropQ6rpQn",
        "outputId": "26e04a03-3c47-4113-a80f-31dffb0c7a7c"
      },
      "execution_count": 6,
      "outputs": [
        {
          "output_type": "execute_result",
          "data": {
            "text/plain": [
              "'chiều 317 công an tỉnh thừa thiên  huế đã có thông tin ban đầu về vụ nổ súngcướp tiệm vàng tại chợ đông ba nằm trên đường trần hưng đạo tp huế tỉnh thừa thiên  huế thông sài gòn giải phóng khoảng 12h30 ngày 317 một đối tượng sử dụng súng ak bất ngờ xông vào tiệm vàng hoàng đức và thái lợi phía trước chợ đông ba rồi nổ súng chỉ thiên liên tiếp uy hiếp chủ tiệm để cướp vàng sau đó đối tượng mang số vàng vừa cướp được vứt ra vỉa hè rồi đi bộ đến khu vực cầu gia hội cách khu vực gây án khoảng 300m giám đốc công an tỉnh thừa thiên – huế lập tức trực tiếp chỉ đạo các lực lượng chức năng gồm công an tỉnh và công an tp huế nhanh chóng có mặt tại hiện trường triển khai đồng bộ các biện pháp nghiệp vụ khoanh vùng và ngăn không để người dân đi vào hiện trường hàng trăm tiểu thương trong chợ đông ba và người dân gần cầu gia hội được yêu cầu di chuyển khỏi hiện trường đóng cửa nhà đề phòng đạn lạc tuy nhiên thấy vàng bị ném ra đường nhiều người đua nhau nhặt tạo cảnh nhốn nháo trước cổng chợ do đây là khu vực trung tâm tp huế đông dân nên để đảm bảo an toàn cho người dân lực lượng công an đã tìm cách hướng đối tượng ra nhà lục giác tại khu vực công viên trịnh công sơn cạnh cầu gia hội lúc này đối tượng có biểu hiện kích động muốn tự tử nên đại tá phạm văn toàn trưởng phòng cảnh sát hình sự công an tỉnh thừa thiên – huế và một số đồng chí công an khác trực tiếp tiếp cận thuyết phục đối tượng đối tượng lại yêu cầu được nói chuyện với đại tá đặng ngọc sơn phó giám đốc công an tỉnh ngay sau đó khi được đại tá đặng ngọc sơn gặp gỡ động viên thuyết phục đối tượng đã đồng ý hạ và giao nộp vũ khí theo vnexpress cho biết tên cướp là ngô văn quốc 38 tuổi quân hàm đại úy công tác tại trại giam bình điền đóng ở xã bình tiến thị xã hương trà khẩu súng gây án đã bị thu giữ hiện trường hai tiệm vàng bị phong tỏa để công an khám nghiệm phía trong nhiều mảnh kính bị vỡ văng vãi khắp nơi đông ba là chợ nổi tiếng và sầm uất nhất tp huế nằm bên bờ bắc sông hương trên đường trần hưng đạo nơi đây thu hút nhiều du khách trong và ngoài nước trong hành trình du lịch huế theo mt 2saovietnamnet trang thông tin điện tử docbaovn công ty cổ phần quang minh việt nam giấy phép thiết lập trang thông tin điện tử tổng hợp trên internet số 2372gpstttt cấp ngày 2982014 sđt 024 66640816 địa chỉ p604 tầng 6 tòa nhà golden field khu đô thị mới mỹ đình 1 phường cầu diễn quận nam từ liêm hà nội chịu trách nhiệm nội dung điều thị bích đt 0903263198 email docbaokibvn đọc báo trực tuyến hiện tại chỉ sử dụng tên miền duy nhất là docbaovn độc giả lưu ý tránh nhầm lẫn chính sách bảo mật rss'"
            ],
            "application/vnd.google.colaboratory.intrinsic+json": {
              "type": "string"
            }
          },
          "metadata": {},
          "execution_count": 6
        }
      ]
    },
    {
      "cell_type": "markdown",
      "source": [
        "## 2.4 Word Tokenize"
      ],
      "metadata": {
        "id": "ZwCwqrgavW0I"
      }
    },
    {
      "cell_type": "code",
      "source": [
        "import nltk\n",
        "from nltk.tokenize import word_tokenize\n",
        "\n",
        "nltk.download('punkt_tab')\n",
        "df['word_tokenized_content'] = df['content'].apply(word_tokenize)\n",
        "df['word_tokenized_content']"
      ],
      "metadata": {
        "colab": {
          "base_uri": "https://localhost:8080/",
          "height": 493
        },
        "id": "vZt0CxL5sfP9",
        "outputId": "65ded512-9ceb-4d7e-ef3b-c8885ba6a556"
      },
      "execution_count": 7,
      "outputs": [
        {
          "output_type": "stream",
          "name": "stderr",
          "text": [
            "[nltk_data] Downloading package punkt_tab to /root/nltk_data...\n",
            "[nltk_data]   Unzipping tokenizers/punkt_tab.zip.\n"
          ]
        },
        {
          "output_type": "execute_result",
          "data": {
            "text/plain": [
              "0         [chiều, 317, công, an, tỉnh, thừa, thiên, huế,...\n",
              "1         [gần, đây, thứ, trưởng, bộ, phát, triển, kỹ, t...\n",
              "2         [kết, quả, thi, tốt, nghiệp, thpt, năm, 2022, ...\n",
              "3         [thống, đốc, kentucky, andy, beshear, hôm, 317...\n",
              "4         [vụ, tai, nạn, giao, thông, liên, hoàn, trên, ...\n",
              "                                ...                        \n",
              "184534    [chiều, 76, khoa, bị, công, an, quận, phú, nhu...\n",
              "184535    [ngày, 76, phiên, xử, phúc, thẩm, ông, tất, th...\n",
              "184536    [các, khu, dân, cư, của, thành, phố, severodon...\n",
              "184537    [việt, nam, malaysia, 20h, thứ, tư, 86, trên, ...\n",
              "184538    [tôi, phải, lập, tức, đưa, qua, nhà, cô, giáo,...\n",
              "Name: word_tokenized_content, Length: 184539, dtype: object"
            ],
            "text/html": [
              "<div>\n",
              "<style scoped>\n",
              "    .dataframe tbody tr th:only-of-type {\n",
              "        vertical-align: middle;\n",
              "    }\n",
              "\n",
              "    .dataframe tbody tr th {\n",
              "        vertical-align: top;\n",
              "    }\n",
              "\n",
              "    .dataframe thead th {\n",
              "        text-align: right;\n",
              "    }\n",
              "</style>\n",
              "<table border=\"1\" class=\"dataframe\">\n",
              "  <thead>\n",
              "    <tr style=\"text-align: right;\">\n",
              "      <th></th>\n",
              "      <th>word_tokenized_content</th>\n",
              "    </tr>\n",
              "  </thead>\n",
              "  <tbody>\n",
              "    <tr>\n",
              "      <th>0</th>\n",
              "      <td>[chiều, 317, công, an, tỉnh, thừa, thiên, huế,...</td>\n",
              "    </tr>\n",
              "    <tr>\n",
              "      <th>1</th>\n",
              "      <td>[gần, đây, thứ, trưởng, bộ, phát, triển, kỹ, t...</td>\n",
              "    </tr>\n",
              "    <tr>\n",
              "      <th>2</th>\n",
              "      <td>[kết, quả, thi, tốt, nghiệp, thpt, năm, 2022, ...</td>\n",
              "    </tr>\n",
              "    <tr>\n",
              "      <th>3</th>\n",
              "      <td>[thống, đốc, kentucky, andy, beshear, hôm, 317...</td>\n",
              "    </tr>\n",
              "    <tr>\n",
              "      <th>4</th>\n",
              "      <td>[vụ, tai, nạn, giao, thông, liên, hoàn, trên, ...</td>\n",
              "    </tr>\n",
              "    <tr>\n",
              "      <th>...</th>\n",
              "      <td>...</td>\n",
              "    </tr>\n",
              "    <tr>\n",
              "      <th>184534</th>\n",
              "      <td>[chiều, 76, khoa, bị, công, an, quận, phú, nhu...</td>\n",
              "    </tr>\n",
              "    <tr>\n",
              "      <th>184535</th>\n",
              "      <td>[ngày, 76, phiên, xử, phúc, thẩm, ông, tất, th...</td>\n",
              "    </tr>\n",
              "    <tr>\n",
              "      <th>184536</th>\n",
              "      <td>[các, khu, dân, cư, của, thành, phố, severodon...</td>\n",
              "    </tr>\n",
              "    <tr>\n",
              "      <th>184537</th>\n",
              "      <td>[việt, nam, malaysia, 20h, thứ, tư, 86, trên, ...</td>\n",
              "    </tr>\n",
              "    <tr>\n",
              "      <th>184538</th>\n",
              "      <td>[tôi, phải, lập, tức, đưa, qua, nhà, cô, giáo,...</td>\n",
              "    </tr>\n",
              "  </tbody>\n",
              "</table>\n",
              "<p>184539 rows × 1 columns</p>\n",
              "</div><br><label><b>dtype:</b> object</label>"
            ]
          },
          "metadata": {},
          "execution_count": 7
        }
      ]
    },
    {
      "cell_type": "markdown",
      "source": [
        "## 2.5 Remove stopwords"
      ],
      "metadata": {
        "id": "XiMvt9hywWp8"
      }
    },
    {
      "cell_type": "code",
      "source": [
        "path = kagglehub.dataset_download(\"heeraldedhia/stop-words-in-28-languages\")\n",
        "\n",
        "print(\"Path to dataset files:\", path)"
      ],
      "metadata": {
        "id": "dm98wiHpveRK",
        "colab": {
          "base_uri": "https://localhost:8080/"
        },
        "outputId": "86f23b04-e0cd-4be2-99d6-2586c244644d"
      },
      "execution_count": 8,
      "outputs": [
        {
          "output_type": "stream",
          "name": "stdout",
          "text": [
            "Downloading from https://www.kaggle.com/api/v1/datasets/download/heeraldedhia/stop-words-in-28-languages?dataset_version_number=1...\n"
          ]
        },
        {
          "output_type": "stream",
          "name": "stderr",
          "text": [
            "100%|██████████| 34.4k/34.4k [00:00<00:00, 29.8MB/s]"
          ]
        },
        {
          "output_type": "stream",
          "name": "stdout",
          "text": [
            "Extracting files...\n",
            "Path to dataset files: /root/.cache/kagglehub/datasets/heeraldedhia/stop-words-in-28-languages/versions/1\n"
          ]
        },
        {
          "output_type": "stream",
          "name": "stderr",
          "text": [
            "\n"
          ]
        }
      ]
    },
    {
      "cell_type": "code",
      "source": [
        "vietnamese_stopwords_path = os.path.join(path, \"vietnamese.txt\")\n",
        "Vi_stopwords = set()\n",
        "with open(vietnamese_stopwords_path, 'r', encoding='utf-8') as file:\n",
        "    lines = file.readlines()\n",
        "\n",
        "for line in lines:\n",
        "    tmp = line.rstrip()\n",
        "    tmp_no_digits = ''.join([i for i in tmp if not i.isdigit()])\n",
        "    if tmp_no_digits.strip():\n",
        "        Vi_stopwords.add(tmp_no_digits)"
      ],
      "metadata": {
        "id": "wWzZglDu6e5Z"
      },
      "execution_count": 14,
      "outputs": []
    },
    {
      "cell_type": "code",
      "source": [
        "df['filter_stopwords'] = df['word_tokenized_content'].apply(lambda tokens: [token for token in tokens if token not in Vi_stopwords])\n",
        "df['filter_stopwords']"
      ],
      "metadata": {
        "colab": {
          "base_uri": "https://localhost:8080/",
          "height": 458
        },
        "id": "qTbEJwoV5nDz",
        "outputId": "ff3ebd0e-c3ce-4f60-842e-eeff1996fe92"
      },
      "execution_count": 15,
      "outputs": [
        {
          "output_type": "execute_result",
          "data": {
            "text/plain": [
              "0         [chiều, 317, công, an, tỉnh, thừa, thiên, huế,...\n",
              "1         [trưởng, phát, triển, kỹ, thuật, truyền, thông...\n",
              "2         [kết, thi, nghiệp, thpt, 2022, trung, bình, mô...\n",
              "3         [thống, đốc, kentucky, andy, beshear, hôm, 317...\n",
              "4         [vụ, tai, nạn, giao, thông, liên, hoàn, phố, đ...\n",
              "                                ...                        \n",
              "184534    [chiều, 76, khoa, công, an, phú, nhuận, phối, ...\n",
              "184535    [76, phiên, xử, phúc, thẩm, tất, thành, cang, ...\n",
              "184536    [khu, dân, cư, thành, phố, severodonetsk, hoàn...\n",
              "184537    [việt, nam, malaysia, 20h, tư, 86, vnexpress, ...\n",
              "184538    [lập, tức, giáo, ngữ, văn, bảy, khói, bốc, ngh...\n",
              "Name: filter_stopwords, Length: 184539, dtype: object"
            ],
            "text/html": [
              "<div>\n",
              "<style scoped>\n",
              "    .dataframe tbody tr th:only-of-type {\n",
              "        vertical-align: middle;\n",
              "    }\n",
              "\n",
              "    .dataframe tbody tr th {\n",
              "        vertical-align: top;\n",
              "    }\n",
              "\n",
              "    .dataframe thead th {\n",
              "        text-align: right;\n",
              "    }\n",
              "</style>\n",
              "<table border=\"1\" class=\"dataframe\">\n",
              "  <thead>\n",
              "    <tr style=\"text-align: right;\">\n",
              "      <th></th>\n",
              "      <th>filter_stopwords</th>\n",
              "    </tr>\n",
              "  </thead>\n",
              "  <tbody>\n",
              "    <tr>\n",
              "      <th>0</th>\n",
              "      <td>[chiều, 317, công, an, tỉnh, thừa, thiên, huế,...</td>\n",
              "    </tr>\n",
              "    <tr>\n",
              "      <th>1</th>\n",
              "      <td>[trưởng, phát, triển, kỹ, thuật, truyền, thông...</td>\n",
              "    </tr>\n",
              "    <tr>\n",
              "      <th>2</th>\n",
              "      <td>[kết, thi, nghiệp, thpt, 2022, trung, bình, mô...</td>\n",
              "    </tr>\n",
              "    <tr>\n",
              "      <th>3</th>\n",
              "      <td>[thống, đốc, kentucky, andy, beshear, hôm, 317...</td>\n",
              "    </tr>\n",
              "    <tr>\n",
              "      <th>4</th>\n",
              "      <td>[vụ, tai, nạn, giao, thông, liên, hoàn, phố, đ...</td>\n",
              "    </tr>\n",
              "    <tr>\n",
              "      <th>...</th>\n",
              "      <td>...</td>\n",
              "    </tr>\n",
              "    <tr>\n",
              "      <th>184534</th>\n",
              "      <td>[chiều, 76, khoa, công, an, phú, nhuận, phối, ...</td>\n",
              "    </tr>\n",
              "    <tr>\n",
              "      <th>184535</th>\n",
              "      <td>[76, phiên, xử, phúc, thẩm, tất, thành, cang, ...</td>\n",
              "    </tr>\n",
              "    <tr>\n",
              "      <th>184536</th>\n",
              "      <td>[khu, dân, cư, thành, phố, severodonetsk, hoàn...</td>\n",
              "    </tr>\n",
              "    <tr>\n",
              "      <th>184537</th>\n",
              "      <td>[việt, nam, malaysia, 20h, tư, 86, vnexpress, ...</td>\n",
              "    </tr>\n",
              "    <tr>\n",
              "      <th>184538</th>\n",
              "      <td>[lập, tức, giáo, ngữ, văn, bảy, khói, bốc, ngh...</td>\n",
              "    </tr>\n",
              "  </tbody>\n",
              "</table>\n",
              "<p>184539 rows × 1 columns</p>\n",
              "</div><br><label><b>dtype:</b> object</label>"
            ]
          },
          "metadata": {},
          "execution_count": 15
        }
      ]
    }
  ]
}