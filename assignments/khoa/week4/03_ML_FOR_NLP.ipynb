{
  "nbformat": 4,
  "nbformat_minor": 0,
  "metadata": {
    "colab": {
      "provenance": []
    },
    "kernelspec": {
      "name": "python3",
      "display_name": "Python 3"
    },
    "language_info": {
      "name": "python"
    }
  },
  "cells": [
    {
      "cell_type": "markdown",
      "source": [
        "## 1. Load Data"
      ],
      "metadata": {
        "id": "ebIMSl7OzwKH"
      }
    },
    {
      "cell_type": "code",
      "execution_count": 5,
      "metadata": {
        "colab": {
          "base_uri": "https://localhost:8080/",
          "height": 206
        },
        "id": "8dORPalTyULK",
        "outputId": "9fee205a-e7ea-4c51-cfbf-b6918c3d5b8f"
      },
      "outputs": [
        {
          "output_type": "execute_result",
          "data": {
            "text/plain": [
              "   label                                               text\n",
              "0      0  chỉ có dây cáp nguồn không có adapter sao sử d...\n",
              "1      0  Chất lượng quá kém Mới dùng được 2 ngày loa ba...\n",
              "2      0  Usb tôi vừa mới nhận usb này Rất bực bội vì cá...\n",
              "3      2                       Tuyệt vời. Hàng FPT cửa hàng\n",
              "4      1  Chưa đo đúng bước chân rõ Nhiều khi gián đoạn ..."
            ],
            "text/html": [
              "\n",
              "  <div id=\"df-4afe49e7-94ca-41d4-9c3b-bb09372dee8d\" class=\"colab-df-container\">\n",
              "    <div>\n",
              "<style scoped>\n",
              "    .dataframe tbody tr th:only-of-type {\n",
              "        vertical-align: middle;\n",
              "    }\n",
              "\n",
              "    .dataframe tbody tr th {\n",
              "        vertical-align: top;\n",
              "    }\n",
              "\n",
              "    .dataframe thead th {\n",
              "        text-align: right;\n",
              "    }\n",
              "</style>\n",
              "<table border=\"1\" class=\"dataframe\">\n",
              "  <thead>\n",
              "    <tr style=\"text-align: right;\">\n",
              "      <th></th>\n",
              "      <th>label</th>\n",
              "      <th>text</th>\n",
              "    </tr>\n",
              "  </thead>\n",
              "  <tbody>\n",
              "    <tr>\n",
              "      <th>0</th>\n",
              "      <td>0</td>\n",
              "      <td>chỉ có dây cáp nguồn không có adapter sao sử d...</td>\n",
              "    </tr>\n",
              "    <tr>\n",
              "      <th>1</th>\n",
              "      <td>0</td>\n",
              "      <td>Chất lượng quá kém Mới dùng được 2 ngày loa ba...</td>\n",
              "    </tr>\n",
              "    <tr>\n",
              "      <th>2</th>\n",
              "      <td>0</td>\n",
              "      <td>Usb tôi vừa mới nhận usb này Rất bực bội vì cá...</td>\n",
              "    </tr>\n",
              "    <tr>\n",
              "      <th>3</th>\n",
              "      <td>2</td>\n",
              "      <td>Tuyệt vời. Hàng FPT cửa hàng</td>\n",
              "    </tr>\n",
              "    <tr>\n",
              "      <th>4</th>\n",
              "      <td>1</td>\n",
              "      <td>Chưa đo đúng bước chân rõ Nhiều khi gián đoạn ...</td>\n",
              "    </tr>\n",
              "  </tbody>\n",
              "</table>\n",
              "</div>\n",
              "    <div class=\"colab-df-buttons\">\n",
              "\n",
              "  <div class=\"colab-df-container\">\n",
              "    <button class=\"colab-df-convert\" onclick=\"convertToInteractive('df-4afe49e7-94ca-41d4-9c3b-bb09372dee8d')\"\n",
              "            title=\"Convert this dataframe to an interactive table.\"\n",
              "            style=\"display:none;\">\n",
              "\n",
              "  <svg xmlns=\"http://www.w3.org/2000/svg\" height=\"24px\" viewBox=\"0 -960 960 960\">\n",
              "    <path d=\"M120-120v-720h720v720H120Zm60-500h600v-160H180v160Zm220 220h160v-160H400v160Zm0 220h160v-160H400v160ZM180-400h160v-160H180v160Zm440 0h160v-160H620v160ZM180-180h160v-160H180v160Zm440 0h160v-160H620v160Z\"/>\n",
              "  </svg>\n",
              "    </button>\n",
              "\n",
              "  <style>\n",
              "    .colab-df-container {\n",
              "      display:flex;\n",
              "      gap: 12px;\n",
              "    }\n",
              "\n",
              "    .colab-df-convert {\n",
              "      background-color: #E8F0FE;\n",
              "      border: none;\n",
              "      border-radius: 50%;\n",
              "      cursor: pointer;\n",
              "      display: none;\n",
              "      fill: #1967D2;\n",
              "      height: 32px;\n",
              "      padding: 0 0 0 0;\n",
              "      width: 32px;\n",
              "    }\n",
              "\n",
              "    .colab-df-convert:hover {\n",
              "      background-color: #E2EBFA;\n",
              "      box-shadow: 0px 1px 2px rgba(60, 64, 67, 0.3), 0px 1px 3px 1px rgba(60, 64, 67, 0.15);\n",
              "      fill: #174EA6;\n",
              "    }\n",
              "\n",
              "    .colab-df-buttons div {\n",
              "      margin-bottom: 4px;\n",
              "    }\n",
              "\n",
              "    [theme=dark] .colab-df-convert {\n",
              "      background-color: #3B4455;\n",
              "      fill: #D2E3FC;\n",
              "    }\n",
              "\n",
              "    [theme=dark] .colab-df-convert:hover {\n",
              "      background-color: #434B5C;\n",
              "      box-shadow: 0px 1px 3px 1px rgba(0, 0, 0, 0.15);\n",
              "      filter: drop-shadow(0px 1px 2px rgba(0, 0, 0, 0.3));\n",
              "      fill: #FFFFFF;\n",
              "    }\n",
              "  </style>\n",
              "\n",
              "    <script>\n",
              "      const buttonEl =\n",
              "        document.querySelector('#df-4afe49e7-94ca-41d4-9c3b-bb09372dee8d button.colab-df-convert');\n",
              "      buttonEl.style.display =\n",
              "        google.colab.kernel.accessAllowed ? 'block' : 'none';\n",
              "\n",
              "      async function convertToInteractive(key) {\n",
              "        const element = document.querySelector('#df-4afe49e7-94ca-41d4-9c3b-bb09372dee8d');\n",
              "        const dataTable =\n",
              "          await google.colab.kernel.invokeFunction('convertToInteractive',\n",
              "                                                    [key], {});\n",
              "        if (!dataTable) return;\n",
              "\n",
              "        const docLinkHtml = 'Like what you see? Visit the ' +\n",
              "          '<a target=\"_blank\" href=https://colab.research.google.com/notebooks/data_table.ipynb>data table notebook</a>'\n",
              "          + ' to learn more about interactive tables.';\n",
              "        element.innerHTML = '';\n",
              "        dataTable['output_type'] = 'display_data';\n",
              "        await google.colab.output.renderOutput(dataTable, element);\n",
              "        const docLink = document.createElement('div');\n",
              "        docLink.innerHTML = docLinkHtml;\n",
              "        element.appendChild(docLink);\n",
              "      }\n",
              "    </script>\n",
              "  </div>\n",
              "\n",
              "\n",
              "    <div id=\"df-c0483079-2306-463f-af98-dd8162d2a1c0\">\n",
              "      <button class=\"colab-df-quickchart\" onclick=\"quickchart('df-c0483079-2306-463f-af98-dd8162d2a1c0')\"\n",
              "                title=\"Suggest charts\"\n",
              "                style=\"display:none;\">\n",
              "\n",
              "<svg xmlns=\"http://www.w3.org/2000/svg\" height=\"24px\"viewBox=\"0 0 24 24\"\n",
              "     width=\"24px\">\n",
              "    <g>\n",
              "        <path d=\"M19 3H5c-1.1 0-2 .9-2 2v14c0 1.1.9 2 2 2h14c1.1 0 2-.9 2-2V5c0-1.1-.9-2-2-2zM9 17H7v-7h2v7zm4 0h-2V7h2v10zm4 0h-2v-4h2v4z\"/>\n",
              "    </g>\n",
              "</svg>\n",
              "      </button>\n",
              "\n",
              "<style>\n",
              "  .colab-df-quickchart {\n",
              "      --bg-color: #E8F0FE;\n",
              "      --fill-color: #1967D2;\n",
              "      --hover-bg-color: #E2EBFA;\n",
              "      --hover-fill-color: #174EA6;\n",
              "      --disabled-fill-color: #AAA;\n",
              "      --disabled-bg-color: #DDD;\n",
              "  }\n",
              "\n",
              "  [theme=dark] .colab-df-quickchart {\n",
              "      --bg-color: #3B4455;\n",
              "      --fill-color: #D2E3FC;\n",
              "      --hover-bg-color: #434B5C;\n",
              "      --hover-fill-color: #FFFFFF;\n",
              "      --disabled-bg-color: #3B4455;\n",
              "      --disabled-fill-color: #666;\n",
              "  }\n",
              "\n",
              "  .colab-df-quickchart {\n",
              "    background-color: var(--bg-color);\n",
              "    border: none;\n",
              "    border-radius: 50%;\n",
              "    cursor: pointer;\n",
              "    display: none;\n",
              "    fill: var(--fill-color);\n",
              "    height: 32px;\n",
              "    padding: 0;\n",
              "    width: 32px;\n",
              "  }\n",
              "\n",
              "  .colab-df-quickchart:hover {\n",
              "    background-color: var(--hover-bg-color);\n",
              "    box-shadow: 0 1px 2px rgba(60, 64, 67, 0.3), 0 1px 3px 1px rgba(60, 64, 67, 0.15);\n",
              "    fill: var(--button-hover-fill-color);\n",
              "  }\n",
              "\n",
              "  .colab-df-quickchart-complete:disabled,\n",
              "  .colab-df-quickchart-complete:disabled:hover {\n",
              "    background-color: var(--disabled-bg-color);\n",
              "    fill: var(--disabled-fill-color);\n",
              "    box-shadow: none;\n",
              "  }\n",
              "\n",
              "  .colab-df-spinner {\n",
              "    border: 2px solid var(--fill-color);\n",
              "    border-color: transparent;\n",
              "    border-bottom-color: var(--fill-color);\n",
              "    animation:\n",
              "      spin 1s steps(1) infinite;\n",
              "  }\n",
              "\n",
              "  @keyframes spin {\n",
              "    0% {\n",
              "      border-color: transparent;\n",
              "      border-bottom-color: var(--fill-color);\n",
              "      border-left-color: var(--fill-color);\n",
              "    }\n",
              "    20% {\n",
              "      border-color: transparent;\n",
              "      border-left-color: var(--fill-color);\n",
              "      border-top-color: var(--fill-color);\n",
              "    }\n",
              "    30% {\n",
              "      border-color: transparent;\n",
              "      border-left-color: var(--fill-color);\n",
              "      border-top-color: var(--fill-color);\n",
              "      border-right-color: var(--fill-color);\n",
              "    }\n",
              "    40% {\n",
              "      border-color: transparent;\n",
              "      border-right-color: var(--fill-color);\n",
              "      border-top-color: var(--fill-color);\n",
              "    }\n",
              "    60% {\n",
              "      border-color: transparent;\n",
              "      border-right-color: var(--fill-color);\n",
              "    }\n",
              "    80% {\n",
              "      border-color: transparent;\n",
              "      border-right-color: var(--fill-color);\n",
              "      border-bottom-color: var(--fill-color);\n",
              "    }\n",
              "    90% {\n",
              "      border-color: transparent;\n",
              "      border-bottom-color: var(--fill-color);\n",
              "    }\n",
              "  }\n",
              "</style>\n",
              "\n",
              "      <script>\n",
              "        async function quickchart(key) {\n",
              "          const quickchartButtonEl =\n",
              "            document.querySelector('#' + key + ' button');\n",
              "          quickchartButtonEl.disabled = true;  // To prevent multiple clicks.\n",
              "          quickchartButtonEl.classList.add('colab-df-spinner');\n",
              "          try {\n",
              "            const charts = await google.colab.kernel.invokeFunction(\n",
              "                'suggestCharts', [key], {});\n",
              "          } catch (error) {\n",
              "            console.error('Error during call to suggestCharts:', error);\n",
              "          }\n",
              "          quickchartButtonEl.classList.remove('colab-df-spinner');\n",
              "          quickchartButtonEl.classList.add('colab-df-quickchart-complete');\n",
              "        }\n",
              "        (() => {\n",
              "          let quickchartButtonEl =\n",
              "            document.querySelector('#df-c0483079-2306-463f-af98-dd8162d2a1c0 button');\n",
              "          quickchartButtonEl.style.display =\n",
              "            google.colab.kernel.accessAllowed ? 'block' : 'none';\n",
              "        })();\n",
              "      </script>\n",
              "    </div>\n",
              "\n",
              "    </div>\n",
              "  </div>\n"
            ],
            "application/vnd.google.colaboratory.intrinsic+json": {
              "type": "dataframe",
              "variable_name": "df",
              "summary": "{\n  \"name\": \"df\",\n  \"rows\": 3039,\n  \"fields\": [\n    {\n      \"column\": \"label\",\n      \"properties\": {\n        \"dtype\": \"number\",\n        \"std\": 0,\n        \"min\": 0,\n        \"max\": 2,\n        \"num_unique_values\": 3,\n        \"samples\": [\n          0,\n          2,\n          1\n        ],\n        \"semantic_type\": \"\",\n        \"description\": \"\"\n      }\n    },\n    {\n      \"column\": \"text\",\n      \"properties\": {\n        \"dtype\": \"string\",\n        \"num_unique_values\": 2997,\n        \"samples\": [\n          \"v\\u1eeba r\\u1ebb ch\\u1ea5t l\\u01b0\\u1ee3ng l\\u1ea1i r\\u1ea5t t\\u1ed1t \\u1ea1\",\n          \"m\\u1eb7c d\\u00f9 d\\u00e2y h\\u01a1i nh\\u1ecf nh\\u01b0ng kh\\u00f4ng \\u1ea3nh h\\u01b0\\u1edfng nhi\\u1ec1u\",\n          \"L\\u1ea7n \\u0111\\u1ea7u mua h\\u00e0ng \\u1edf lazada m\\u00e0 h\\u01a1i th\\u1ea5t v\\u1ecdng c\\u00e1ch v\\u1eadn chuy\\u00ean. C\\u00f2n v\\u1ec1 m\\u00e1y th\\u00ec \\u1ed5n nh\\u00e9, m\\u00e3 VNA c\\u00f3 tem c\\u1ee7a FPT Shop!\"\n        ],\n        \"semantic_type\": \"\",\n        \"description\": \"\"\n      }\n    }\n  ]\n}"
            }
          },
          "metadata": {},
          "execution_count": 5
        }
      ],
      "source": [
        "import pandas as pd\n",
        "\n",
        "df = pd.read_csv(\"./train.csv\")\n",
        "df.columns = [\"label\", \"text\"]\n",
        "df.head()"
      ]
    },
    {
      "cell_type": "markdown",
      "source": [
        "## 2. Data Preprocessing\n",
        "- Lower case\n",
        "- Xóa dấu câu\n",
        "- Xóa các kí tự đặc biệt\n",
        "- Xóa emoji\n",
        "- Xóa dấu xuống dòng \"\\n\""
      ],
      "metadata": {
        "id": "oSd-JJXvzy6L"
      }
    },
    {
      "cell_type": "code",
      "source": [
        "import string\n",
        "import re\n",
        "text = 'text'\n",
        "# lower key\n",
        "df[text] = df[text].str.lower()\n",
        "\n",
        "# Drop punctuation\n",
        "df[text] = df[text].str.translate(str.maketrans('', '', string.punctuation))\n",
        "\n",
        "# Remove special characters\n",
        "df[text] = df[text].apply(lambda text: re.sub(r'[^\\w\\s]', ' ', text))\n",
        "\n",
        "# Remove emoji\n",
        "emoji_pattern = re.compile(\"[\"\n",
        "                                u\"\\U0001F600-\\U0001F64F\"  # emoticons\n",
        "                                u\"\\U0001F300-\\U0001F5FF\"  # symbols & pictographs\n",
        "                                u\"\\U0001F680-\\U0001F6FF\"  # transport & map symbols\n",
        "                                u\"\\U0001F1E0-\\U0001F1FF\"  # flags (iOS)\n",
        "                                u\"\\U00002702-\\U000027B0\"\n",
        "                                u\"\\U000024C2-\\U0001F251\"\n",
        "                                \"]+\", flags=re.UNICODE)\n",
        "df[text] = df[text].apply(lambda text: emoji_pattern.sub(r'', text))\n",
        "\n",
        "df[text] = df[text].str.replace(r'\\r\\n', ' ', regex=True).str.replace(r'\\n', ' ', regex=True)\n",
        "df.head()"
      ],
      "metadata": {
        "colab": {
          "base_uri": "https://localhost:8080/",
          "height": 206
        },
        "id": "nDlvF-BkzRzu",
        "outputId": "3e004c25-a8ba-4dc7-f08e-b676fd79f8fe"
      },
      "execution_count": 6,
      "outputs": [
        {
          "output_type": "execute_result",
          "data": {
            "text/plain": [
              "   label                                               text\n",
              "0      0  chỉ có dây cáp nguồn không có adapter sao sử d...\n",
              "1      0  chất lượng quá kém mới dùng được 2 ngày loa ba...\n",
              "2      0  usb tôi vừa mới nhận usb này rất bực bội vì cá...\n",
              "3      2                        tuyệt vời hàng fpt cửa hàng\n",
              "4      1  chưa đo đúng bước chân rõ nhiều khi gián đoạn ..."
            ],
            "text/html": [
              "\n",
              "  <div id=\"df-328500f9-8535-4b1b-9f87-ab6af403e78f\" class=\"colab-df-container\">\n",
              "    <div>\n",
              "<style scoped>\n",
              "    .dataframe tbody tr th:only-of-type {\n",
              "        vertical-align: middle;\n",
              "    }\n",
              "\n",
              "    .dataframe tbody tr th {\n",
              "        vertical-align: top;\n",
              "    }\n",
              "\n",
              "    .dataframe thead th {\n",
              "        text-align: right;\n",
              "    }\n",
              "</style>\n",
              "<table border=\"1\" class=\"dataframe\">\n",
              "  <thead>\n",
              "    <tr style=\"text-align: right;\">\n",
              "      <th></th>\n",
              "      <th>label</th>\n",
              "      <th>text</th>\n",
              "    </tr>\n",
              "  </thead>\n",
              "  <tbody>\n",
              "    <tr>\n",
              "      <th>0</th>\n",
              "      <td>0</td>\n",
              "      <td>chỉ có dây cáp nguồn không có adapter sao sử d...</td>\n",
              "    </tr>\n",
              "    <tr>\n",
              "      <th>1</th>\n",
              "      <td>0</td>\n",
              "      <td>chất lượng quá kém mới dùng được 2 ngày loa ba...</td>\n",
              "    </tr>\n",
              "    <tr>\n",
              "      <th>2</th>\n",
              "      <td>0</td>\n",
              "      <td>usb tôi vừa mới nhận usb này rất bực bội vì cá...</td>\n",
              "    </tr>\n",
              "    <tr>\n",
              "      <th>3</th>\n",
              "      <td>2</td>\n",
              "      <td>tuyệt vời hàng fpt cửa hàng</td>\n",
              "    </tr>\n",
              "    <tr>\n",
              "      <th>4</th>\n",
              "      <td>1</td>\n",
              "      <td>chưa đo đúng bước chân rõ nhiều khi gián đoạn ...</td>\n",
              "    </tr>\n",
              "  </tbody>\n",
              "</table>\n",
              "</div>\n",
              "    <div class=\"colab-df-buttons\">\n",
              "\n",
              "  <div class=\"colab-df-container\">\n",
              "    <button class=\"colab-df-convert\" onclick=\"convertToInteractive('df-328500f9-8535-4b1b-9f87-ab6af403e78f')\"\n",
              "            title=\"Convert this dataframe to an interactive table.\"\n",
              "            style=\"display:none;\">\n",
              "\n",
              "  <svg xmlns=\"http://www.w3.org/2000/svg\" height=\"24px\" viewBox=\"0 -960 960 960\">\n",
              "    <path d=\"M120-120v-720h720v720H120Zm60-500h600v-160H180v160Zm220 220h160v-160H400v160Zm0 220h160v-160H400v160ZM180-400h160v-160H180v160Zm440 0h160v-160H620v160ZM180-180h160v-160H180v160Zm440 0h160v-160H620v160Z\"/>\n",
              "  </svg>\n",
              "    </button>\n",
              "\n",
              "  <style>\n",
              "    .colab-df-container {\n",
              "      display:flex;\n",
              "      gap: 12px;\n",
              "    }\n",
              "\n",
              "    .colab-df-convert {\n",
              "      background-color: #E8F0FE;\n",
              "      border: none;\n",
              "      border-radius: 50%;\n",
              "      cursor: pointer;\n",
              "      display: none;\n",
              "      fill: #1967D2;\n",
              "      height: 32px;\n",
              "      padding: 0 0 0 0;\n",
              "      width: 32px;\n",
              "    }\n",
              "\n",
              "    .colab-df-convert:hover {\n",
              "      background-color: #E2EBFA;\n",
              "      box-shadow: 0px 1px 2px rgba(60, 64, 67, 0.3), 0px 1px 3px 1px rgba(60, 64, 67, 0.15);\n",
              "      fill: #174EA6;\n",
              "    }\n",
              "\n",
              "    .colab-df-buttons div {\n",
              "      margin-bottom: 4px;\n",
              "    }\n",
              "\n",
              "    [theme=dark] .colab-df-convert {\n",
              "      background-color: #3B4455;\n",
              "      fill: #D2E3FC;\n",
              "    }\n",
              "\n",
              "    [theme=dark] .colab-df-convert:hover {\n",
              "      background-color: #434B5C;\n",
              "      box-shadow: 0px 1px 3px 1px rgba(0, 0, 0, 0.15);\n",
              "      filter: drop-shadow(0px 1px 2px rgba(0, 0, 0, 0.3));\n",
              "      fill: #FFFFFF;\n",
              "    }\n",
              "  </style>\n",
              "\n",
              "    <script>\n",
              "      const buttonEl =\n",
              "        document.querySelector('#df-328500f9-8535-4b1b-9f87-ab6af403e78f button.colab-df-convert');\n",
              "      buttonEl.style.display =\n",
              "        google.colab.kernel.accessAllowed ? 'block' : 'none';\n",
              "\n",
              "      async function convertToInteractive(key) {\n",
              "        const element = document.querySelector('#df-328500f9-8535-4b1b-9f87-ab6af403e78f');\n",
              "        const dataTable =\n",
              "          await google.colab.kernel.invokeFunction('convertToInteractive',\n",
              "                                                    [key], {});\n",
              "        if (!dataTable) return;\n",
              "\n",
              "        const docLinkHtml = 'Like what you see? Visit the ' +\n",
              "          '<a target=\"_blank\" href=https://colab.research.google.com/notebooks/data_table.ipynb>data table notebook</a>'\n",
              "          + ' to learn more about interactive tables.';\n",
              "        element.innerHTML = '';\n",
              "        dataTable['output_type'] = 'display_data';\n",
              "        await google.colab.output.renderOutput(dataTable, element);\n",
              "        const docLink = document.createElement('div');\n",
              "        docLink.innerHTML = docLinkHtml;\n",
              "        element.appendChild(docLink);\n",
              "      }\n",
              "    </script>\n",
              "  </div>\n",
              "\n",
              "\n",
              "    <div id=\"df-0f5491fd-736a-4cf5-a7d9-423294b65666\">\n",
              "      <button class=\"colab-df-quickchart\" onclick=\"quickchart('df-0f5491fd-736a-4cf5-a7d9-423294b65666')\"\n",
              "                title=\"Suggest charts\"\n",
              "                style=\"display:none;\">\n",
              "\n",
              "<svg xmlns=\"http://www.w3.org/2000/svg\" height=\"24px\"viewBox=\"0 0 24 24\"\n",
              "     width=\"24px\">\n",
              "    <g>\n",
              "        <path d=\"M19 3H5c-1.1 0-2 .9-2 2v14c0 1.1.9 2 2 2h14c1.1 0 2-.9 2-2V5c0-1.1-.9-2-2-2zM9 17H7v-7h2v7zm4 0h-2V7h2v10zm4 0h-2v-4h2v4z\"/>\n",
              "    </g>\n",
              "</svg>\n",
              "      </button>\n",
              "\n",
              "<style>\n",
              "  .colab-df-quickchart {\n",
              "      --bg-color: #E8F0FE;\n",
              "      --fill-color: #1967D2;\n",
              "      --hover-bg-color: #E2EBFA;\n",
              "      --hover-fill-color: #174EA6;\n",
              "      --disabled-fill-color: #AAA;\n",
              "      --disabled-bg-color: #DDD;\n",
              "  }\n",
              "\n",
              "  [theme=dark] .colab-df-quickchart {\n",
              "      --bg-color: #3B4455;\n",
              "      --fill-color: #D2E3FC;\n",
              "      --hover-bg-color: #434B5C;\n",
              "      --hover-fill-color: #FFFFFF;\n",
              "      --disabled-bg-color: #3B4455;\n",
              "      --disabled-fill-color: #666;\n",
              "  }\n",
              "\n",
              "  .colab-df-quickchart {\n",
              "    background-color: var(--bg-color);\n",
              "    border: none;\n",
              "    border-radius: 50%;\n",
              "    cursor: pointer;\n",
              "    display: none;\n",
              "    fill: var(--fill-color);\n",
              "    height: 32px;\n",
              "    padding: 0;\n",
              "    width: 32px;\n",
              "  }\n",
              "\n",
              "  .colab-df-quickchart:hover {\n",
              "    background-color: var(--hover-bg-color);\n",
              "    box-shadow: 0 1px 2px rgba(60, 64, 67, 0.3), 0 1px 3px 1px rgba(60, 64, 67, 0.15);\n",
              "    fill: var(--button-hover-fill-color);\n",
              "  }\n",
              "\n",
              "  .colab-df-quickchart-complete:disabled,\n",
              "  .colab-df-quickchart-complete:disabled:hover {\n",
              "    background-color: var(--disabled-bg-color);\n",
              "    fill: var(--disabled-fill-color);\n",
              "    box-shadow: none;\n",
              "  }\n",
              "\n",
              "  .colab-df-spinner {\n",
              "    border: 2px solid var(--fill-color);\n",
              "    border-color: transparent;\n",
              "    border-bottom-color: var(--fill-color);\n",
              "    animation:\n",
              "      spin 1s steps(1) infinite;\n",
              "  }\n",
              "\n",
              "  @keyframes spin {\n",
              "    0% {\n",
              "      border-color: transparent;\n",
              "      border-bottom-color: var(--fill-color);\n",
              "      border-left-color: var(--fill-color);\n",
              "    }\n",
              "    20% {\n",
              "      border-color: transparent;\n",
              "      border-left-color: var(--fill-color);\n",
              "      border-top-color: var(--fill-color);\n",
              "    }\n",
              "    30% {\n",
              "      border-color: transparent;\n",
              "      border-left-color: var(--fill-color);\n",
              "      border-top-color: var(--fill-color);\n",
              "      border-right-color: var(--fill-color);\n",
              "    }\n",
              "    40% {\n",
              "      border-color: transparent;\n",
              "      border-right-color: var(--fill-color);\n",
              "      border-top-color: var(--fill-color);\n",
              "    }\n",
              "    60% {\n",
              "      border-color: transparent;\n",
              "      border-right-color: var(--fill-color);\n",
              "    }\n",
              "    80% {\n",
              "      border-color: transparent;\n",
              "      border-right-color: var(--fill-color);\n",
              "      border-bottom-color: var(--fill-color);\n",
              "    }\n",
              "    90% {\n",
              "      border-color: transparent;\n",
              "      border-bottom-color: var(--fill-color);\n",
              "    }\n",
              "  }\n",
              "</style>\n",
              "\n",
              "      <script>\n",
              "        async function quickchart(key) {\n",
              "          const quickchartButtonEl =\n",
              "            document.querySelector('#' + key + ' button');\n",
              "          quickchartButtonEl.disabled = true;  // To prevent multiple clicks.\n",
              "          quickchartButtonEl.classList.add('colab-df-spinner');\n",
              "          try {\n",
              "            const charts = await google.colab.kernel.invokeFunction(\n",
              "                'suggestCharts', [key], {});\n",
              "          } catch (error) {\n",
              "            console.error('Error during call to suggestCharts:', error);\n",
              "          }\n",
              "          quickchartButtonEl.classList.remove('colab-df-spinner');\n",
              "          quickchartButtonEl.classList.add('colab-df-quickchart-complete');\n",
              "        }\n",
              "        (() => {\n",
              "          let quickchartButtonEl =\n",
              "            document.querySelector('#df-0f5491fd-736a-4cf5-a7d9-423294b65666 button');\n",
              "          quickchartButtonEl.style.display =\n",
              "            google.colab.kernel.accessAllowed ? 'block' : 'none';\n",
              "        })();\n",
              "      </script>\n",
              "    </div>\n",
              "\n",
              "    </div>\n",
              "  </div>\n"
            ],
            "application/vnd.google.colaboratory.intrinsic+json": {
              "type": "dataframe",
              "variable_name": "df",
              "summary": "{\n  \"name\": \"df\",\n  \"rows\": 3039,\n  \"fields\": [\n    {\n      \"column\": \"label\",\n      \"properties\": {\n        \"dtype\": \"number\",\n        \"std\": 0,\n        \"min\": 0,\n        \"max\": 2,\n        \"num_unique_values\": 3,\n        \"samples\": [\n          0,\n          2,\n          1\n        ],\n        \"semantic_type\": \"\",\n        \"description\": \"\"\n      }\n    },\n    {\n      \"column\": \"text\",\n      \"properties\": {\n        \"dtype\": \"string\",\n        \"num_unique_values\": 2993,\n        \"samples\": [\n          \"kh\\u00f4ng k\\u00edch ho\\u1ea1t b\\u1ea3o h\\u00e0nh mua t\\u1eeb r\\u1ea5t l\\u00e2u r\\u1ed3i \\u0111\\u00e3 g\\u1eedi email b\\u00e1o 1 tu\\u1ea7n k\\u00edch ho\\u1ea1t b\\u1ea3o h\\u00e0nh nh\\u01b0ng \\u0111\\u1ebfn b\\u00e2y gi\\u1edd ki\\u1ec3m tra v\\u1eabn kh\\u00f4ng \\u0111\\u01b0\\u1ee3c b\\u1ea3o h\\u00e0nh ch\\u1ec9 n\\u00f3i m\\u1ed3m xu\\u1ed1ng v\\u1eady s\\u1ebd l\\u00e0 l\\u1ea7n cu\\u1ed1i c\\u00f9ng mua h\\u00e0ng t\\u1ea1i \\u0111\\u00e2y\",\n          \"ch\\u1ec9 m\\u00ecnh c\\u00e1ch active b\\u1ea3o h\\u00e0nh nha tiki ch\\u1ec9 m\\u00ecnh c\\u00e1ch active b\\u1ea3o h\\u00e0nh nha tiki m\\u00ecnh m\\u1edbi mua h\\u00f4m qua\",\n          \"pin th\\u1ea5p  kh\\u00f4ng t\\u1ed1t\"\n        ],\n        \"semantic_type\": \"\",\n        \"description\": \"\"\n      }\n    }\n  ]\n}"
            }
          },
          "metadata": {},
          "execution_count": 6
        }
      ]
    },
    {
      "cell_type": "markdown",
      "source": [
        "## 3. Data Engineering\n",
        "- Split data với tập train là 90%, test là 10%\n",
        "- Sử dụng **Tf-idf** để tạo thêm feature cho các mô hình linear"
      ],
      "metadata": {
        "id": "QTP0Nvl5m_Xd"
      }
    },
    {
      "cell_type": "code",
      "source": [
        "from sklearn.model_selection import train_test_split\n",
        "X = df['text']\n",
        "y = df['label']\n",
        "X_train, X_test, y_train, y_test = train_test_split(X, y, test_size = 0.1, random_state = 13)\n",
        "print(f'------------total train data {len(X_train)}')\n",
        "print(f'label {0} has { y_train.value_counts()[0] } datapoint')\n",
        "print(f'label {1} has { y_train.value_counts()[1]} datapoint')\n",
        "print(f'label {2} has { y_train.value_counts()[2] } datapoint')\n",
        "print()\n",
        "\n",
        "print(f'------------total test data {len(X_test)}')\n",
        "print(f'label {0} has { y_train.value_counts()[0] } datapoint')\n",
        "print(f'label {1} has { y_train.value_counts()[1] } datapoint')\n",
        "print(f'label {2} has { y_train.value_counts()[2] } datapoint')"
      ],
      "metadata": {
        "id": "Dt3_KML6zrxA",
        "colab": {
          "base_uri": "https://localhost:8080/"
        },
        "outputId": "447a876c-eafb-4427-cedb-cf73c2ac8bf2"
      },
      "execution_count": 11,
      "outputs": [
        {
          "output_type": "stream",
          "name": "stdout",
          "text": [
            "------------total train data 2735\n",
            "label 0 has 989 datapoint\n",
            "label 1 has 794 datapoint\n",
            "label 2 has 952 datapoint\n",
            "\n",
            "------------total test data 304\n",
            "label 0 has 989 datapoint\n",
            "label 1 has 794 datapoint\n",
            "label 2 has 952 datapoint\n"
          ]
        }
      ]
    },
    {
      "cell_type": "code",
      "source": [
        "from sklearn.feature_extraction.text import TfidfVectorizer\n",
        "tfidf_vectorizer = TfidfVectorizer()\n",
        "\n",
        "X_train_vectors = tfidf_vectorizer.fit_transform(X_train)\n",
        "X_test_vectors = tfidf_vectorizer.transform(X_test)\n",
        "\n",
        "tfidf_vectorizer.get_feature_names_out()"
      ],
      "metadata": {
        "colab": {
          "base_uri": "https://localhost:8080/"
        },
        "id": "MyE6pOGBodGF",
        "outputId": "23bfcedc-0c45-4467-f2d2-ca05233b4fb2"
      },
      "execution_count": 12,
      "outputs": [
        {
          "output_type": "execute_result",
          "data": {
            "text/plain": [
              "array(['01', '02', '03', ..., 'ủng', 'ức', 'ứng'], dtype=object)"
            ]
          },
          "metadata": {},
          "execution_count": 12
        }
      ]
    },
    {
      "cell_type": "code",
      "source": [
        "print(f'tf-idf len vocal : {X_train_vectors.shape[-1]}')\n",
        "print(f'tf-idf len vocal : {X_test_vectors.shape[-1]}')"
      ],
      "metadata": {
        "colab": {
          "base_uri": "https://localhost:8080/"
        },
        "id": "pmFNEx0wozAh",
        "outputId": "fa1e53a8-4e0d-4ee0-aad1-50061cd534ec"
      },
      "execution_count": 13,
      "outputs": [
        {
          "output_type": "stream",
          "name": "stdout",
          "text": [
            "tf-idf len vocal : 3328\n",
            "tf-idf len vocal : 3328\n"
          ]
        }
      ]
    },
    {
      "cell_type": "markdown",
      "source": [
        "## 4. Naive Bayes model\n",
        "- Chọn multinomial vì Gaussian không phù hợ cho phân loại văn bản.\n",
        "- Văn bản thường thuộc dạng data rời rạc, không liên tục\n",
        "- Xuất ra các kết quả trên tập test"
      ],
      "metadata": {
        "id": "Da5Mb4OJqalA"
      }
    },
    {
      "cell_type": "code",
      "source": [
        "from sklearn.naive_bayes import MultinomialNB\n",
        "\n",
        "# Create model Naive Bayes\n",
        "mnb = MultinomialNB()\n",
        "\n",
        "# Fit model\n",
        "mnb.fit(X_train_vectors, y_train)\n",
        "\n",
        "# Predict\n",
        "y_test_pred_mnb = mnb.predict(X_test_vectors)"
      ],
      "metadata": {
        "id": "LOK8bq2no68V"
      },
      "execution_count": 23,
      "outputs": []
    },
    {
      "cell_type": "code",
      "source": [
        "import sklearn.metrics as metrics\n",
        "\n",
        "accuracy = metrics.accuracy_score(y_true = y_test, y_pred = y_test_pred_mnb)\n",
        "print(f'The test accuracy is: {accuracy}')\n",
        "\n",
        "f1_score = metrics.f1_score(y_true = y_test, y_pred = y_test_pred_mnb, average = None)\n",
        "print(f'The test f1_score is: {f1_score}')\n",
        "\n",
        "f1_micro = metrics.f1_score(y_true = y_test, y_pred = y_test_pred_mnb, average = 'micro')\n",
        "print(f'The test f1_micro is: {f1_micro}')\n",
        "\n",
        "f1_macro = metrics.f1_score(y_true = y_test, y_pred = y_test_pred_mnb, average = 'macro')\n",
        "print(f'The test f1_macro is: {f1_macro}')"
      ],
      "metadata": {
        "colab": {
          "base_uri": "https://localhost:8080/"
        },
        "id": "J5s8_V5BqTnR",
        "outputId": "cc951e6c-77e7-4efe-c9ef-a4c9871f8c61"
      },
      "execution_count": 24,
      "outputs": [
        {
          "output_type": "stream",
          "name": "stdout",
          "text": [
            "The test accuracy is: 0.7763157894736842\n",
            "The test f1_score is: [0.82008368 0.63803681 0.83495146]\n",
            "The test f1_micro is: 0.7763157894736842\n",
            "The test f1_macro is: 0.7643573160449996\n"
          ]
        }
      ]
    },
    {
      "cell_type": "code",
      "source": [
        "from sklearn.metrics import classification_report\n",
        "\n",
        "# Xuất ra classification report\n",
        "print(classification_report(y_test, y_test_pred_mnb))"
      ],
      "metadata": {
        "colab": {
          "base_uri": "https://localhost:8080/"
        },
        "id": "6GCT24IvrYpZ",
        "outputId": "dd79212c-27c5-4f24-83dc-d522174a087d"
      },
      "execution_count": 25,
      "outputs": [
        {
          "output_type": "stream",
          "name": "stdout",
          "text": [
            "              precision    recall  f1-score   support\n",
            "\n",
            "           0       0.79      0.85      0.82       115\n",
            "           1       0.74      0.56      0.64        93\n",
            "           2       0.78      0.90      0.83        96\n",
            "\n",
            "    accuracy                           0.78       304\n",
            "   macro avg       0.77      0.77      0.76       304\n",
            "weighted avg       0.77      0.78      0.77       304\n",
            "\n"
          ]
        }
      ]
    },
    {
      "cell_type": "code",
      "source": [
        "import matplotlib.pyplot as plt\n",
        "import seaborn as sns\n",
        "cm_test = metrics.confusion_matrix(y_true = y_test, y_pred = y_test_pred_mnb)\n",
        "plt.figure(figsize=(8, 6))\n",
        "sns.heatmap(cm_test, annot=True, fmt=\"d\")\n",
        "plt.title(\"Confusion Matrix\")\n",
        "plt.xlabel(\"Predicted\")\n",
        "plt.ylabel(\"Actual\")\n",
        "plt.show()"
      ],
      "metadata": {
        "colab": {
          "base_uri": "https://localhost:8080/",
          "height": 564
        },
        "id": "sgbPKEJcrbh8",
        "outputId": "57e4ef11-05ad-4eec-fc44-234e6c8a50f2"
      },
      "execution_count": 26,
      "outputs": [
        {
          "output_type": "display_data",
          "data": {
            "text/plain": [
              "<Figure size 800x600 with 2 Axes>"
            ],
            "image/png": "[encoded data removed]"
          },
          "metadata": {}
        }
      ]
    },
    {
      "cell_type": "markdown",
      "source": [
        "5. SVM\n"
      ],
      "metadata": {
        "id": "rU4kPceir3f8"
      }
    },
    {
      "cell_type": "code",
      "source": [
        "from sklearn import svm\n",
        "\n",
        "#Use Radial Basis Function kernel\n",
        "rbf = svm.SVC()\n",
        "\n",
        "# Fit mô hình trên train data\n",
        "rbf.fit(X_train_vectors, y_train)\n",
        "\n",
        "# Predict trên test data\n",
        "y_test_pred_rbf = rbf.predict(X_test_vectors)"
      ],
      "metadata": {
        "id": "_JEYxPIQrkoH"
      },
      "execution_count": 27,
      "outputs": []
    },
    {
      "cell_type": "code",
      "source": [
        "import sklearn.metrics as metrics\n",
        "\n",
        "accuracy = metrics.accuracy_score(y_true = y_test, y_pred = y_test_pred_rbf)\n",
        "print(f'The test accuracy is: {accuracy}')\n",
        "\n",
        "f1_score = metrics.f1_score(y_true = y_test, y_pred = y_test_pred_rbf, average = None)\n",
        "print(f'The test f1_score is: {f1_score}')\n",
        "\n",
        "f1_micro = metrics.f1_score(y_true = y_test, y_pred = y_test_pred_rbf, average = 'micro')\n",
        "print(f'The test f1_micro is: {f1_micro}')\n",
        "\n",
        "f1_macro = metrics.f1_score(y_true = y_test, y_pred = y_test_pred_rbf, average = 'macro')\n",
        "print(f'The test f1_macro is: {f1_macro}')"
      ],
      "metadata": {
        "colab": {
          "base_uri": "https://localhost:8080/"
        },
        "id": "bTFHJKinr_A9",
        "outputId": "99cf7af7-2485-40c7-a12f-0dae8826d5db"
      },
      "execution_count": 28,
      "outputs": [
        {
          "output_type": "stream",
          "name": "stdout",
          "text": [
            "The test accuracy is: 0.8125\n",
            "The test f1_score is: [0.83116883 0.72631579 0.87700535]\n",
            "The test f1_micro is: 0.8125\n",
            "The test f1_macro is: 0.8114966560786995\n"
          ]
        }
      ]
    },
    {
      "cell_type": "code",
      "source": [
        "from sklearn.metrics import classification_report\n",
        "\n",
        "# Xuất ra classification report\n",
        "print(classification_report(y_test, y_test_pred_rbf))"
      ],
      "metadata": {
        "colab": {
          "base_uri": "https://localhost:8080/"
        },
        "id": "V-pUo0UhsBR7",
        "outputId": "8b5f1b5f-d9cf-47dc-f095-4182c6d4d99b"
      },
      "execution_count": 29,
      "outputs": [
        {
          "output_type": "stream",
          "name": "stdout",
          "text": [
            "              precision    recall  f1-score   support\n",
            "\n",
            "           0       0.83      0.83      0.83       115\n",
            "           1       0.71      0.74      0.73        93\n",
            "           2       0.90      0.85      0.88        96\n",
            "\n",
            "    accuracy                           0.81       304\n",
            "   macro avg       0.81      0.81      0.81       304\n",
            "weighted avg       0.82      0.81      0.81       304\n",
            "\n"
          ]
        }
      ]
    },
    {
      "cell_type": "code",
      "source": [
        "cm_test_rbf = metrics.confusion_matrix(y_true = y_test, y_pred = y_test_pred_rbf)\n",
        "plt.figure(figsize=(8, 6))\n",
        "sns.heatmap(cm_test_rbf, annot=True, fmt=\"d\")\n",
        "plt.title(\"Confusion Matrix\")\n",
        "plt.xlabel(\"Predicted\")\n",
        "plt.ylabel(\"Actual\")\n",
        "plt.show()"
      ],
      "metadata": {
        "colab": {
          "base_uri": "https://localhost:8080/",
          "height": 564
        },
        "id": "iJWByQ7gsQ9D",
        "outputId": "f694277c-403c-4f14-dd9b-e78511f69b49"
      },
      "execution_count": 30,
      "outputs": [
        {
          "output_type": "display_data",
          "data": {
            "text/plain": [
              "<Figure size 800x600 with 2 Axes>"
            ],
            "image/png": "[encoded data removed]"
          },
          "metadata": {}
        }
      ]
    },
    {
      "cell_type": "markdown",
      "source": [
        "## 6. Compare Result\n",
        "- So sánh kết quả ở các độ đo: Accuracy, F1-score, Precision, Recall\n",
        "- SVM là mô hình tốt hơn ở hầu hết các score\n",
        "\n"
      ],
      "metadata": {
        "id": "1VuFBbJgtNNH"
      }
    },
    {
      "cell_type": "code",
      "source": [
        "import matplotlib.pyplot as plt\n",
        "import seaborn as sns\n",
        "cm_test = metrics.confusion_matrix(y_true = y_test, y_pred = y_test_pred_mnb)\n",
        "cm_test_rbf = metrics.confusion_matrix(y_true = y_test, y_pred = y_test_pred_rbf)\n",
        "\n",
        "fig, (ax1, ax2) = plt.subplots(1, 2, figsize=(12, 6))\n",
        "\n",
        "sns.heatmap(cm_test, ax = ax1, annot=True, fmt=\"d\")\n",
        "ax1.set_title(\"Confusion Matrix - NaiveBayes\")\n",
        "ax1.set_xlabel(\"Predicted\")\n",
        "ax1.set_ylabel(\"Actual\")\n",
        "\n",
        "sns.heatmap(cm_test_rbf, ax = ax2, cmap=\"YlGnBu\", annot=True, fmt=\"d\")  # Customize colormap and interpolation\n",
        "ax2.set_title(\"Confusion Matrix - SVM\")\n",
        "ax2.set_xlabel(\"Predicted\")\n",
        "ax2.set_ylabel(\"Actual\")\n",
        "\n",
        "plt.tight_layout()\n",
        "plt.show()"
      ],
      "metadata": {
        "colab": {
          "base_uri": "https://localhost:8080/",
          "height": 429
        },
        "id": "ZyBX2_iGsUW-",
        "outputId": "15a6bc5e-3869-4e5d-ecf5-90e7146a24d6"
      },
      "execution_count": 31,
      "outputs": [
        {
          "output_type": "display_data",
          "data": {
            "text/plain": [
              "<Figure size 1200x600 with 4 Axes>"
            ],
            "image/png": "[encoded data removed]"
          },
          "metadata": {}
        }
      ]
    },
    {
      "cell_type": "code",
      "source": [
        "from sklearn.metrics import accuracy_score, precision_score, recall_score, f1_score\n",
        "from tabulate import tabulate\n",
        "\n",
        "def classification_eval(y_test, y_pred):\n",
        "    accuracy  = round(accuracy_score(y_test, y_pred) * 100, 2)\n",
        "    precision = round(precision_score(y_test, y_pred, average='weighted') * 100, 2)\n",
        "    recall    = round(recall_score(y_test, y_pred, average='weighted') * 100, 2)\n",
        "    f1        = round(f1_score(y_test, y_pred, average='weighted') * 100, 2)\n",
        "    return accuracy, precision, recall, f1\n",
        "\n",
        "accuracy_svm, precision_svm, recall_svm, f1_svm = classification_eval(y_test, y_test_pred_rbf)\n",
        "accuracy_nb, precision_nb, recall_nb, f1_nb = classification_eval(y_test, y_test_pred_mnb)\n",
        "\n",
        "results = pd.DataFrame({\n",
        "    'Model': ['SVM','NB'],\n",
        "    'Accuracy': [accuracy_svm,accuracy_nb],\n",
        "    'Precision': [precision_svm,precision_nb],\n",
        "    'Recall': [recall_svm,recall_nb],\n",
        "    'F1 Score': [f1_svm,f1_nb]\n",
        "})\n",
        "\n",
        "# In ra kết quả\n",
        "print(tabulate(results, headers='keys', tablefmt='pretty', showindex=False))"
      ],
      "metadata": {
        "colab": {
          "base_uri": "https://localhost:8080/"
        },
        "id": "Rw27ijQFtT_V",
        "outputId": "c09eb337-026c-4e2f-efde-2406b7af505b"
      },
      "execution_count": 33,
      "outputs": [
        {
          "output_type": "stream",
          "name": "stdout",
          "text": [
            "+-------+----------+-----------+--------+----------+\n",
            "| Model | Accuracy | Precision | Recall | F1 Score |\n",
            "+-------+----------+-----------+--------+----------+\n",
            "|  SVM  |  81.25   |   81.52   | 81.25  |  81.36   |\n",
            "|  NB   |  77.63   |   77.31   | 77.63  |  76.91   |\n",
            "+-------+----------+-----------+--------+----------+\n"
          ]
        }
      ]
    }
  ]
}