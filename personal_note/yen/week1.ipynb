{
  "nbformat": 4,
  "nbformat_minor": 0,
  "metadata": {
    "colab": {
      "provenance": []
    },
    "kernelspec": {
      "name": "python3",
      "display_name": "Python 3"
    },
    "language_info": {
      "name": "python"
    }
  },
  "cells": [
    {
      "cell_type": "markdown",
      "source": [
        "# **PERSONAL NOTE WEEK 01 - TEXT PREPROCESSING**\n",
        "---\n",
        "Mentor: Nguyễn Văn Phước\n",
        "\n",
        "Mentee: Nguyễn Vân Phi Yến #22 - Team 06\n",
        "\n",
        "Document: [NLTK - Processing Raw Text](https://www.nltk.org/book/ch03.html)"
      ],
      "metadata": {
        "id": "vfMm11q-svsC"
      }
    },
    {
      "cell_type": "markdown",
      "source": [
        "# **LIBRARIES**\n",
        "---"
      ],
      "metadata": {
        "id": "yhoYyT2CtrKE"
      }
    },
    {
      "cell_type": "code",
      "execution_count": null,
      "metadata": {
        "colab": {
          "base_uri": "https://localhost:8080/"
        },
        "collapsed": true,
        "id": "f2NUD3xRsGzg",
        "outputId": "17b72d2e-d720-4f83-af0d-9c552ce14ad0"
      },
      "outputs": [
        {
          "output_type": "stream",
          "name": "stdout",
          "text": [
            "Requirement already satisfied: nltk in /usr/local/lib/python3.12/dist-packages (3.9.1)\n",
            "Requirement already satisfied: click in /usr/local/lib/python3.12/dist-packages (from nltk) (8.2.1)\n",
            "Requirement already satisfied: joblib in /usr/local/lib/python3.12/dist-packages (from nltk) (1.5.2)\n",
            "Requirement already satisfied: regex>=2021.8.3 in /usr/local/lib/python3.12/dist-packages (from nltk) (2024.11.6)\n",
            "Requirement already satisfied: tqdm in /usr/local/lib/python3.12/dist-packages (from nltk) (4.67.1)\n"
          ]
        }
      ],
      "source": [
        "!pip install nltk"
      ]
    },
    {
      "cell_type": "code",
      "source": [
        "import nltk, re, pprint\n",
        "from nltk import word_tokenize\n",
        "\n",
        "nltk.download('punkt_tab')"
      ],
      "metadata": {
        "colab": {
          "base_uri": "https://localhost:8080/"
        },
        "id": "KWl-mpBquBwG",
        "outputId": "9edbaf1f-b909-41af-cf3d-21f248c5bae3"
      },
      "execution_count": null,
      "outputs": [
        {
          "output_type": "stream",
          "name": "stderr",
          "text": [
            "[nltk_data] Downloading package punkt_tab to /root/nltk_data...\n",
            "[nltk_data]   Unzipping tokenizers/punkt_tab.zip.\n"
          ]
        },
        {
          "output_type": "execute_result",
          "data": {
            "text/plain": [
              "True"
            ]
          },
          "metadata": {},
          "execution_count": 2
        }
      ]
    },
    {
      "cell_type": "markdown",
      "source": [
        "# **What is NLTK?**\n",
        "---\n",
        "Natural Language Toolkit (NLTK) is a platform for building Python programs to work with human language data. It provides many resources, such as [NLTK Data](https://www.nltk.org/nltk_data/), along with s suite of text processing libraries for **classification, tokenization, stemming, tagging, parsing, and semantic reasioning**, wrappers for industrial-strength NLP libraries."
      ],
      "metadata": {
        "id": "5gR6REiXuW6b"
      }
    },
    {
      "cell_type": "markdown",
      "source": [
        "# **NLP PIPELINE**\n",
        "---\n",
        "An NLP pipeline is a sequence of steps that transforms raw text into structured data for analytics. Typically following as:\n",
        "1. **Input**: Collect raw text (web, files, user input)\n",
        "2. **Cleaning**: Remove markup, handle Unicode, normalize text\n",
        "3. **Tokenization**: Split into sentences or words\n",
        "4. **Normalization**: Lowercasing, stemming, lemmatization\n",
        "5. **Feature Extraction:** Build vocabulary, count frequencies, find collocations\n",
        "6. **Output**: Display, visualize, or save results for further analysis"
      ],
      "metadata": {
        "id": "FBGHByBRy6le"
      }
    },
    {
      "cell_type": "markdown",
      "source": [
        "# **1. INPUT RESOURCES**\n",
        "---\n",
        "You can access text data from many methods: electronc books, website, disk...\n",
        "1.   Electronic Books\n",
        "2.   Dealing with HTML\n",
        "3.   Processing Search Engine Results\n",
        "4.   Processing RSS Feeds\n",
        "5.   Reading Local Files\n",
        "6.   Extracting Text from PDF, MSWord and other Binary Formats\n",
        "\n",
        "\n"
      ],
      "metadata": {
        "id": "p0GHeVHSxQUd"
      }
    },
    {
      "cell_type": "markdown",
      "source": [
        "## **1.1. Electronic Books**"
      ],
      "metadata": {
        "id": "Kg6jQ5210CF4"
      }
    },
    {
      "cell_type": "code",
      "source": [
        "from urllib import request"
      ],
      "metadata": {
        "id": "7rUEc0ihz675"
      },
      "execution_count": null,
      "outputs": []
    },
    {
      "cell_type": "code",
      "source": [
        "url = \"http://www.gutenberg.org/files/2554/2554-0.txt\" #Free online books resource"
      ],
      "metadata": {
        "id": "UX4chvTs0VX_"
      },
      "execution_count": null,
      "outputs": []
    },
    {
      "cell_type": "code",
      "source": [
        "response = request.urlopen(url)\n",
        "raw = response.read().decode('utf8')"
      ],
      "metadata": {
        "id": "I_HdSyQr0aVm"
      },
      "execution_count": null,
      "outputs": []
    },
    {
      "cell_type": "code",
      "source": [
        "type(raw) # type of input data"
      ],
      "metadata": {
        "colab": {
          "base_uri": "https://localhost:8080/"
        },
        "id": "fBjSxMFJ01_Z",
        "outputId": "11522940-2f00-4260-cc19-87d30e2ae4e0"
      },
      "execution_count": null,
      "outputs": [
        {
          "output_type": "execute_result",
          "data": {
            "text/plain": [
              "str"
            ]
          },
          "metadata": {},
          "execution_count": 6
        }
      ]
    },
    {
      "cell_type": "code",
      "source": [
        "raw[:75] # first 75 characters of data"
      ],
      "metadata": {
        "colab": {
          "base_uri": "https://localhost:8080/",
          "height": 52
        },
        "id": "D42Elfqz06XM",
        "outputId": "7d786078-8e70-426d-df61-e347fd39b681"
      },
      "execution_count": null,
      "outputs": [
        {
          "output_type": "execute_result",
          "data": {
            "text/plain": [
              "'*** START OF THE PROJECT GUTENBERG EBOOK 2554 ***\\n\\n\\n\\n\\nCRIME AND PUNISHMENT\\n'"
            ],
            "application/vnd.google.colaboratory.intrinsic+json": {
              "type": "string"
            }
          },
          "metadata": {},
          "execution_count": 7
        }
      ]
    },
    {
      "cell_type": "code",
      "source": [
        "len(raw)"
      ],
      "metadata": {
        "colab": {
          "base_uri": "https://localhost:8080/"
        },
        "id": "nDT76IZk1OQM",
        "outputId": "d457260c-281a-449d-9734-319cbddacc51"
      },
      "execution_count": null,
      "outputs": [
        {
          "output_type": "execute_result",
          "data": {
            "text/plain": [
              "1135213"
            ]
          },
          "metadata": {},
          "execution_count": 8
        }
      ]
    },
    {
      "cell_type": "markdown",
      "source": [
        "## **1.2. HTML**"
      ],
      "metadata": {
        "id": "2OXCtEOc1-20"
      }
    },
    {
      "cell_type": "code",
      "source": [
        "import requests"
      ],
      "metadata": {
        "id": "xNvs7Wrv27Pn"
      },
      "execution_count": null,
      "outputs": []
    },
    {
      "cell_type": "code",
      "source": [
        "# Vietnamese HTML\n",
        "vie_url = \"https://baochinhphu.vn/bo-chinh-tri-cho-y-kien-ve-cong-tac-chuan-bi-dai-hoi-dang-bo-tinh-an-giang-va-lam-dong-102250903195118462.htm\"\n",
        "response = requests.get(vie_url)\n",
        "response.encoding = response.apparent_encoding # Detect apparent encoding\n",
        "vie_html = response.text"
      ],
      "metadata": {
        "id": "A4thtqMD1dTV"
      },
      "execution_count": null,
      "outputs": []
    },
    {
      "cell_type": "code",
      "source": [
        "vie_html[:1000]"
      ],
      "metadata": {
        "colab": {
          "base_uri": "https://localhost:8080/",
          "height": 243
        },
        "id": "LhA8LkE_2xQL",
        "outputId": "af5ee63d-de2a-48be-89cf-25e605e3adb8"
      },
      "execution_count": null,
      "outputs": [
        {
          "output_type": "execute_result",
          "data": {
            "text/plain": [
              "'\\r\\n<!DOCTYPE html>\\r\\n<html lang=\"vi\">\\r\\n<head>\\r\\n    <!-- Robots -->\\r\\n    <meta name=\"googlebot\" content=\"noarchive\" />\\r\\n    <meta name=\"robots\" content=\"index, follow\" />\\r\\n\\r\\n    <title>Bộ Chính trị cho ý kiến về công tác chuẩn bị Đại hội Đảng bộ tỉnh An Giang và Lâm Đồng</title>\\r\\n    <meta name=\"description\" content=\"(Chinhphu.vn) - Ngày 3/9, tại Trụ sở Trung ương Đảng, đại diện Bộ Chính trị đã làm việc với Ban Thường vụ Tỉnh uỷ An Giang và Ban Thường vụ Tỉnh uỷ Lâm Đồng để cho ý kiến vào dự thảo các văn kiện và phương án nhân sự trình Đại hội đại biểu Đảng bộ tỉnh nhiệm kỳ 2025 - 2030.\" />\\r\\n\\t<meta name=\"keywords\" content=\"Bộ Chính trị, trung ương đảng, Phạm Minh Chính, Tỉnh An Giang, tỉnh Lâm Đồng\" />\\r\\n\\t<meta name=\"news_keywords\" content=\"Bộ Chính trị, trung ương đảng, Phạm Minh Chính, Tỉnh An Giang, tỉnh Lâm Đồng\" />\\r\\n\\t<meta property=\"og:title\" content=\"Bộ Ch&#237;nh trị cho &#253; kiến về c&#244;ng t&#225;c chuẩn bị Đại hội Đảng bộ tỉnh An Giang v&#224; L&#226;m Đồng\" />\\r\\n\\t<meta proper'"
            ],
            "application/vnd.google.colaboratory.intrinsic+json": {
              "type": "string"
            }
          },
          "metadata": {},
          "execution_count": 11
        }
      ]
    },
    {
      "cell_type": "code",
      "source": [
        "# English HTML\n",
        "eng_url = \"http://news.bbc.co.uk/2/hi/health/2284783.stm\"\n",
        "eng_html = request.urlopen(eng_url).read().decode('utf8')\n",
        "eng_html[:1000]"
      ],
      "metadata": {
        "colab": {
          "base_uri": "https://localhost:8080/",
          "height": 243
        },
        "id": "u-ZqHHhc5VyS",
        "outputId": "97bda21e-a5fd-4447-f4d1-85cf7f8f514b"
      },
      "execution_count": null,
      "outputs": [
        {
          "output_type": "execute_result",
          "data": {
            "text/plain": [
              "'<!doctype html public \"-//W3C//DTD HTML 4.0 Transitional//EN\" \"http://www.w3.org/TR/REC-html40/loose.dtd\">\\r\\n<html>\\r\\n<head>\\r\\n<title>BBC NEWS | Health | Blondes \\'to die out in 200 years\\'</title>\\r\\n<meta name=\"keywords\" content=\"BBC, News, BBC News, news online, world, uk, international, foreign, british, online, service\">\\r\\n<meta name=\"OriginalPublicationDate\" content=\"2002/09/27 11:51:55\">\\r\\n<meta name=\"UKFS_URL\" content=\"/1/hi/health/2284783.stm\">\\r\\n<meta name=\"IFS_URL\" content=\"/2/hi/health/2284783.stm\">\\r\\n<meta name=\"HTTP-EQUIV\" content=\"text/html;charset=iso-8859-1\">\\r\\n<meta name=\"Headline\" content=\"Blondes \\'to die out in 200 years\\'\">\\r\\n<meta name=\"Section\" content=\"Health\">\\r\\n<meta name=\"Description\" content=\"Natural blondes are an endangered species and will die out by 2202, a study suggests.\">\\r\\n<!-- GENMaps-->\\r\\n<map name=\"banner\">\\r\\n<area alt=\"BBC NEWS\" coords=\"7,9,167,32\" href=\"http://news.bbc.co.uk/1/hi.html\" shape=\"RECT\">\\r\\n</map>\\r\\n\\r\\n<script src=\"/nol/shared/js/livestats_v1_1.js\" langua'"
            ],
            "application/vnd.google.colaboratory.intrinsic+json": {
              "type": "string"
            }
          },
          "metadata": {},
          "execution_count": 12
        }
      ]
    },
    {
      "cell_type": "code",
      "source": [
        "print(eng_html)"
      ],
      "metadata": {
        "colab": {
          "base_uri": "https://localhost:8080/"
        },
        "collapsed": true,
        "id": "HUdVJzVQ5jYs",
        "outputId": "a219b969-55ff-4e8b-8970-f45a1e633a4d"
      },
      "execution_count": null,
      "outputs": [
        {
          "output_type": "stream",
          "name": "stdout",
          "text": [
            "<!doctype html public \"-//W3C//DTD HTML 4.0 Transitional//EN\" \"http://www.w3.org/TR/REC-html40/loose.dtd\">\r\n",
            "<html>\r\n",
            "<head>\r\n",
            "<title>BBC NEWS | Health | Blondes 'to die out in 200 years'</title>\r\n",
            "<meta name=\"keywords\" content=\"BBC, News, BBC News, news online, world, uk, international, foreign, british, online, service\">\r\n",
            "<meta name=\"OriginalPublicationDate\" content=\"2002/09/27 11:51:55\">\r\n",
            "<meta name=\"UKFS_URL\" content=\"/1/hi/health/2284783.stm\">\r\n",
            "<meta name=\"IFS_URL\" content=\"/2/hi/health/2284783.stm\">\r\n",
            "<meta name=\"HTTP-EQUIV\" content=\"text/html;charset=iso-8859-1\">\r\n",
            "<meta name=\"Headline\" content=\"Blondes 'to die out in 200 years'\">\r\n",
            "<meta name=\"Section\" content=\"Health\">\r\n",
            "<meta name=\"Description\" content=\"Natural blondes are an endangered species and will die out by 2202, a study suggests.\">\r\n",
            "<!-- GENMaps-->\r\n",
            "<map name=\"banner\">\r\n",
            "<area alt=\"BBC NEWS\" coords=\"7,9,167,32\" href=\"http://news.bbc.co.uk/1/hi.html\" shape=\"RECT\">\r\n",
            "</map>\r\n",
            "\r\n",
            "<script src=\"/nol/shared/js/livestats_v1_1.js\" language=\"JavaScript\" type=\"text/javascript\"></script>\r\n",
            "\r\n",
            "\r\n",
            "\r\n",
            "\r\n",
            "\r\n",
            "\t\t\t\r\n",
            "\t<map name=\"world_map\">\r\n",
            "<area alt=\"Americas\" coords=\"40,55,40,4,6,4,7,55\" href=\"/2/hi/americas/default.stm\" shape=\"POLY\">\r\n",
            "<area alt=\"Africa\" shape=\"POLY\" coords=\"41,54,41,27,46,27,46,32,46,33,55,33,55,36,58,36,58,54\" href=\"/2/hi/africa/default.stm\">\r\n",
            "<area alt=\"Europe\" shape=\"POLY\" coords=\"41,5,41,25,63,25,63,17,73,17,73,4\" href=\"/2/hi/europe/default.stm\">\r\n",
            "<area alt=\"Middle East\" shape=\"POLY\" coords=\"60,54,60,54,60,34,57,34,57,31,48,31,48,27,63,27,63,54\" href=\"/2/hi/middle_east/default.stm\">\r\n",
            "<area alt=\"South Asia\" coords=\"67,55,65,54,65,27,71,27,71,54\" href=\"/2/hi/south_asia/default.stm\" shape=\"POLY\">\r\n",
            "<area alt=\"Asia Pacific\" shape=\"POLY\" coords=\"75,54,73,54,73,25,65,25,65,19,75,19,75,5,94,5,94,56\" href=\"/2/hi/asia-pacific/default.stm\">\r\n",
            "</map>\r\n",
            "\r\n",
            "\r\n",
            "\r\n",
            "\r\n",
            "\r\n",
            "\r\n",
            "\r\n",
            "\r\n",
            "<link type=\"text/css\" rel=\"stylesheet\" href=\"/nol/shared/stylesheets/uki_globalstylesheet.css\">\r\n",
            "<script src=\"/nol/shared/js_ifs/nol.js\" language=\"JavaScript\"></script>\r\n",
            "</head>\r\n",
            "\r\n",
            "<body bgcolor=\"#FFFFFF\" text=\"#000000\" link=\"#000066\" alink=\"#000066\" vlink=\"#993333\" topmargin=\"0\" leftmargin=\"0\" marginheight=\"0\" marginwidth=\"0\">\r\n",
            "<!--[START]--(( BBCi TOOLBAR )) IFS News -->\r\n",
            "<table width=\"610\" cellpadding=\"0\" cellspacing=\"0\" border=\"0\">\r\n",
            "<tr>\r\n",
            "<td class=\"bbcpageShadow\"><a name=\"top\"><img src=\"/nol/shared/img/global_toolbar/t.gif\" width=\"600\" height=\"2\" alt=\"\"/></a></td>\r\n",
            "</tr>\r\n",
            "<form action=\"http://newssearch.bbc.co.uk/cgi-bin/search/results.pl\">\r\n",
            "<input type=\"hidden\" name=\"scope\" value=\"newsifs\">\r\n",
            "<input type=\"hidden\" name=\"tab\" value=\"news\">\r\n",
            "<tr>\r\n",
            "<td class=\"bbcpageGrey\">\r\n",
            "<table cellpadding=\"0\" cellspacing=\"0\" border=\"0\">\r\n",
            "<tr>\r\n",
            "<td class=\"bbcpageShadowLeft\" width=\"100%\"><a href=\"http://www.bbc.co.uk/\"><img src=\"/nol/shared/img/global_toolbar/logo.gif\" width=\"62\" height=\"20\" alt=\"BBCi\" border=\"0\" hspace=\"7\" vspace=\"2\" /></a></td>\r\n",
            "<td class=\"bbcpageGreyT\" align=\"right\"><font color=\"#000000\"><font face=\"tahoma,arial,helvetica,sans-serif\" size=\"1\" class=\"bbcpageWhite\"><b><a href=\"http://news.bbc.co.uk\" class=\"bbcpageWhite\">NEWS</a></b></font></td>\r\n",
            "<td class=\"bbcpageBar\"><font face=\"tahoma,arial,helvetica,sans-serif\" size=\"1\" class=\"bbcpageWhite\">&nbsp;&nbsp;<b><a href=\"http://news.bbc.co.uk/sport/\" class=\"bbcpageWhite\">SPORT</a></b></font></td>\r\n",
            "<td class=\"bbcpageBar2\"><font face=\"tahoma,arial,helvetica,sans-serif\" size=\"1\" class=\"bbcpageWhite\">&nbsp;&nbsp;<b><a href=\"http://www.bbc.co.uk/weather/\" class=\"bbcpageWhite\">WEATHER</a></b></font></td>\r\n",
            "<td class=\"bbcpageBar\"><font face=\"tahoma,arial,helvetica,sans-serif\" size=\"1\" class=\"bbcpageWhite\">&nbsp;&nbsp;<b><a href=\"http://www.bbc.co.uk/worldservice/index.shtml\" class=\"bbcpageWhite\">WORLD SERVICE</a></b></font></td>\r\n",
            "<!-- <td class=\"bbcpageBar2\"><font face=\"tahoma,arial,helvetica,sans-serif\" size=\"1\" class=\"bbcpageWhite\">&nbsp;&nbsp;<b><a href=\"http://www.bbc.co.uk/whereilive/\" class=\"bbcpageWhite\">WHERE&nbsp;I&nbsp;LIVE</a></b></font></td> -->\r\n",
            "<td class=\"bbcpageBar\"><font face=\"tahoma,arial,helvetica,sans-serif\" size=\"1\" class=\"bbcpageWhite\">&nbsp;&nbsp;<b><a href=\"http://www.bbc.co.uk/a-z/\" class=\"bbcpageWhite\">A-Z INDEX</a>&nbsp;</b></font></td>\r\n",
            "<td class=\"bbcpageSearchL\"><img src=\"/furniture/nothing.gif\" width=\"2\" height=\"30\" alt=\"\"/></td>\r\n",
            "<td class=\"bbcpageSearch\"><font face=\"tahoma,arial,helvetica,sans-serif\" size=\"1\" class=\"bbcpageCream\">&nbsp;&nbsp;<label for=\"bbcpagesearchbox\"><b>SEARCH</b></label>&nbsp;</font></td>\r\n",
            "<td class=\"bbcpageSearch2\" style=\"font-family:tahoma,arial,helvetica,sans-serif;\"><img src=\"/shared/img/o.gif\" width=\"1\" height=\"3\" alt=\"\" /><br /><INPUT type=\"text\" name=\"q\" id=\"bbcpagesearchbox\" size=\"5\" style=\"width:95px;\" /></td>\r\n",
            "<td class=\"bbcpageSearch\"><img src=\"/shared/img/o.gif\" width=\"3\" height=\"1\" alt=\"\" /></td>\r\n",
            "<td class=\"bbcpageSearch2\"><img src=\"/shared/img/o.gif\" width=\"1\" height=\"5\" alt=\"\" /><br /><input type=\"image\" value=\"go\" src=\"/nol/shared/img/global_toolbar/go.gif\" width=\"20\" height=\"16\" border=\"0\" alt=\"Go\" align=\"top\" /></td>\r\n",
            "<td class=\"bbcpageSearch\"><img src=\"/shared/img/o.gif\" width=\"3\" height=\"1\" alt=\"\" /></td>\r\n",
            "<td class=\"bbcpageSearchR\"><img src=\"/shared/img/o.gif\" width=\"1\" height=\"30\" alt=\"\" /></td>\r\n",
            "</tr>\r\n",
            "\r\n",
            "<tr bgcolor=\"#000000\">\r\n",
            "<td><img src=\"/shared/img/o.gif\" width=\"76\" height=\"1\" alt=\"\"/></td>\r\n",
            "<td><img src=\"/shared/img/o.gif\" width=\"76\" height=\"1\" alt=\"\"/></td>\r\n",
            "<td><img src=\"/shared/img/o.gif\" width=\"20\" height=\"1\" alt=\"\"/></td>\r\n",
            "<td><img src=\"/shared/img/o.gif\" width=\"42\" height=\"1\" alt=\"\"/></td>\r\n",
            "<td><img src=\"/shared/img/o.gif\" width=\"94\" height=\"1\" alt=\"\"/></td>\r\n",
            "<td><img src=\"/shared/img/o.gif\" width=\"80\" height=\"1\" alt=\"\"/></td>\r\n",
            "<!-- <td><img src=\"/shared/img/o.gif\" width=\"42\" height=\"1\" alt=\"\"/></td> -->\r\n",
            "<td><img src=\"/shared/img/o.gif\" width=\"2\" height=\"1\" alt=\"\"/></td>\r\n",
            "<td><img src=\"/shared/img/o.gif\" width=\"51\" height=\"1\" alt=\"\"/></td>\r\n",
            "<td><img src=\"/shared/img/o.gif\" width=\"100\" height=\"1\" alt=\"\"/></td>\r\n",
            "<td><img src=\"/shared/img/o.gif\" width=\"3\" height=\"1\" alt=\"\"/></td>\r\n",
            "<td><img src=\"/shared/img/o.gif\" width=\"20\" height=\"1\" alt=\"\"/></td>\r\n",
            "<td><img src=\"/shared/img/o.gif\" width=\"3\" height=\"1\" alt=\"\"/></td>\r\n",
            "<td><img src=\"/shared/img/o.gif\" width=\"1\" height=\"1\" alt=\"\"/></td>\r\n",
            "</tr>\r\n",
            "\r\n",
            "</table></td>\r\n",
            "\r\n",
            "</tr>\r\n",
            "</form>\r\n",
            "</table>\r\n",
            "<!-- end news toolbar 1.0 -->\r\n",
            "<table width=\"610\" cellspacing=\"0\" cellpadding=\"0\" border=\"0\">\r\n",
            "<tr><td bgcolor=\"#9C0000\"><img src=\"/nol/shared/img/banners/ifs_banner.gif\" width=\"610\" height=\"40\" border=\"0\" alt=\"BBC News World Edition\" usemap=\"#banner\"></td></tr></table>\r\n",
            "<!--END OF BANNER-->\r\n",
            "\r\n",
            "<table border=\"0\" cellpadding=\"0\" cellspacing=\"0\" width=\"610\">\r\n",
            "<tr>\r\n",
            "<td width=\"10\"><img src=\"/shared/img/o.gif\" width=\"10\" height=\"1\" alt=\"\"></td>\r\n",
            "<td width=\"100\"><img src=\"/shared/img/o.gif\" width=\"100\" height=\"1\" alt=\"\"></td>\r\n",
            "<td width=\"5\"><img src=\"/shared/img/o.gif\" width=\"5\" height=\"1\" alt=\"\"></td>\r\n",
            "<td bgcolor=\"#999966\" width=\"315\"><img src=\"/shared/img/o.gif\" width=\"315\" height=\"1\" alt=\"\"></td>\r\n",
            "<td bgcolor=\"#999966\" width=\"10\"><img src=\"/shared/img/o.gif\" width=\"10\" height=\"1\" alt=\"\"></td>\r\n",
            "<td bgcolor=\"#999966\" width=\"170\"><img src=\"/shared/img/o.gif\" width=\"170\" height=\"1\" alt=\"\"></td>\r\n",
            "</tr>\r\n",
            "\r\n",
            "<tr>\r\n",
            "<td width=\"10\"><img src=\"/shared/img/o.gif\" width=\"10\" height=\"1\" alt=\"\"></td>\r\n",
            "<td width=\"100\"><img src=\"/shared/img/o.gif\" width=\"100\" height=\"1\" alt=\"\"></td>\r\n",
            "<td width=\"5\"><img src=\"/shared/img/o.gif\" width=\"5\" height=\"3\" alt=\"\"></td>\r\n",
            "<td colspan=\"3\" width=\"495\" class=\"crumbtraila\" bgcolor=\"#CCCC99\">\r\n",
            "    &nbsp;You are in:&nbsp;<a href=\"/2/hi/health/default.stm\"><b>Health</b> </a>&nbsp;\r\n",
            "    \r\n",
            "    \r\n",
            "</td>\r\n",
            "</tr>\r\n",
            "<tr>\r\n",
            "<td width=\"10\"><img src=\"/shared/img/o.gif\" width=\"10\" height=\"1\" alt=\"\"></td>\r\n",
            "<td align=\"LEFT\" valign=\"TOP\">\r\n",
            "    \r\n",
            "\t<table width=\"100\" cellspacing=\"0\" cellpadding=\"0\" border=\"0\">\r\n",
            "\t<tr>\r\n",
            "\t<td><img height=\"1\" border=\"0\" width=\"96\" alt=\"\" src=\"http://newsimg.bbc.co.uk/shared/img/o.gif\"></td>\r\n",
            "\t<td><img height=\"1\" border=\"0\" width=\"4\" alt=\"\" src=\"http://newsimg.bbc.co.uk/shared/img/o.gif\"></td>\r\n",
            "\t</tr>\r\n",
            "\t\r\n",
            "\t\r\n",
            "\t\t\r\n",
            "\t\t\r\n",
            "\t\t\t\r\n",
            "\t\t\t\t\r\n",
            "\t\t\t\t\t<tr>\r\n",
            "\t\t\t\t\t<td bgColor=\"#FFFFFF\" class=\"sectionStyleTight\" align=\"right\"><a href=\"/2/hi/default.stm\" class=\"index\"><b>News Front Page</b></a></td><td bgcolor=\"#FFFFFF\"><img height=\"1\" width=\"1\" alt=\"\" src=\"http://newsimg.bbc.co.uk/shared/img/o.gif\"></td>\r\n",
            "\t\t\t\t\t</tr>\r\n",
            "\t\t\t\t\r\n",
            "\t\t\t\t\r\n",
            "\t\t\t\t\r\n",
            "\t\t\t\t\t<tr>\r\n",
            "\t\t\t\t\t<td colspan=\"2\"><img height=\"60\" usemap=\"#world_map\" border=\"0\" width=\"100\" alt=\"\" src=\"http://newsimg.bbc.co.uk/nol/shared/img/nav/blue_map_world.gif\"></td>\r\n",
            "\t\t\t\t\t</tr>\r\n",
            "\t\t\t\t\r\n",
            "\t\t\t\t\r\n",
            "\t\t\t\r\n",
            "\t\t\t\r\n",
            "\t\t\r\n",
            "\t\r\n",
            "\r\n",
            "\t\r\n",
            "\r\n",
            "\t\r\n",
            "\t\t\r\n",
            "\t\t\r\n",
            "\t\t\t\r\n",
            "\t\t\t\t\r\n",
            "\t\t\t\t\t<tr>\r\n",
            "\t\t\t\t\t<td bgColor=\"#FFFFFF\" class=\"sectionStyle\" align=\"right\"><a href=\"/2/hi/africa/default.stm\" class=\"index\"><b>Africa</b></a></td><td bgcolor=\"#FFFFFF\"><img height=\"1\" width=\"1\" alt=\"\" src=\"http://newsimg.bbc.co.uk/shared/img/o.gif\"></td>\r\n",
            "\t\t\t\t\t</tr>\r\n",
            "\t\t\t\t\r\n",
            "\t\t\t\t\r\n",
            "\t\t\t\t\r\n",
            "\t\t\t\t\r\n",
            "\t\t\t\r\n",
            "\t\t\t\r\n",
            "\t\t\r\n",
            "\t\r\n",
            "\r\n",
            "\t\r\n",
            "\r\n",
            "\t\r\n",
            "\t\t\r\n",
            "\t\t\r\n",
            "\t\t\t\r\n",
            "\t\t\t\t\r\n",
            "\t\t\t\t\t<tr>\r\n",
            "\t\t\t\t\t<td bgColor=\"#FFFFFF\" class=\"sectionStyle\" align=\"right\"><a href=\"/2/hi/americas/default.stm\" class=\"index\"><b>Americas</b></a></td><td bgcolor=\"#FFFFFF\"><img height=\"1\" width=\"1\" alt=\"\" src=\"http://newsimg.bbc.co.uk/shared/img/o.gif\"></td>\r\n",
            "\t\t\t\t\t</tr>\r\n",
            "\t\t\t\t\r\n",
            "\t\t\t\t\r\n",
            "\t\t\t\t\r\n",
            "\t\t\t\t\r\n",
            "\t\t\t\r\n",
            "\t\t\t\r\n",
            "\t\t\r\n",
            "\t\r\n",
            "\r\n",
            "\t\r\n",
            "\r\n",
            "\t\r\n",
            "\t\t\r\n",
            "\t\t\r\n",
            "\t\t\t\r\n",
            "\t\t\t\t\r\n",
            "\t\t\t\t\t<tr>\r\n",
            "\t\t\t\t\t<td bgColor=\"#FFFFFF\" class=\"sectionStyle\" align=\"right\"><a href=\"/2/hi/asia-pacific/default.stm\" class=\"index\"><b>Asia-Pacific</b></a></td><td bgcolor=\"#FFFFFF\"><img height=\"1\" width=\"1\" alt=\"\" src=\"http://newsimg.bbc.co.uk/shared/img/o.gif\"></td>\r\n",
            "\t\t\t\t\t</tr>\r\n",
            "\t\t\t\t\r\n",
            "\t\t\t\t\r\n",
            "\t\t\t\t\r\n",
            "\t\t\t\t\r\n",
            "\t\t\t\r\n",
            "\t\t\t\r\n",
            "\t\t\r\n",
            "\t\r\n",
            "\r\n",
            "\t\r\n",
            "\r\n",
            "\t\r\n",
            "\t\t\r\n",
            "\t\t\r\n",
            "\t\t\t\r\n",
            "\t\t\t\t\r\n",
            "\t\t\t\t\t<tr>\r\n",
            "\t\t\t\t\t<td bgColor=\"#FFFFFF\" class=\"sectionStyle\" align=\"right\"><a href=\"/2/hi/europe/default.stm\" class=\"index\"><b>Europe</b></a></td><td bgcolor=\"#FFFFFF\"><img height=\"1\" width=\"1\" alt=\"\" src=\"http://newsimg.bbc.co.uk/shared/img/o.gif\"></td>\r\n",
            "\t\t\t\t\t</tr>\r\n",
            "\t\t\t\t\r\n",
            "\t\t\t\t\r\n",
            "\t\t\t\t\r\n",
            "\t\t\t\t\r\n",
            "\t\t\t\r\n",
            "\t\t\t\r\n",
            "\t\t\r\n",
            "\t\r\n",
            "\r\n",
            "\t\r\n",
            "\r\n",
            "\t\r\n",
            "\t\t\r\n",
            "\t\t\r\n",
            "\t\t\t\r\n",
            "\t\t\t\t\r\n",
            "\t\t\t\t\t<tr>\r\n",
            "\t\t\t\t\t<td bgColor=\"#FFFFFF\" class=\"sectionStyle\" align=\"right\"><a href=\"/2/hi/middle_east/default.stm\" class=\"index\"><b>Middle East</b></a></td><td bgcolor=\"#FFFFFF\"><img height=\"1\" width=\"1\" alt=\"\" src=\"http://newsimg.bbc.co.uk/shared/img/o.gif\"></td>\r\n",
            "\t\t\t\t\t</tr>\r\n",
            "\t\t\t\t\r\n",
            "\t\t\t\t\r\n",
            "\t\t\t\t\r\n",
            "\t\t\t\t\r\n",
            "\t\t\t\r\n",
            "\t\t\t\r\n",
            "\t\t\r\n",
            "\t\r\n",
            "\r\n",
            "\t\r\n",
            "\r\n",
            "\t\r\n",
            "\t\t\r\n",
            "\t\t\r\n",
            "\t\t\t\r\n",
            "\t\t\t\t\r\n",
            "\t\t\t\t\t<tr>\r\n",
            "\t\t\t\t\t<td bgColor=\"#FFFFFF\" class=\"sectionStyle\" align=\"right\"><a href=\"/2/hi/south_asia/default.stm\" class=\"index\"><b>South Asia</b></a></td><td bgcolor=\"#FFFFFF\"><img height=\"1\" width=\"1\" alt=\"\" src=\"http://newsimg.bbc.co.uk/shared/img/o.gif\"></td>\r\n",
            "\t\t\t\t\t</tr>\r\n",
            "\t\t\t\t\r\n",
            "\t\t\t\t\r\n",
            "\t\t\t\t\r\n",
            "\t\t\t\t\r\n",
            "\t\t\t\r\n",
            "\t\t\t\r\n",
            "\t\t\r\n",
            "\t\r\n",
            "\r\n",
            "\t\r\n",
            "\r\n",
            "\t\r\n",
            "\t\t\r\n",
            "\t\t\r\n",
            "\t\t\t\r\n",
            "\t\t\t\t\r\n",
            "\t\t\t\t\t<tr>\r\n",
            "\t\t\t\t\t<td bgColor=\"#FFFFFF\" class=\"sectionStyle\" align=\"right\"><a href=\"/2/hi/uk_news/default.stm\" class=\"index\"><b>UK</b></a></td><td bgcolor=\"#FFFFFF\"><img height=\"1\" width=\"1\" alt=\"\" src=\"http://newsimg.bbc.co.uk/shared/img/o.gif\"></td>\r\n",
            "\t\t\t\t\t</tr>\r\n",
            "\t\t\t\t\r\n",
            "\t\t\t\t\r\n",
            "\t\t\t\t\r\n",
            "\t\t\t\t\r\n",
            "\t\t\t\r\n",
            "\t\t\t\r\n",
            "\t\t\r\n",
            "\t\r\n",
            "\r\n",
            "\t\r\n",
            "\r\n",
            "\t\r\n",
            "\t\t\r\n",
            "\t\t\r\n",
            "\t\t\t\r\n",
            "\t\t\t\t\r\n",
            "\t\t\t\t\t<tr>\r\n",
            "\t\t\t\t\t<td bgColor=\"#FFFFFF\" class=\"sectionStyle\" align=\"right\"><a href=\"/2/hi/business/default.stm\" class=\"index\"><b>Business</b></a></td><td bgcolor=\"#FFFFFF\"><img height=\"1\" width=\"1\" alt=\"\" src=\"http://newsimg.bbc.co.uk/shared/img/o.gif\"></td>\r\n",
            "\t\t\t\t\t</tr>\r\n",
            "\t\t\t\t\r\n",
            "\t\t\t\t\r\n",
            "\t\t\t\t\r\n",
            "\t\t\t\t\r\n",
            "\t\t\t\r\n",
            "\t\t\t\r\n",
            "\t\t\r\n",
            "\t\r\n",
            "\r\n",
            "\t\r\n",
            "\r\n",
            "\t\r\n",
            "\t\t\r\n",
            "\t\t\r\n",
            "\t\t\t\r\n",
            "\t\t\t\t\r\n",
            "\t\t\t\t\t<tr>\r\n",
            "\t\t\t\t\t<td bgColor=\"#FFFFFF\" class=\"sectionStyle\" align=\"right\"><a href=\"/2/hi/entertainment/default.stm\" class=\"index\"><b>Entertainment</b></a></td><td bgcolor=\"#FFFFFF\"><img height=\"1\" width=\"1\" alt=\"\" src=\"http://newsimg.bbc.co.uk/shared/img/o.gif\"></td>\r\n",
            "\t\t\t\t\t</tr>\r\n",
            "\t\t\t\t\r\n",
            "\t\t\t\t\r\n",
            "\t\t\t\t\r\n",
            "\t\t\t\t\r\n",
            "\t\t\t\r\n",
            "\t\t\t\r\n",
            "\t\t\r\n",
            "\t\r\n",
            "\r\n",
            "\t\r\n",
            "\r\n",
            "\t\r\n",
            "\t\t\r\n",
            "\t\t\r\n",
            "\t\t\t\r\n",
            "\t\t\t\t\r\n",
            "\t\t\t\t\t<tr>\r\n",
            "\t\t\t\t\t<td bgColor=\"#FFFFFF\" class=\"sectionStyleTight\" align=\"right\"><a href=\"/2/hi/science/nature/default.stm\" class=\"index\"><b>Science/Nature</b></a></td><td bgcolor=\"#FFFFFF\"><img height=\"1\" width=\"1\" alt=\"\" src=\"http://newsimg.bbc.co.uk/shared/img/o.gif\"></td>\r\n",
            "\t\t\t\t\t</tr>\r\n",
            "\t\t\t\t\r\n",
            "\t\t\t\t\r\n",
            "\t\t\t\t\r\n",
            "\t\t\t\t\r\n",
            "\t\t\t\r\n",
            "\t\t\t\r\n",
            "\t\t\r\n",
            "\t\r\n",
            "\r\n",
            "\t\r\n",
            "\r\n",
            "\t\r\n",
            "\t\t\r\n",
            "\t\t\r\n",
            "\t\t\t\r\n",
            "\t\t\t\t\r\n",
            "\t\t\t\t\t<tr>\r\n",
            "\t\t\t\t\t<td bgColor=\"#FFFFFF\" class=\"sectionStyle\" align=\"right\"><a href=\"/2/hi/technology/default.stm\" class=\"index\"><b>Technology</b></a></td><td bgcolor=\"#FFFFFF\"><img height=\"1\" width=\"1\" alt=\"\" src=\"http://newsimg.bbc.co.uk/shared/img/o.gif\"></td>\r\n",
            "\t\t\t\t\t</tr>\r\n",
            "\t\t\t\t\r\n",
            "\t\t\t\t\r\n",
            "\t\t\t\t\r\n",
            "\t\t\t\t\r\n",
            "\t\t\t\r\n",
            "\t\t\t\r\n",
            "\t\t\r\n",
            "\t\r\n",
            "\r\n",
            "\t\r\n",
            "\r\n",
            "\t\r\n",
            "\t\t\r\n",
            "\t\t\r\n",
            "\t\t\t\r\n",
            "\t\t\t\t\r\n",
            "\t\t\t\t\r\n",
            "\t\t\t\t\t<tr>\r\n",
            "\t\t\t\t\t<td bgColor=\"#999999\" class=\"sectionStyle\" align=\"right\"><a href=\"/2/hi/health/default.stm\" class=\"index\"><b>Health</b></a></td><td bgColor=\"#CC3300\"><img height=\"1\" width=\"1\" alt=\"\" src=\"http://newsimg.bbc.co.uk/shared/img/o.gif\"></td>\r\n",
            "\t\t\t\t\t</tr>\r\n",
            "\t\t\t\t\t\r\n",
            "\t\r\n",
            "\t\t\r\n",
            "\t\t\r\n",
            "\t\t\t\r\n",
            "\t\t\t\r\n",
            "\t\t\t\t\r\n",
            "\t\t\t\t\r\n",
            "\t\t\t\t\t<tr>\r\n",
            "\t\t\t\t\t<td bgColor=\"#CCCCCC\" align=\"right\" class=\"sectionStyle\"><a href=\"/2/hi/health/medical_notes/default.stm\" class=\"index\"><b>Medical notes</b></a></td><td bgcolor=\"#CCCCCC\"><img height=\"1\" width=\"1\" alt=\"\" src=\"http://newsimg.bbc.co.uk/shared/img/o.gif\"></td>\r\n",
            "\t\t\t\t\t</tr>\r\n",
            "\t\t\t\t\r\n",
            "\t\t\t\t\r\n",
            "\t\t\t\t\r\n",
            "\t\t\t\r\n",
            "\t\t\r\n",
            "\t\r\n",
            "\r\n",
            "\t\r\n",
            "\r\n",
            "\t\t\t\t\r\n",
            "\t\t\t\t\r\n",
            "\t\t\t\t\r\n",
            "\t\t\t\t\t<tr>\r\n",
            "\t\t\t\t\t<td align=\"CENTER\" colspan=\"2\"><span class=\"lhsNavSeparator\">-------------</span></td>\r\n",
            "\t\t\t\t\t</tr>\r\n",
            "\t\t\t\t\r\n",
            "\t\t\t\r\n",
            "\t\t\t\r\n",
            "\t\t\r\n",
            "\t\r\n",
            "\r\n",
            "\t\r\n",
            "\r\n",
            "\t\r\n",
            "\t\t\r\n",
            "\t\t\r\n",
            "\t\t\t\r\n",
            "\t\t\t\t\r\n",
            "\t\t\t\t\t<tr>\r\n",
            "\t\t\t\t\t<td bgColor=\"#FFFFFF\" class=\"sectionStyle\" align=\"right\"><a href=\"/2/hi/talking_point/default.stm\" class=\"index\"><b>Talking Point</b></a></td><td bgcolor=\"#FFFFFF\"><img height=\"1\" width=\"1\" alt=\"\" src=\"http://newsimg.bbc.co.uk/shared/img/o.gif\"></td>\r\n",
            "\t\t\t\t\t</tr>\r\n",
            "\t\t\t\t\r\n",
            "\t\t\t\t\r\n",
            "\t\t\t\t\r\n",
            "\t\t\t\t\r\n",
            "\t\t\t\t\t<tr>\r\n",
            "\t\t\t\t\t<td align=\"CENTER\" colspan=\"2\"><span class=\"lhsNavSeparator\">-------------</span></td>\r\n",
            "\t\t\t\t\t</tr>\r\n",
            "\t\t\t\t\r\n",
            "\t\t\t\r\n",
            "\t\t\t\r\n",
            "\t\t\r\n",
            "\t\r\n",
            "\r\n",
            "\t\r\n",
            "\r\n",
            "\t\r\n",
            "\t\t\r\n",
            "\t\t\t\r\n",
            "\t\t\t\t<tr>\r\n",
            "\t\t\t\t<td bgColor=\"#FFFFFF\" class=\"sectionStyleTight\" align=\"right\"><a href=\"/2/shared/bsp/hi/country_profiles/html/default.stm\" class=\"index\"><b>Country Profiles</b></a></td><td bgcolor=\"#FFFFFF\"><img height=\"1\" width=\"1\" alt=\"\" src=\"http://newsimg.bbc.co.uk/shared/img/o.gif\"></td>\r\n",
            "\t\t\t\t</tr>\r\n",
            "\t\t\t\r\n",
            "\t\t\t\r\n",
            "\t\t\t\r\n",
            "\t\t\r\n",
            "\t\t\r\n",
            "\t\r\n",
            "\r\n",
            "\t\r\n",
            "\r\n",
            "\t\r\n",
            "\t\t\r\n",
            "\t\t\t\r\n",
            "\t\t\t\t<tr>\r\n",
            "\t\t\t\t<td bgColor=\"#FFFFFF\" class=\"sectionStyle\" align=\"right\"><a href=\"/2/shared/bsp/hi/in_depth/html/default.stm\" class=\"index\"><b>In Depth</b></a></td><td bgcolor=\"#FFFFFF\"><img height=\"1\" width=\"1\" alt=\"\" src=\"http://newsimg.bbc.co.uk/shared/img/o.gif\"></td>\r\n",
            "\t\t\t\t</tr>\r\n",
            "\t\t\t\r\n",
            "\t\t\t\r\n",
            "\t\t\t\r\n",
            "\t\t\t\t<tr>\r\n",
            "\t\t\t\t<td align=\"CENTER\" colspan=\"2\"><span class=\"lhsNavSeparator\">-------------</span></td>\r\n",
            "\t\t\t\t</tr>\r\n",
            "\t\t\t\r\n",
            "\t\t\r\n",
            "\t\t\r\n",
            "\t\r\n",
            "\r\n",
            "\t\r\n",
            "\r\n",
            "\t\r\n",
            "\t\t\r\n",
            "\t\t\r\n",
            "\t\t\t\r\n",
            "\t\t\t\t\r\n",
            "\t\t\t\t\t<tr>\r\n",
            "\t\t\t\t\t<td bgColor=\"#FFFFFF\" class=\"sectionStyle\" align=\"right\"><a href=\"/2/hi/programmes/default.stm\" class=\"index\"><b>Programmes</b></a></td><td bgcolor=\"#FFFFFF\"><img height=\"1\" width=\"1\" alt=\"\" src=\"http://newsimg.bbc.co.uk/shared/img/o.gif\"></td>\r\n",
            "\t\t\t\t\t</tr>\r\n",
            "\t\t\t\t\r\n",
            "\t\t\t\t\r\n",
            "\t\t\t\t\r\n",
            "\t\t\t\t\r\n",
            "\t\t\t\t\t<tr>\r\n",
            "\t\t\t\t\t<td align=\"CENTER\" colspan=\"2\"><span class=\"lhsNavSeparator\">-------------</span></td>\r\n",
            "\t\t\t\t\t</tr>\r\n",
            "\t\t\t\t\r\n",
            "\t\t\t\r\n",
            "\t\t\t\r\n",
            "\t\t\r\n",
            "\t\r\n",
            "\r\n",
            "\t\r\n",
            "\r\n",
            "\t<tr><td colspan=\"2\"><img height=\"5\" border=\"0\" width=\"1\" alt=\"\" src=\"http://newsimg.bbc.co.uk/shared/img/o.gif\"></td></tr>\r\n",
            "\t</table>\r\n",
            "\r\n",
            "\r\n",
            "\r\n",
            "    \r\n",
            "    \r\n",
            "\r\n",
            "\r\n",
            "<table width=\"100\" cellspacing=\"0\" cellpadding=\"0\" border=\"0\">\r\n",
            "<tr>\r\n",
            "<td><a href=\"/sport2/hi/default.stm\"><img src=\"/nol/shared/img/nav/sport.gif\" width=\"100\" height=\"13\" alt=\"BBC Sport\" border=\"0\"></a></td>\r\n",
            "</tr>\r\n",
            "<tr>\r\n",
            "<td><img src=\"/shared/img/o.gif\" height=\"3\" width=\"1\" border=\"0\"></td>\r\n",
            "</tr>\r\n",
            "<tr>\r\n",
            "<td><a href=\"http://www.bbc.co.uk/weather/worldweather/index.shtml\"><img src=\"/nol/shared/img/nav/weather.gif\" width=\"100\" height=\"13\" alt=\"BBC Weather\" border=\"0\"></a></td>\r\n",
            "</tr>\r\n",
            "<tr>\r\n",
            "<td><img src=\"/shared/img/o.gif\" height=\"10\" width=\"1\" border=\"0\"></td>\r\n",
            "</tr>\r\n",
            "\r\n",
            "</table>\r\n",
            "\r\n",
            "\r\n",
            "<table width=\"100\" cellspacing=\"0\" cellpadding=\"0\" border=\"0\">\r\n",
            "<tr bgcolor=\"#990000\">\r\n",
            "<td><img src=\"/shared/img/o.gif\" width=\"1\" height=\"1\" alt=\"\"></td>\r\n",
            "<td><img src=\"/shared/img/o.gif\" width=\"3\" height=\"1\" alt=\"\"></td>\r\n",
            "<td><img src=\"/shared/img/o.gif\" width=\"90\" height=\"1\" alt=\"\"></td>\r\n",
            "<td><img src=\"/shared/img/o.gif\" width=\"5\" height=\"1\" alt=\"\"></td>\r\n",
            "<td><img src=\"/shared/img/o.gif\" width=\"1\" height=\"1\" alt=\"\"></td>\r\n",
            "</tr>\r\n",
            "<tr bgcolor=\"#990000\">\r\n",
            "<td colspan=\"3\" align=\"right\"><div class=\"servicehead\">SERVICES\r\n",
            "</div></td>\r\n",
            "<td><img src=\"/shared/img/o.gif\" width=\"5\" height=\"1\" alt=\"\"></td>\r\n",
            "<td><img src=\"/shared/img/o.gif\" width=\"1\" height=\"1\" alt=\"\"></td>\r\n",
            "</tr>\r\n",
            "<tr>\r\n",
            "<td bgcolor=\"#CCCCCC\"><img src=\"/shared/img/o.gif\" width=\"1\" height=\"1\" alt=\"\"></td>\r\n",
            "<td class=\"servicebg1\"><img src=\"/shared/img/o.gif\" width=\"3\" height=\"1\" alt=\"\"></td>\r\n",
            "<td align=\"right\" class=\"servicebg1\"><div class=\"servicesnav\"><a href=\"http://www.bbc.co.uk/email/news\">Daily E-mail\r\n",
            "</a></div></td>\r\n",
            "<td class=\"serviceoption1\"><img src=\"/shared/img/o.gif\" width=\"5\" height=\"1\" alt=\"\"></td>\r\n",
            "<td bgcolor=\"#CCCCCC\"><img src=\"/shared/img/o.gif\" width=\"1\" height=\"1\" alt=\"\"></td>\r\n",
            "</tr> \r\n",
            "<tr>\r\n",
            "<td bgcolor=\"#CCCCCC\"><img src=\"/shared/img/o.gif\" width=\"1\" height=\"1\" alt=\"\"></td>\r\n",
            "<td class=\"servicebg2\"><img src=\"/shared/img/o.gif\" width=\"3\" height=\"1\" alt=\"\"></td>\r\n",
            "<td align=\"right\" class=\"servicebg2\"><div class=\"servicesnav\"><a href=\"/2/shared/bsp/hi/services/ticker/html/default.stm\">News Ticker\r\n",
            "</a></div></td>\r\n",
            "<td class=\"serviceoption2\"><img src=\"/shared/img/o.gif\" width=\"5\" height=\"1\" alt=\"\"></td>\r\n",
            "<td bgcolor=\"#CCCCCC\"><img src=\"/shared/img/o.gif\" width=\"1\" height=\"1\" alt=\"\"></td>\r\n",
            "</tr>\r\n",
            "<tr>\r\n",
            "<td bgcolor=\"#CCCCCC\"><img src=\"/shared/img/o.gif\" width=\"1\" height=\"1\" alt=\"\"></td>\r\n",
            "<td class=\"servicebg3\"><img src=\"/shared/img/o.gif\" width=\"3\" height=\"1\" alt=\"\"></td>\r\n",
            "<td align=\"right\" class=\"servicebg3\"><div class=\"servicesnav\"><a href=\"/2/shared/bsp/hi/services/mobiles/html/default.stm\">Mobile/PDAs\r\n",
            "</a></div></td>\r\n",
            "<td class=\"serviceoption3\"><img src=\"/shared/img/o.gif\" width=\"5\" height=\"1\" alt=\"\"></td>\r\n",
            "<td bgcolor=\"#CCCCCC\"><img src=\"/shared/img/o.gif\" width=\"1\" height=\"1\" alt=\"\"></td>\r\n",
            "</tr>\r\n",
            "<tr>\r\n",
            "<td bgcolor=\"#CCCCCC\"><img src=\"/shared/img/o.gif\" width=\"1\" height=\"1\" alt=\"\"></td>\r\n",
            "<td align=\"center\" colspan=\"3\"><span class=\"lhsNavSeparator\">-------------\r\n",
            "</span></td>\r\n",
            "<td bgcolor=\"#CCCCCC\"><img src=\"/shared/img/o.gif\" width=\"1\" height=\"1\" alt=\"\"></td>\r\n",
            "</tr>\r\n",
            "</table>\r\n",
            "\r\n",
            "\r\n",
            "    <table width=\"100\" cellspacing=\"0\" cellpadding=\"0\" border=\"0\">\r\n",
            "    <tr>\r\n",
            "    <td bgcolor=\"#CCCCCC\"><img src=\"/shared/img/o.gif\" width=\"1\" height=\"1\" alt=\"\"></td>\r\n",
            "    <td><img src=\"/shared/img/o.gif\" width=\"3\" height=\"1\" alt=\"\"></td>\r\n",
            "    <td><img src=\"/shared/img/o.gif\" width=\"90\" height=\"1\" alt=\"\"></td>\r\n",
            "    <td><img src=\"/shared/img/o.gif\" width=\"5\" height=\"1\" alt=\"\"></td>\r\n",
            "    <td bgcolor=\"#CCCCCC\"><img src=\"/shared/img/o.gif\" width=\"1\" height=\"1\" alt=\"\"></td>\r\n",
            "    </tr>\r\n",
            "    <tr>\r\n",
            "    <td bgcolor=\"#CCCCCC\"><img src=\"/shared/img/o.gif\" width=\"1\" height=\"1\" alt=\"\"></td>\r\n",
            "    <td class=\"servicebg4\"><img src=\"/shared/img/o.gif\" width=\"3\" height=\"1\" alt=\"\"></td>\r\n",
            "    <td align=\"right\" class=\"servicebg4\"><div class=\"servicesnav\"><a href=\"/2/low/health/2284783.stm\">Text Only</a></div></td>\r\n",
            "    <td class=\"serviceoption4\"><img src=\"/shared/img/o.gif\" width=\"5\" height=\"1\" alt=\"\"></td>\r\n",
            "    <td bgcolor=\"#CCCCCC\"><img src=\"/shared/img/o.gif\" width=\"1\" height=\"1\" alt=\"\"></td>\r\n",
            "    </tr>\r\n",
            "    </table>\r\n",
            "\r\n",
            "\r\n",
            "\r\n",
            "\r\n",
            "<table width=\"100\" cellspacing=\"0\" cellpadding=\"0\" border=\"0\">\r\n",
            "<tr>\r\n",
            "<td bgcolor=\"#CCCCCC\"><img src=\"/shared/img/o.gif\" width=\"1\" height=\"1\" alt=\"\"></td>\r\n",
            "<td class=\"servicebg5\"><img src=\"/shared/img/o.gif\" width=\"3\" height=\"1\" alt=\"\"></td>\r\n",
            "<td align=\"right\" class=\"servicebg5\"><div class=\"servicesnav\"><a href=\"/2/shared/bsp/hi/services/feedback/html/default.stm\">Feedback\r\n",
            "</a></div></td>\r\n",
            "<td class=\"serviceoption5\"><img src=\"/shared/img/o.gif\" width=\"5\" height=\"1\" alt=\"\"></td>\r\n",
            "<td bgcolor=\"#CCCCCC\"><img src=\"/shared/img/o.gif\" width=\"1\" height=\"1\" alt=\"\"></td>\r\n",
            "</tr>\r\n",
            "<tr>\r\n",
            "<td bgcolor=\"#CCCCCC\"><img src=\"/shared/img/o.gif\" width=\"1\" height=\"1\" alt=\"\"></td>\r\n",
            "<td class=\"servicebg6\"><img src=\"/shared/img/o.gif\" width=\"3\" height=\"1\" alt=\"\"></td>\r\n",
            "<td align=\"right\" class=\"servicebg6\"><div class=\"servicesnav\"><a href=\"/2/shared/bsp/hi/services/help/html/default.stm\">Help\r\n",
            "</a></div></td>\r\n",
            "<td class=\"serviceoption6\"><img src=\"/shared/img/o.gif\" width=\"5\" height=\"1\" alt=\"\"></td>\r\n",
            "<td bgcolor=\"#CCCCCC\"><img src=\"/shared/img/o.gif\" width=\"1\" height=\"1\" alt=\"\"></td>\r\n",
            "</tr>\r\n",
            "<tr bgcolor=\"#CCCCCC\">\r\n",
            "<td><img src=\"/shared/img/o.gif\" width=\"1\" height=\"1\" alt=\"\"></td>\r\n",
            "<td><img src=\"/shared/img/o.gif\" width=\"3\" height=\"1\" alt=\"\"></td>\r\n",
            "<td><img src=\"/shared/img/o.gif\" width=\"90\" height=\"1\" alt=\"\"></td>\r\n",
            "<td><img src=\"/shared/img/o.gif\" width=\"5\" height=\"1\" alt=\"\"></td>\r\n",
            "<td><img src=\"/shared/img/o.gif\" width=\"1\" height=\"1\" alt=\"\"></td>\r\n",
            "</tr>\r\n",
            "<tr>\r\n",
            "<td colspan=\"5\"><img src=\"/shared/img/o.gif\" width=\"1\" height=\"4\" alt=\"\"></td>\r\n",
            "</tr>\r\n",
            "</table>\r\n",
            "\r\n",
            "\r\n",
            "\r\n",
            "\r\n",
            "\r\n",
            "\r\n",
            "<table width=\"100\" cellspacing=\"0\" cellpadding=\"0\" border=\"0\">\r\n",
            "<tr bgcolor=\"#6699CC\">\r\n",
            "<td><img src=\"/shared/img/o.gif\" width=\"1\" height=\"1\" alt=\"\"></td>\r\n",
            "<td><img src=\"/shared/img/o.gif\" width=\"3\" height=\"1\" alt=\"\"></td>\r\n",
            "<td><img src=\"/shared/img/o.gif\" width=\"90\" height=\"1\" alt=\"\"></td>\r\n",
            "<td><img src=\"/shared/img/o.gif\" width=\"5\" height=\"1\" alt=\"\"></td>\r\n",
            "<td><img src=\"/shared/img/o.gif\" width=\"1\" height=\"1\" alt=\"\"></td>\r\n",
            "</tr>\r\n",
            "<tr bgcolor=\"#336699\">\r\n",
            "<td colspan=\"3\" align=\"right\"><div class=\"servicehead\">EDITIONS\r\n",
            "</div></td>\r\n",
            "<td><img src=\"/shared/img/o.gif\" width=\"5\" height=\"1\" alt=\"\"></td>\r\n",
            "<td><img src=\"/shared/img/o.gif\" width=\"1\" height=\"1\" alt=\"\"></td>\r\n",
            "</tr>\r\n",
            "<tr>\r\n",
            "<td bgcolor=\"#CCCCCC\"><img src=\"/shared/img/o.gif\" width=\"1\" height=\"1\" alt=\"\"></td>\r\n",
            "<td><img src=\"/shared/img/o.gif\" width=\"3\" height=\"1\" alt=\"\"></td>\r\n",
            "<td align=\"right\"><div class=\"servicesnavtight\"><a href=\"/shared/hi/change_edition-news.stm\">Change to UK\r\n",
            "</a></div></td>\r\n",
            "<td><img src=\"/shared/img/o.gif\" width=\"5\" height=\"1\" alt=\"\"></td>\r\n",
            "<td bgcolor=\"#CCCCCC\"><img src=\"/shared/img/o.gif\" width=\"1\" height=\"1\" alt=\"\"></td>\r\n",
            "</tr>\r\n",
            "<tr bgcolor=\"#CCCCCC\">\r\n",
            "<td><img src=\"/shared/img/o.gif\" width=\"1\" height=\"1\" alt=\"\"></td>\r\n",
            "<td><img src=\"/shared/img/o.gif\" width=\"3\" height=\"1\" alt=\"\"></td>\r\n",
            "<td><img src=\"/shared/img/o.gif\" width=\"90\" height=\"1\" alt=\"\"></td>\r\n",
            "<td><img src=\"/shared/img/o.gif\" width=\"5\" height=\"1\" alt=\"\"></td>\r\n",
            "<td><img src=\"/shared/img/o.gif\" width=\"1\" height=\"1\" alt=\"\"></td>\r\n",
            "</tr>\r\n",
            "</table>\r\n",
            "</td>\r\n",
            "<td><img src=\"/shared/img/o.gif\" width=\"5\" height=\"200\" alt=\"\"></td>\r\n",
            "<td valign=\"TOP\">\r\n",
            "    \t\r\n",
            "\t\r\n",
            "\r\n",
            "                \r\n",
            "\r\n",
            "\r\n",
            "<font face=\"sans-serif\" size=\"1\"><span class=\"date\">Friday, 27 September, 2002, 11:51 GMT 12:51 UK\r\n",
            "</span></font>\r\n",
            "\r\n",
            "\r\n",
            "\r\n",
            "\r\n",
            "\t\t\r\n",
            "\t\t\t<div class=\"headlinestory\"><b>Blondes 'to die out in 200 years'</b><br></div>\r\n",
            "\t\t\r\n",
            "\r\n",
            "\t\r\n",
            "\r\n",
            "\t\r\n",
            "                \r\n",
            "\t\r\n",
            "\t<div class=\"inlineimage\">\r\n",
            "\t\t<img height=\"180\" vspace=\"0\" border=\"0\" width=\"300\" alt=\" \" src=\"/media/images/38280000/jpg/_38280456_blonde300.jpg\">\r\n",
            "\t\t\r\n",
            "\t\t\t<div class=\"caption\"><font size=\"1\">Scientists believe the last blondes will be in Finland</font><br></div>\r\n",
            "\t\t\r\n",
            "\t</div>\r\n",
            "\t\r\n",
            "\r\n",
            "\t\r\n",
            "\r\n",
            "\t<font class=\"body\" face=\"sans-serif\" size=\"2\">\r\n",
            "\t<div class=\"bodytext\">\r\n",
            "\tThe last natural blondes will die out within 200 years, scientists believe. \r\n",
            "<P>\r\n",
            "A study by experts in Germany suggests people with blonde hair are an endangered species and will become extinct by 2202.\r\n",
            "<P>\r\n",
            "Researchers predict the last truly natural blonde will be born in Finland - the country with the highest proportion of blondes. \r\n",
            "<P>\r\n",
            "\r\n",
            "\r\n",
            "<!-- GENInlineBOX -->\r\n",
            "\r\n",
            "\t<table bgcolor=\"#FFFFCC\" class=\"boxbody\" cellspacing=\"0\" width=\"150\" border=\"0\" cellpadding=\"3\" align=\"right\">\r\n",
            "\r\n",
            "\r\n",
            "\r\n",
            "\r\n",
            "<!-- GENInlineQUOTE -->\r\n",
            "\r\n",
            "\t<tr><td><img src=\"/nol/shared/img/startquote.gif\" width=\"23\" height=\"18\" border=\"0\" valign=\"TOP\" alt=\"\"><br><div class=\"boxbody\">\r\n",
            "\r\n",
            "\r\n",
            "\r\n",
            "\r\n",
            "\r\n",
            "\tThe frequency of blondes may drop but they won't disappear\r\n",
            "\r\n",
            "\r\n",
            "\r\n",
            "\r\n",
            "\r\n",
            "\t</div><img align=\"RIGHT\" src=\"/nol/shared/img/endquote.gif\" width=\"23\" height=\"18\" border=\"0\" valign=\"ABSBOTTOM\" alt=\"\"><br clear=\"ALL\"></td></tr>\r\n",
            "\r\n",
            "\r\n",
            "\r\n",
            "<!-- GENInlineNAME -->\r\n",
            "\r\n",
            "\t<tr><td bgcolor=\"cccc99\"><div class=\"boxhead\">\r\n",
            "\r\n",
            "\r\n",
            "\r\n",
            "\r\n",
            "\r\n",
            "\tProf Jonathan Rees, University of Edinburgh\r\n",
            "\r\n",
            "\r\n",
            "\r\n",
            "\r\n",
            "\r\n",
            "\t</div></td></tr>\r\n",
            "\r\n",
            "\r\n",
            "\r\n",
            "\r\n",
            "\r\n",
            "\r\n",
            "\t</table>\r\n",
            "\r\n",
            "\r\n",
            "\r\n",
            "\r\n",
            "\t\r\n",
            "But they say too few people now carry the gene for blondes to last beyond the next two centuries. \r\n",
            "<P>\r\n",
            "The problem is that blonde hair is caused by a recessive gene. \r\n",
            "<P>\r\n",
            "In order for a child to have blonde hair, it must have the gene on both sides of the family in the grandparents' generation. \r\n",
            "<P><B>Dyed rivals</B>\r\n",
            "<P>\r\n",
            "\r\n",
            "The researchers also believe that so-called bottle blondes may be to blame for the demise of their natural rivals. \r\n",
            "<P>\r\n",
            "They suggest that dyed-blondes are more attractive to men who choose them as partners over true blondes. \r\n",
            "<P>\r\n",
            "\r\n",
            "\r\n",
            "<!-- GENInlineIMAGE -->\r\n",
            "\r\n",
            "\t\t\r\n",
            "\t\t\t<table cellspacing=\"3\" align=\"RIGHT\" width=\"154\" border=\"0\" cellpadding=\"3\"><tr><td><font size=\"2\">\r\n",
            "\t\t\r\n",
            "\t\t<div class=\"inlineimage\">\r\n",
            "            <img alt=\"Tory MP Ann Widdecombe\" height=\"180\" vspace=\"0\" src=\"/media/images/38280000/jpg/_38280457_widders150.jpg\" border=\"0\" width=\"150\">\r\n",
            "            \r\n",
            "                <div class=\"caption\"><small>Bottle-blondes like Ann Widdecombe may be to blame</small><br></div>\r\n",
            "            \r\n",
            "\t\t</div>\r\n",
            "\t\t\r\n",
            "\t\t\t</font></td></tr></table>\r\n",
            "\t\t\r\n",
            "\r\n",
            "\t\r\n",
            "But Jonathan Rees, professor of dermatology at the University of Edinburgh said it was unlikely blondes would die out completely. \r\n",
            "<P>\r\n",
            "\"Genes don't die out unless there is a disadvantage of having that gene or by chance. They don't disappear,\" he told BBC News Online.\r\n",
            "<P>\r\n",
            "\"The only reason blondes would disappear is if having the gene was a disadvantage and I do not think that is the case. \r\n",
            "<P>\r\n",
            "\"The frequency of blondes may drop but they won't disappear.\"\r\n",
            "<P>\r\n",
            "\r\n",
            "\r\n",
            "\r\n",
            "</div>\r\n",
            "\t</font>\r\n",
            "\r\n",
            "\r\n",
            "\r\n",
            "\r\n",
            "</td>\r\n",
            "<td><img src=\"/shared/img/o.gif\" width=\"10\" height=\"1\" alt=\"\"></td>\r\n",
            "<td valign=\"TOP\"><font face=\"sans-serif\" size=\"2\">\r\n",
            "\t\r\n",
            "\t\r\n",
            "\r\n",
            "\t\r\n",
            "        \r\n",
            "\t<div class=\"rhslist\"><div class=\"rhshead\"><b>See also:</b><br><img src=\"/shared/img/999999.gif\" width=\"170\" vspace=\"2\" height=\"1\" alt=\"\"><br></div>\r\n",
            "\t\r\n",
            "\t\t<div class=\"aitem\">\r\n",
            "\t\t\t<span class=\"seealsodate\">28 Mar 01&nbsp;|&nbsp;Education</span>\r\n",
            "                        <div><a href=\"/2/hi/uk_news/education/1248103.stm\"><span>What is it about blondes?</span></a><br></div>\r\n",
            "\r\n",
            "\t\t</div>\r\n",
            "\t\r\n",
            "\t\t<div class=\"aitem\">\r\n",
            "\t\t\t<span class=\"seealsodate\">09 Apr 99&nbsp;|&nbsp;Health</span>\r\n",
            "                        <div><a href=\"/2/hi/health/315527.stm\"><span>Platinum blondes are labelled as dumb</span></a><br></div>\r\n",
            "\r\n",
            "\t\t</div>\r\n",
            "\t\r\n",
            "\t\t<div class=\"aitem\">\r\n",
            "\t\t\t<span class=\"seealsodate\">17 Apr 02&nbsp;|&nbsp;Health</span>\r\n",
            "                        <div><a href=\"/2/hi/health/1934496.stm\"><span>Hair dye cancer alert</span></a><br></div>\r\n",
            "\r\n",
            "\t\t</div>\r\n",
            "\t\r\n",
            "\t</div>\r\n",
            "\r\n",
            "\r\n",
            "\r\n",
            "\t\r\n",
            "<div class=\"rhslist\">\r\n",
            "<div class=\"rhshead\"><b>Internet links:</b><br><img src=\"/shared/img/999999.gif\" width=\"170\" vspace=\"2\" height=\"1\" alt=\"\"><br></div>\r\n",
            "<div class=\"aitem\"><a href=\"http://www.ed.ac.uk/\">University of Edinburgh</a></div>\r\n",
            "<span class=\"disclaimer\"><br>The BBC is not responsible for the content of external internet sites</span><br>\r\n",
            "</div>\r\n",
            "\r\n",
            "\t\r\n",
            "            \r\n",
            "    \r\n",
            "<div class=\"rhslist\">\r\n",
            "\t<div class=\"rhshead\"><b>Top Health stories now:</b><br><img src=\"/shared/img/999999.gif\" width=\"170\" vspace=\"2\" height=\"1\" alt=\"\"><br></div>\r\n",
            "\t\r\n",
            "            <div class=\"bulletheadline\"><a href=\"/2/hi/health/2770999.stm\"><span>Heart risk link to big families</span></a><br></div>\r\n",
            "\r\n",
            "\t\r\n",
            "            <div class=\"bulletheadline\"><a href=\"/2/hi/health/2761469.stm\"><span>Back pain drug 'may aid diabetics'</span></a><br></div>\r\n",
            "\r\n",
            "\t\r\n",
            "            <div class=\"bulletheadline\"><a href=\"/2/hi/africa/2776719.stm\"><span>Congo Ebola outbreak confirmed</span></a><br></div>\r\n",
            "\r\n",
            "\t\r\n",
            "            <div class=\"bulletheadline\"><a href=\"/2/hi/health/2772499.stm\"><span>Vegetables ward off Alzheimer's</span></a><br></div>\r\n",
            "\r\n",
            "\t\r\n",
            "            <div class=\"bulletheadline\"><a href=\"/2/hi/middle_east/2774951.stm\"><span>Polio campaign launched in Iraq</span></a><br></div>\r\n",
            "\r\n",
            "\t\r\n",
            "            <div class=\"bulletheadline\"><a href=\"/2/hi/health/2760843.stm\"><span>Gene defect explains high blood pressure</span></a><br></div>\r\n",
            "\r\n",
            "\t\r\n",
            "            <div class=\"bulletheadline\"><a href=\"/2/hi/health/2772263.stm\"><span>Botox 'may cause new wrinkles'</span></a><br></div>\r\n",
            "\r\n",
            "\t\r\n",
            "            <div class=\"bulletheadline\"><a href=\"/2/hi/in_depth/sci_tech/2003/denver_2003/2769875.stm\"><span>Alien 'abductees' show real symptoms</span></a><br></div>\r\n",
            "\r\n",
            "\t\r\n",
            "</div>\r\n",
            "<img src=\"/shared/img/999999.gif\" width=\"170\" height=\"1\" border=\"0\" alt=\"\">\r\n",
            "<div class=\"promotextbold\">Links to more Health stories are at the foot of the page.<br><img src=\"/shared/img/999999.gif\" width=\"170\" height=\"1\" border=\"0\" vspace=\"4\" alt=\"\"><br>\r\n",
            "</div>\r\n",
            "\r\n",
            "\r\n",
            "    \r\n",
            "    \r\n",
            "\r\n",
            "\t\r\n",
            "</font></td>\r\n",
            "</tr>\r\n",
            "</table>\r\n",
            "<br>\r\n",
            "<table border=\"0\" cellpadding=\"0\" cellspacing=\"0\">\r\n",
            "<tr>\r\n",
            "  <td width=\"115\"><img src=\"/shared/img/o.gif\" width=\"105\" height=\"1\" border=\"0\" alt=\"\"></td>\r\n",
            "  <td width=\"315\"><img border=\"0\" alt=\"\" src=\"/shared/img/999999.gif\" width=\"315\" height=\"1\"></td>\r\n",
            "</tr>\r\n",
            "<tr>\r\n",
            "  <td width=\"115\" height=\"18\"><img src=\"/shared/img/o.gif\" width=\"115\" height=\"1\" border=\"0\" alt=\"\"></td>\r\n",
            "  <td width=\"315\" align=\"left\"><a onClick=\"window.open('http://newsvote.bbc.co.uk/cgi-bin/emailthisstory/emailthisstory.pl','Mailer','status=no,scrollbars=yes,resizable=yes,width=370,height=445');\" href=\"http://newsvote.bbc.co.uk/cgi-bin/emailthisstory/emailthisstory.pl\" class=\"index\" target=\"Mailer\"><img border=\"0\" alt=\"\" src=\"/sol/shared/img/mail_icon.gif\" width=\"13\" height=\"9\"> <span class=\"blueText\"><b>E-mail this story to a friend</b></span></td>\r\n",
            "</tr>\r\n",
            "</table>\r\n",
            "\r\n",
            "    <table border=\"0\" cellpadding=\"0\" cellspacing=\"0\">\r\n",
            "  <tr>\r\n",
            "    <td width=\"115\"><img src=\"/shared/img/o.gif\" width=\"115\" height=\"1\" alt=\"\"></td>\r\n",
            "    <td width=\"315\"><img border=\"0\" alt=\"\" src=\"/shared/img/999999.gif\" width=\"315\" height=\"1\"></td>\r\n",
            "  </tr>\r\n",
            "  <tr>\r\n",
            "    <td><img src=\"/shared/img/o.gif\" width=\"115\" height=\"1\" alt=\"\"></td>\r\n",
            "    <td align=\"left\">\r\n",
            "\r\n",
            "<br clear=\"all\">\r\n",
            "<font size=\"2\">\r\n",
            " <span class=\"blackText\">\r\n",
            "<b>Links to more Health stories</b></span>\r\n",
            "<br>\r\n",
            "<form name=\"storyMenu\">\r\n",
            "<select name=\"storyLink\">\r\n",
            "<option value=\"#\">In This Section</option>\r\n",
            "\r\n",
            "        <OPTION value=\"/2/hi/health/2770999.stm\">Heart risk link to big families</OPTION>\r\n",
            "\r\n",
            "        <OPTION value=\"/2/hi/health/2761469.stm\">Back pain drug 'may aid diabetics'</OPTION>\r\n",
            "\r\n",
            "        <OPTION value=\"/2/hi/africa/2776719.stm\">Congo Ebola outbreak confirmed</OPTION>\r\n",
            "\r\n",
            "        <OPTION value=\"/2/hi/health/2772499.stm\">Vegetables ward off Alzheimer's</OPTION>\r\n",
            "\r\n",
            "        <OPTION value=\"/2/hi/middle_east/2774951.stm\">Polio campaign launched in Iraq</OPTION>\r\n",
            "\r\n",
            "        <OPTION value=\"/2/hi/health/2760843.stm\">Gene defect explains high blood pressure</OPTION>\r\n",
            "\r\n",
            "        <OPTION value=\"/2/hi/health/2772263.stm\">Botox 'may cause new wrinkles'</OPTION>\r\n",
            "\r\n",
            "        <OPTION value=\"/2/hi/in_depth/sci_tech/2003/denver_2003/2769875.stm\">Alien 'abductees' show real symptoms</OPTION>\r\n",
            "\r\n",
            "        <OPTION value=\"/2/hi/health/2760623.stm\">How sperm wriggle</OPTION>\r\n",
            "\r\n",
            "        <OPTION value=\"/2/hi/south_asia/2770437.stm\">Bollywood told to stub it out</OPTION>\r\n",
            "\r\n",
            "        <OPTION value=\"/2/hi/health/2772005.stm\">Fears over tuna health risk to babies</OPTION>\r\n",
            "\r\n",
            "        <OPTION value=\"/2/hi/health/2758249.stm\">Public can be taught to spot strokes</OPTION>\r\n",
            "\r\n",
            "</select>\r\n",
            "<INPUT VALUE=\"Go\" TYPE=\"BUTTON\" onClick=\"window.location = document.storyMenu.storyLink.options[document.storyMenu.storyLink.options.selectedIndex].value\">\r\n",
            "</form>\r\n",
            "</font>\r\n",
            "\r\n",
            "</td>\r\n",
            "  </tr>\r\n",
            "</table>\r\n",
            "\r\n",
            "    \r\n",
            "    \r\n",
            "\r\n",
            "<br clear=\"ALL\">\r\n",
            "<table width=\"610\" cellpadding=\"0\" cellspacing=\"0\" border=\"0\">\r\n",
            "<tr>\r\n",
            "<td><img border=\"0\" alt=\"\" src=\"/shared/img/o.gif\" width=\"100\" height=\"1\"></td>\r\n",
            "<td><img border=\"0\" alt=\"\" src=\"/shared/img/o.gif\" width=\"10\" height=\"1\"></td>\r\n",
            "<td><img border=\"0\" alt=\"\" src=\"/shared/img/o.gif\" width=\"500\" height=\"1\"></td>\r\n",
            "</tr>\r\n",
            "<tr>\r\n",
            "<td colspan=\"3\"><img vspace=\"4\" alt=\"\" src=\"/shared/img/000000.gif\" width=\"610\" height=\"1\"></td>\r\n",
            "</tr>\r\n",
            "<tr>\r\n",
            "<td align=\"right\" valign=\"top\"><a href=\"/2/shared/bsp/hi/services/copyright/html/default.stm\"><img src=\"/nol/shared/img/specials_nav/copyright_bbc.gif\" alt=\"&copy; BBC\" border=\"0\"></a></td>\r\n",
            "<td><img border=\"0\" alt=\"\" src=\"/shared/img/o.gif\" width=\"10\" height=\"1\"></td>\r\n",
            "<td>\r\n",
            "<font size=\"2\">\r\n",
            "<span class=\"footerarrow\">^^  </span>\r\n",
            "<span class=\"footer\"><a href=\"#top\">Back to top</a>\r\n",
            "<p>\r\n",
            "\r\n",
            "    <table width=\"500\" cellpadding=\"0\" cellspacing=\"0\" border=\"0\">\r\n",
            "<tr>\r\n",
            "<td><img border=\"0\" alt=\"\" src=\"/shared/img/o.gif\" width=\"500\" height=\"1\"></td>\r\n",
            "</tr>\r\n",
            "<tr>\r\n",
            "<td><b class=\"footer\"><span class=\"footerpiping\">\r\n",
            "<a href=\"/2/hi/default.stm\" class=\"index\">News Front Page</a>\r\n",
            " | \r\n",
            "\r\n",
            "\r\n",
            "<a href=\"/2/hi/africa/default.stm\" class=\"index\">Africa</a>\r\n",
            " | \r\n",
            "\r\n",
            "\r\n",
            "<a href=\"/2/hi/americas/default.stm\" class=\"index\">Americas</a>\r\n",
            " | \r\n",
            "\r\n",
            "\r\n",
            "<a href=\"/2/hi/asia-pacific/default.stm\" class=\"index\">Asia-Pacific</a>\r\n",
            " | \r\n",
            "\r\n",
            "\r\n",
            "<a href=\"/2/hi/europe/default.stm\" class=\"index\">Europe</a>\r\n",
            " | \r\n",
            "\r\n",
            "\r\n",
            "<a href=\"/2/hi/middle_east/default.stm\" class=\"index\">Middle East</a>\r\n",
            " | \r\n",
            "<br>\r\n",
            "\r\n",
            "<a href=\"/2/hi/south_asia/default.stm\" class=\"index\">South Asia</a>\r\n",
            " | \r\n",
            "\r\n",
            "\r\n",
            "<a href=\"/2/hi/uk_news/default.stm\" class=\"index\">UK</a>\r\n",
            " | \r\n",
            "\r\n",
            "\r\n",
            "<a href=\"/2/hi/business/default.stm\" class=\"index\">Business</a>\r\n",
            " | \r\n",
            "\r\n",
            "\r\n",
            "<a href=\"/2/hi/entertainment/default.stm\" class=\"index\">Entertainment</a>\r\n",
            " | \r\n",
            "\r\n",
            "\r\n",
            "<a href=\"/2/hi/science/nature/default.stm\" class=\"index\">Science/Nature</a>\r\n",
            " | \r\n",
            "<br>\r\n",
            "\r\n",
            "<a href=\"/2/hi/technology/default.stm\" class=\"index\">Technology</a>\r\n",
            " | \r\n",
            "\r\n",
            "\r\n",
            "<a href=\"/2/hi/health/default.stm\" class=\"index\">Health</a>\r\n",
            " | \r\n",
            "\r\n",
            "\r\n",
            "<a href=\"/2/hi/talking_point/default.stm\" class=\"index\">Talking Point</a>\r\n",
            " | \r\n",
            "\r\n",
            "<a href=\"/2/shared/bsp/hi/country_profiles/html/default.stm\" class=\"index\">Country Profiles</a>\r\n",
            "\r\n",
            " | \r\n",
            "\r\n",
            "<a href=\"/2/shared/bsp/hi/in_depth/html/default.stm\" class=\"index\">In Depth</a>\r\n",
            "\r\n",
            " | \r\n",
            "<br>\r\n",
            "\r\n",
            "<a href=\"/2/hi/programmes/default.stm\" class=\"index\">Programmes</a>\r\n",
            "\r\n",
            "\r\n",
            "</span></b></td>\r\n",
            "</tr>\r\n",
            "</table>\r\n",
            "    \r\n",
            "    \r\n",
            "</span></font></td>\r\n",
            "</tr>\r\n",
            "</table>\r\n",
            "    <table width=\"610\" cellpadding=\"0\" cellspacing=\"0\" border=\"0\">\r\n",
            "    <tr>\r\n",
            "    <td><img src=\"/shared/img/o.gif\" width=\"110\" height=\"1\" alt=\"\"></td>\r\n",
            "    <!-- black line row -->\r\n",
            "    <td class=\"footer\" align=\"left\" valign=\"top\" width=\"600\" bgcolor=\"#FFFFFF\"><b><span style=\"color : #999999;\">----------------------------------------------------------------------------------\r\n",
            "</span>\r\n",
            "    <br>\r\n",
            "    <a class=\"index\" href=\"/sport2/\">To BBC Sport&gt;&gt;\r\n",
            "</a> <span style=\"color : #999999;\">|\r\n",
            "</span> <a class=\"index\" href=\"http://www.bbc.co.uk/weather/\">To BBC Weather&gt;&gt;\r\n",
            "</a> <span style=\"color : #999999;\">|\r\n",
            "</span> <a class=\"index\" href=\"http://www.bbc.co.uk/worldservice/index.shtml\">To BBC World Service&gt;&gt;\r\n",
            "</a>\r\n",
            "    <br>\r\n",
            "    <b><span style=\"color : #999999;\">----------------------------------------------------------------------------------\r\n",
            "</span>\r\n",
            "    <br>\r\n",
            "    <a class=\"footer\" href=\"/2/shared/bsp/hi/services/copyright/html/default.stm\"><span style=\"font-size : 10px\">&copy; MMIII\r\n",
            "</span></a> <font size=\"1\">|\r\n",
            "</font> <a class=\"footer\" href=\"/2/shared/bsp/hi/services/help/html/sources.stm\"><span style=\"font-size : 10px\">News Sources\r\n",
            "</span></a> <font size=\"1\">|\r\n",
            "</font> <a class=\"footer\" href=\"http://www.bbc.co.uk/privacy/\"><span style=\"font-size : 10px\">Privacy\r\n",
            "</span></a></b>\r\n",
            "    <br><br><br>\r\n",
            "    </td>\r\n",
            "    </tr>\r\n",
            "    </table>\r\n",
            "<!-- START RedMeasure V4 - Java v1.1  $Revision: 1.9 $ -->\r\n",
            "<!-- COPYRIGHT 2000 Red Sheriff Limited -->\r\n",
            "\r\n",
            "<script language=\"JavaScript\"><!--\r\n",
            "var pCid=\"uk_bbc_0\";\r\n",
            "var w0=1;\r\n",
            "var refR=escape(document.referrer);\r\n",
            "if (refR.length>=252) refR=refR.substring(0,252)+\"...\";\r\n",
            "//--></script>\r\n",
            "<script language=\"JavaScript1.1\"><!--\r\n",
            "var w0=0;\r\n",
            "//--></script>\r\n",
            "<script language=\"JavaScript1.1\" src=\"http://server-uk.imrworldwide.com/a1.js\">\r\n",
            "</script>\r\n",
            "<script language=\"JavaScript\"><!--\r\n",
            "if(w0){\r\n",
            "var imgN='<img src=\"http://server-uk.imrworldwide.com/cgi-bin/count?ref='+\r\n",
            "\trefR+'&cid='+pCid+'\" width=1 height=1>';\r\n",
            "if(navigator.userAgent.indexOf('Mac')!=-1){document.write(imgN);\r\n",
            "}else{\r\n",
            "\tdocument.write('<applet code=\"Measure.class\" '+\r\n",
            "\t'codebase=\"http://server-uk.imrworldwide.com/\"'+'width=1 height=2>'+\r\n",
            "\t'<param name=\"ref\" value=\"'+refR+'\">'+'<param name=\"cid\" value=\"'+pCid+\r\n",
            "\t'\"><textflow>'+imgN+'</textflow></applet>');\r\n",
            "\t}\r\n",
            "}\r\n",
            "document.write(\"<COMMENT>\");\r\n",
            "//-->\r\n",
            "</script>\r\n",
            "<noscript>\r\n",
            "<img src=\"http://server-uk.imrworldwide.com/cgi-bin/count?cid=uk_bbc_0\" width=1 height=1>\r\n",
            "</noscript>\r\n",
            "</COMMENT>\r\n",
            "\r\n",
            "<!-- END RedMeasure V4 -->\r\n",
            "\r\n",
            "<script>\r\n",
            "\tvar si = document.location+\"\";\r\n",
            "\tvar tsi = si.replace(\".stm\",\"\").substr(si.length-11, si.length);\r\n",
            "\tif (!tsi.match(/\\d\\d\\d\\d\\d\\d\\d/)) {tsi = 0;}\r\n",
            "\tdocument.write('<img src=\"http://stats.bbc.co.uk/o.gif?~RS~s~RS~News~RS~t~RS~HighWeb_Legacy~RS~i~RS~' + tsi + '~RS~p~RS~0~RS~u~RS~/2/hi/health/2284783.stm~RS~r~RS~(none)~RS~a~RS~International~RS~q~RS~~RS~z~RS~23~RS~\">');\r\n",
            "</script>\r\n",
            "<noscript>\r\n",
            "\t<img src=\"http://stats.bbc.co.uk/o.gif?~RS~s~RS~News~RS~t~RS~HighWeb_Legacy~RS~i~RS~0~RS~p~RS~0~RS~u~RS~/2/hi/health/2284783.stm~RS~r~RS~(none)~RS~a~RS~International~RS~q~RS~~RS~z~RS~23~RS~\">\r\n",
            "</noscript>\r\n",
            "\r\n",
            "\r\n",
            "\r\n",
            "<br>\r\n",
            "<link type=\"text/css\" rel=\"stylesheet\" href=\"/nol/shared/stylesheets/uki_globalstylesheet.css\">\r\n",
            "\r\n",
            "</body>\r\n",
            "</html>\r\n",
            "\n"
          ]
        }
      ]
    },
    {
      "cell_type": "markdown",
      "source": [
        "\n",
        "\n",
        "> **!!! NOTE:** If we only use request.urlopen to fetch HTML, the raw result will include the full HTML content with meta tags, image maps, JavaScript, forms, and tables.\n",
        "\n",
        "> In this case, to get text out of HTML, we will use a Python library called ***BeautifulSoup***\n",
        "\n"
      ],
      "metadata": {
        "id": "YvX1ZF7s7YZH"
      }
    },
    {
      "cell_type": "markdown",
      "source": [
        "### **BeautifulSoup**\n",
        "---"
      ],
      "metadata": {
        "id": "uC0k3fwz81AO"
      }
    },
    {
      "cell_type": "code",
      "source": [
        "!pip install beautifulsoup4"
      ],
      "metadata": {
        "colab": {
          "base_uri": "https://localhost:8080/"
        },
        "collapsed": true,
        "id": "bIjaS_3I88E7",
        "outputId": "64370f8c-7517-4561-c536-623787562557"
      },
      "execution_count": null,
      "outputs": [
        {
          "output_type": "stream",
          "name": "stdout",
          "text": [
            "Requirement already satisfied: beautifulsoup4 in /usr/local/lib/python3.12/dist-packages (4.13.5)\n",
            "Requirement already satisfied: soupsieve>1.2 in /usr/local/lib/python3.12/dist-packages (from beautifulsoup4) (2.8)\n",
            "Requirement already satisfied: typing-extensions>=4.0.0 in /usr/local/lib/python3.12/dist-packages (from beautifulsoup4) (4.15.0)\n"
          ]
        }
      ]
    },
    {
      "cell_type": "code",
      "source": [
        "from bs4 import BeautifulSoup"
      ],
      "metadata": {
        "id": "63BcKgQN9An2"
      },
      "execution_count": null,
      "outputs": []
    },
    {
      "cell_type": "code",
      "source": [
        "raw = BeautifulSoup(eng_html, 'html.parser').get_text()\n",
        "tokens = word_tokenize(raw)\n",
        "tokens"
      ],
      "metadata": {
        "colab": {
          "base_uri": "https://localhost:8080/"
        },
        "collapsed": true,
        "id": "Wu-kxNVk9SWs",
        "outputId": "d25f3358-292c-4436-d01e-ae50f6132642"
      },
      "execution_count": null,
      "outputs": [
        {
          "output_type": "execute_result",
          "data": {
            "text/plain": [
              "['BBC',\n",
              " 'NEWS',\n",
              " '|',\n",
              " 'Health',\n",
              " '|',\n",
              " 'Blondes',\n",
              " \"'to\",\n",
              " 'die',\n",
              " 'out',\n",
              " 'in',\n",
              " '200',\n",
              " 'years',\n",
              " \"'\",\n",
              " 'NEWS',\n",
              " 'SPORT',\n",
              " 'WEATHER',\n",
              " 'WORLD',\n",
              " 'SERVICE',\n",
              " 'A-Z',\n",
              " 'INDEX',\n",
              " 'SEARCH',\n",
              " 'You',\n",
              " 'are',\n",
              " 'in',\n",
              " ':',\n",
              " 'Health',\n",
              " 'News',\n",
              " 'Front',\n",
              " 'Page',\n",
              " 'Africa',\n",
              " 'Americas',\n",
              " 'Asia-Pacific',\n",
              " 'Europe',\n",
              " 'Middle',\n",
              " 'East',\n",
              " 'South',\n",
              " 'Asia',\n",
              " 'UK',\n",
              " 'Business',\n",
              " 'Entertainment',\n",
              " 'Science/Nature',\n",
              " 'Technology',\n",
              " 'Health',\n",
              " 'Medical',\n",
              " 'notes',\n",
              " '--',\n",
              " '--',\n",
              " '--',\n",
              " '--',\n",
              " '--',\n",
              " '--',\n",
              " '-',\n",
              " 'Talking',\n",
              " 'Point',\n",
              " '--',\n",
              " '--',\n",
              " '--',\n",
              " '--',\n",
              " '--',\n",
              " '--',\n",
              " '-',\n",
              " 'Country',\n",
              " 'Profiles',\n",
              " 'In',\n",
              " 'Depth',\n",
              " '--',\n",
              " '--',\n",
              " '--',\n",
              " '--',\n",
              " '--',\n",
              " '--',\n",
              " '-',\n",
              " 'Programmes',\n",
              " '--',\n",
              " '--',\n",
              " '--',\n",
              " '--',\n",
              " '--',\n",
              " '--',\n",
              " '-',\n",
              " 'SERVICES',\n",
              " 'Daily',\n",
              " 'E-mail',\n",
              " 'News',\n",
              " 'Ticker',\n",
              " 'Mobile/PDAs',\n",
              " '--',\n",
              " '--',\n",
              " '--',\n",
              " '--',\n",
              " '--',\n",
              " '--',\n",
              " '-',\n",
              " 'Text',\n",
              " 'Only',\n",
              " 'Feedback',\n",
              " 'Help',\n",
              " 'EDITIONS',\n",
              " 'Change',\n",
              " 'to',\n",
              " 'UK',\n",
              " 'Friday',\n",
              " ',',\n",
              " '27',\n",
              " 'September',\n",
              " ',',\n",
              " '2002',\n",
              " ',',\n",
              " '11:51',\n",
              " 'GMT',\n",
              " '12:51',\n",
              " 'UK',\n",
              " 'Blondes',\n",
              " \"'to\",\n",
              " 'die',\n",
              " 'out',\n",
              " 'in',\n",
              " '200',\n",
              " 'years',\n",
              " \"'\",\n",
              " 'Scientists',\n",
              " 'believe',\n",
              " 'the',\n",
              " 'last',\n",
              " 'blondes',\n",
              " 'will',\n",
              " 'be',\n",
              " 'in',\n",
              " 'Finland',\n",
              " 'The',\n",
              " 'last',\n",
              " 'natural',\n",
              " 'blondes',\n",
              " 'will',\n",
              " 'die',\n",
              " 'out',\n",
              " 'within',\n",
              " '200',\n",
              " 'years',\n",
              " ',',\n",
              " 'scientists',\n",
              " 'believe',\n",
              " '.',\n",
              " 'A',\n",
              " 'study',\n",
              " 'by',\n",
              " 'experts',\n",
              " 'in',\n",
              " 'Germany',\n",
              " 'suggests',\n",
              " 'people',\n",
              " 'with',\n",
              " 'blonde',\n",
              " 'hair',\n",
              " 'are',\n",
              " 'an',\n",
              " 'endangered',\n",
              " 'species',\n",
              " 'and',\n",
              " 'will',\n",
              " 'become',\n",
              " 'extinct',\n",
              " 'by',\n",
              " '2202',\n",
              " '.',\n",
              " 'Researchers',\n",
              " 'predict',\n",
              " 'the',\n",
              " 'last',\n",
              " 'truly',\n",
              " 'natural',\n",
              " 'blonde',\n",
              " 'will',\n",
              " 'be',\n",
              " 'born',\n",
              " 'in',\n",
              " 'Finland',\n",
              " '-',\n",
              " 'the',\n",
              " 'country',\n",
              " 'with',\n",
              " 'the',\n",
              " 'highest',\n",
              " 'proportion',\n",
              " 'of',\n",
              " 'blondes',\n",
              " '.',\n",
              " 'The',\n",
              " 'frequency',\n",
              " 'of',\n",
              " 'blondes',\n",
              " 'may',\n",
              " 'drop',\n",
              " 'but',\n",
              " 'they',\n",
              " 'wo',\n",
              " \"n't\",\n",
              " 'disappear',\n",
              " 'Prof',\n",
              " 'Jonathan',\n",
              " 'Rees',\n",
              " ',',\n",
              " 'University',\n",
              " 'of',\n",
              " 'Edinburgh',\n",
              " 'But',\n",
              " 'they',\n",
              " 'say',\n",
              " 'too',\n",
              " 'few',\n",
              " 'people',\n",
              " 'now',\n",
              " 'carry',\n",
              " 'the',\n",
              " 'gene',\n",
              " 'for',\n",
              " 'blondes',\n",
              " 'to',\n",
              " 'last',\n",
              " 'beyond',\n",
              " 'the',\n",
              " 'next',\n",
              " 'two',\n",
              " 'centuries',\n",
              " '.',\n",
              " 'The',\n",
              " 'problem',\n",
              " 'is',\n",
              " 'that',\n",
              " 'blonde',\n",
              " 'hair',\n",
              " 'is',\n",
              " 'caused',\n",
              " 'by',\n",
              " 'a',\n",
              " 'recessive',\n",
              " 'gene',\n",
              " '.',\n",
              " 'In',\n",
              " 'order',\n",
              " 'for',\n",
              " 'a',\n",
              " 'child',\n",
              " 'to',\n",
              " 'have',\n",
              " 'blonde',\n",
              " 'hair',\n",
              " ',',\n",
              " 'it',\n",
              " 'must',\n",
              " 'have',\n",
              " 'the',\n",
              " 'gene',\n",
              " 'on',\n",
              " 'both',\n",
              " 'sides',\n",
              " 'of',\n",
              " 'the',\n",
              " 'family',\n",
              " 'in',\n",
              " 'the',\n",
              " 'grandparents',\n",
              " \"'\",\n",
              " 'generation',\n",
              " '.',\n",
              " 'Dyed',\n",
              " 'rivals',\n",
              " 'The',\n",
              " 'researchers',\n",
              " 'also',\n",
              " 'believe',\n",
              " 'that',\n",
              " 'so-called',\n",
              " 'bottle',\n",
              " 'blondes',\n",
              " 'may',\n",
              " 'be',\n",
              " 'to',\n",
              " 'blame',\n",
              " 'for',\n",
              " 'the',\n",
              " 'demise',\n",
              " 'of',\n",
              " 'their',\n",
              " 'natural',\n",
              " 'rivals',\n",
              " '.',\n",
              " 'They',\n",
              " 'suggest',\n",
              " 'that',\n",
              " 'dyed-blondes',\n",
              " 'are',\n",
              " 'more',\n",
              " 'attractive',\n",
              " 'to',\n",
              " 'men',\n",
              " 'who',\n",
              " 'choose',\n",
              " 'them',\n",
              " 'as',\n",
              " 'partners',\n",
              " 'over',\n",
              " 'true',\n",
              " 'blondes',\n",
              " '.',\n",
              " 'Bottle-blondes',\n",
              " 'like',\n",
              " 'Ann',\n",
              " 'Widdecombe',\n",
              " 'may',\n",
              " 'be',\n",
              " 'to',\n",
              " 'blame',\n",
              " 'But',\n",
              " 'Jonathan',\n",
              " 'Rees',\n",
              " ',',\n",
              " 'professor',\n",
              " 'of',\n",
              " 'dermatology',\n",
              " 'at',\n",
              " 'the',\n",
              " 'University',\n",
              " 'of',\n",
              " 'Edinburgh',\n",
              " 'said',\n",
              " 'it',\n",
              " 'was',\n",
              " 'unlikely',\n",
              " 'blondes',\n",
              " 'would',\n",
              " 'die',\n",
              " 'out',\n",
              " 'completely',\n",
              " '.',\n",
              " '``',\n",
              " 'Genes',\n",
              " 'do',\n",
              " \"n't\",\n",
              " 'die',\n",
              " 'out',\n",
              " 'unless',\n",
              " 'there',\n",
              " 'is',\n",
              " 'a',\n",
              " 'disadvantage',\n",
              " 'of',\n",
              " 'having',\n",
              " 'that',\n",
              " 'gene',\n",
              " 'or',\n",
              " 'by',\n",
              " 'chance',\n",
              " '.',\n",
              " 'They',\n",
              " 'do',\n",
              " \"n't\",\n",
              " 'disappear',\n",
              " ',',\n",
              " \"''\",\n",
              " 'he',\n",
              " 'told',\n",
              " 'BBC',\n",
              " 'News',\n",
              " 'Online',\n",
              " '.',\n",
              " '``',\n",
              " 'The',\n",
              " 'only',\n",
              " 'reason',\n",
              " 'blondes',\n",
              " 'would',\n",
              " 'disappear',\n",
              " 'is',\n",
              " 'if',\n",
              " 'having',\n",
              " 'the',\n",
              " 'gene',\n",
              " 'was',\n",
              " 'a',\n",
              " 'disadvantage',\n",
              " 'and',\n",
              " 'I',\n",
              " 'do',\n",
              " 'not',\n",
              " 'think',\n",
              " 'that',\n",
              " 'is',\n",
              " 'the',\n",
              " 'case',\n",
              " '.',\n",
              " '``',\n",
              " 'The',\n",
              " 'frequency',\n",
              " 'of',\n",
              " 'blondes',\n",
              " 'may',\n",
              " 'drop',\n",
              " 'but',\n",
              " 'they',\n",
              " 'wo',\n",
              " \"n't\",\n",
              " 'disappear',\n",
              " '.',\n",
              " \"''\",\n",
              " 'See',\n",
              " 'also',\n",
              " ':',\n",
              " '28',\n",
              " 'Mar',\n",
              " '01',\n",
              " '|',\n",
              " 'Education',\n",
              " 'What',\n",
              " 'is',\n",
              " 'it',\n",
              " 'about',\n",
              " 'blondes',\n",
              " '?',\n",
              " '09',\n",
              " 'Apr',\n",
              " '99',\n",
              " '|',\n",
              " 'Health',\n",
              " 'Platinum',\n",
              " 'blondes',\n",
              " 'are',\n",
              " 'labelled',\n",
              " 'as',\n",
              " 'dumb',\n",
              " '17',\n",
              " 'Apr',\n",
              " '02',\n",
              " '|',\n",
              " 'Health',\n",
              " 'Hair',\n",
              " 'dye',\n",
              " 'cancer',\n",
              " 'alert',\n",
              " 'Internet',\n",
              " 'links',\n",
              " ':',\n",
              " 'University',\n",
              " 'of',\n",
              " 'Edinburgh',\n",
              " 'The',\n",
              " 'BBC',\n",
              " 'is',\n",
              " 'not',\n",
              " 'responsible',\n",
              " 'for',\n",
              " 'the',\n",
              " 'content',\n",
              " 'of',\n",
              " 'external',\n",
              " 'internet',\n",
              " 'sites',\n",
              " 'Top',\n",
              " 'Health',\n",
              " 'stories',\n",
              " 'now',\n",
              " ':',\n",
              " 'Heart',\n",
              " 'risk',\n",
              " 'link',\n",
              " 'to',\n",
              " 'big',\n",
              " 'families',\n",
              " 'Back',\n",
              " 'pain',\n",
              " 'drug',\n",
              " \"'may\",\n",
              " 'aid',\n",
              " 'diabetics',\n",
              " \"'\",\n",
              " 'Congo',\n",
              " 'Ebola',\n",
              " 'outbreak',\n",
              " 'confirmed',\n",
              " 'Vegetables',\n",
              " 'ward',\n",
              " 'off',\n",
              " 'Alzheimer',\n",
              " \"'s\",\n",
              " 'Polio',\n",
              " 'campaign',\n",
              " 'launched',\n",
              " 'in',\n",
              " 'Iraq',\n",
              " 'Gene',\n",
              " 'defect',\n",
              " 'explains',\n",
              " 'high',\n",
              " 'blood',\n",
              " 'pressure',\n",
              " 'Botox',\n",
              " \"'may\",\n",
              " 'cause',\n",
              " 'new',\n",
              " 'wrinkles',\n",
              " \"'\",\n",
              " 'Alien',\n",
              " \"'abductees\",\n",
              " \"'\",\n",
              " 'show',\n",
              " 'real',\n",
              " 'symptoms',\n",
              " 'Links',\n",
              " 'to',\n",
              " 'more',\n",
              " 'Health',\n",
              " 'stories',\n",
              " 'are',\n",
              " 'at',\n",
              " 'the',\n",
              " 'foot',\n",
              " 'of',\n",
              " 'the',\n",
              " 'page',\n",
              " '.',\n",
              " 'E-mail',\n",
              " 'this',\n",
              " 'story',\n",
              " 'to',\n",
              " 'a',\n",
              " 'friend',\n",
              " 'Links',\n",
              " 'to',\n",
              " 'more',\n",
              " 'Health',\n",
              " 'stories',\n",
              " 'In',\n",
              " 'This',\n",
              " 'Section',\n",
              " 'Heart',\n",
              " 'risk',\n",
              " 'link',\n",
              " 'to',\n",
              " 'big',\n",
              " 'families',\n",
              " 'Back',\n",
              " 'pain',\n",
              " 'drug',\n",
              " \"'may\",\n",
              " 'aid',\n",
              " 'diabetics',\n",
              " \"'\",\n",
              " 'Congo',\n",
              " 'Ebola',\n",
              " 'outbreak',\n",
              " 'confirmed',\n",
              " 'Vegetables',\n",
              " 'ward',\n",
              " 'off',\n",
              " 'Alzheimer',\n",
              " \"'s\",\n",
              " 'Polio',\n",
              " 'campaign',\n",
              " 'launched',\n",
              " 'in',\n",
              " 'Iraq',\n",
              " 'Gene',\n",
              " 'defect',\n",
              " 'explains',\n",
              " 'high',\n",
              " 'blood',\n",
              " 'pressure',\n",
              " 'Botox',\n",
              " \"'may\",\n",
              " 'cause',\n",
              " 'new',\n",
              " 'wrinkles',\n",
              " \"'\",\n",
              " 'Alien',\n",
              " \"'abductees\",\n",
              " \"'\",\n",
              " 'show',\n",
              " 'real',\n",
              " 'symptoms',\n",
              " 'How',\n",
              " 'sperm',\n",
              " 'wriggle',\n",
              " 'Bollywood',\n",
              " 'told',\n",
              " 'to',\n",
              " 'stub',\n",
              " 'it',\n",
              " 'out',\n",
              " 'Fears',\n",
              " 'over',\n",
              " 'tuna',\n",
              " 'health',\n",
              " 'risk',\n",
              " 'to',\n",
              " 'babies',\n",
              " 'Public',\n",
              " 'can',\n",
              " 'be',\n",
              " 'taught',\n",
              " 'to',\n",
              " 'spot',\n",
              " 'strokes',\n",
              " '^^',\n",
              " 'Back',\n",
              " 'to',\n",
              " 'top',\n",
              " 'News',\n",
              " 'Front',\n",
              " 'Page',\n",
              " '|',\n",
              " 'Africa',\n",
              " '|',\n",
              " 'Americas',\n",
              " '|',\n",
              " 'Asia-Pacific',\n",
              " '|',\n",
              " 'Europe',\n",
              " '|',\n",
              " 'Middle',\n",
              " 'East',\n",
              " '|',\n",
              " 'South',\n",
              " 'Asia',\n",
              " '|',\n",
              " 'UK',\n",
              " '|',\n",
              " 'Business',\n",
              " '|',\n",
              " 'Entertainment',\n",
              " '|',\n",
              " 'Science/Nature',\n",
              " '|',\n",
              " 'Technology',\n",
              " '|',\n",
              " 'Health',\n",
              " '|',\n",
              " 'Talking',\n",
              " 'Point',\n",
              " '|',\n",
              " 'Country',\n",
              " 'Profiles',\n",
              " '|',\n",
              " 'In',\n",
              " 'Depth',\n",
              " '|',\n",
              " 'Programmes',\n",
              " '--',\n",
              " '--',\n",
              " '--',\n",
              " '--',\n",
              " '--',\n",
              " '--',\n",
              " '--',\n",
              " '--',\n",
              " '--',\n",
              " '--',\n",
              " '--',\n",
              " '--',\n",
              " '--',\n",
              " '--',\n",
              " '--',\n",
              " '--',\n",
              " '--',\n",
              " '--',\n",
              " '--',\n",
              " '--',\n",
              " '--',\n",
              " '--',\n",
              " '--',\n",
              " '--',\n",
              " '--',\n",
              " '--',\n",
              " '--',\n",
              " '--',\n",
              " '--',\n",
              " '--',\n",
              " '--',\n",
              " '--',\n",
              " '--',\n",
              " '--',\n",
              " '--',\n",
              " '--',\n",
              " '--',\n",
              " '--',\n",
              " '--',\n",
              " '--',\n",
              " '--',\n",
              " 'To',\n",
              " 'BBC',\n",
              " 'Sport',\n",
              " '>',\n",
              " '>',\n",
              " '|',\n",
              " 'To',\n",
              " 'BBC',\n",
              " 'Weather',\n",
              " '>',\n",
              " '>',\n",
              " '|',\n",
              " 'To',\n",
              " 'BBC',\n",
              " 'World',\n",
              " 'Service',\n",
              " '>',\n",
              " '>',\n",
              " '--',\n",
              " '--',\n",
              " '--',\n",
              " '--',\n",
              " '--',\n",
              " '--',\n",
              " '--',\n",
              " '--',\n",
              " '--',\n",
              " '--',\n",
              " '--',\n",
              " '--',\n",
              " '--',\n",
              " '--',\n",
              " '--',\n",
              " '--',\n",
              " '--',\n",
              " '--',\n",
              " '--',\n",
              " '--',\n",
              " '--',\n",
              " '--',\n",
              " '--',\n",
              " '--',\n",
              " '--',\n",
              " '--',\n",
              " '--',\n",
              " '--',\n",
              " '--',\n",
              " '--',\n",
              " '--',\n",
              " '--',\n",
              " '--',\n",
              " '--',\n",
              " '--',\n",
              " '--',\n",
              " '--',\n",
              " '--',\n",
              " '--',\n",
              " '--',\n",
              " '--',\n",
              " '©',\n",
              " 'MMIII',\n",
              " '|',\n",
              " 'News',\n",
              " 'Sources',\n",
              " '|',\n",
              " 'Privacy']"
            ]
          },
          "metadata": {},
          "execution_count": 16
        }
      ]
    },
    {
      "cell_type": "code",
      "source": [
        "tokens = tokens[110:390]\n",
        "text = nltk.Text(tokens)\n",
        "text.concordance('gene')"
      ],
      "metadata": {
        "colab": {
          "base_uri": "https://localhost:8080/"
        },
        "id": "vPD6RhSA9YkM",
        "outputId": "a3572185-d01d-4535-db63-b30be4219aa1"
      },
      "execution_count": null,
      "outputs": [
        {
          "output_type": "stream",
          "name": "stdout",
          "text": [
            "Displaying 5 of 5 matches:\n",
            "hey say too few people now carry the gene for blondes to last beyond the next \n",
            "blonde hair is caused by a recessive gene . In order for a child to have blond\n",
            " have blonde hair , it must have the gene on both sides of the family in the g\n",
            "ere is a disadvantage of having that gene or by chance . They do n't disappear\n",
            "des would disappear is if having the gene was a disadvantage and I do not thin\n"
          ]
        }
      ]
    },
    {
      "cell_type": "markdown",
      "source": [
        "## **1.3. Processing RSS Feeds**\n",
        "---\n",
        "To collect text data from blogs, we can use the Python library **Universal Feed Parser** (feedparser) to access and parse RSS/Atom feeds.\n",
        "\n",
        "> [Universal Feed Parser](https://pypi.python.org/pypi/feedparser)"
      ],
      "metadata": {
        "id": "0ux71H5q-MaO"
      }
    },
    {
      "cell_type": "code",
      "source": [
        "pip install feedparser"
      ],
      "metadata": {
        "colab": {
          "base_uri": "https://localhost:8080/"
        },
        "collapsed": true,
        "id": "Ne0_DQNi-LP6",
        "outputId": "5d833deb-3ebe-40df-cad7-2620feafc7ec"
      },
      "execution_count": null,
      "outputs": [
        {
          "output_type": "stream",
          "name": "stdout",
          "text": [
            "Collecting feedparser\n",
            "  Downloading feedparser-6.0.11-py3-none-any.whl.metadata (2.4 kB)\n",
            "Collecting sgmllib3k (from feedparser)\n",
            "  Downloading sgmllib3k-1.0.0.tar.gz (5.8 kB)\n",
            "  Preparing metadata (setup.py) ... \u001b[?25l\u001b[?25hdone\n",
            "Downloading feedparser-6.0.11-py3-none-any.whl (81 kB)\n",
            "\u001b[2K   \u001b[90m━━━━━━━━━━━━━━━━━━━━━━━━━━━━━━━━━━━━━━━━\u001b[0m \u001b[32m81.3/81.3 kB\u001b[0m \u001b[31m3.7 MB/s\u001b[0m eta \u001b[36m0:00:00\u001b[0m\n",
            "\u001b[?25hBuilding wheels for collected packages: sgmllib3k\n",
            "  Building wheel for sgmllib3k (setup.py) ... \u001b[?25l\u001b[?25hdone\n",
            "  Created wheel for sgmllib3k: filename=sgmllib3k-1.0.0-py3-none-any.whl size=6046 sha256=8a018cc6411aced1686ff30725ef4a15e05f37ca91b2a31b00cf98a4f5b7e3b9\n",
            "  Stored in directory: /root/.cache/pip/wheels/03/f5/1a/23761066dac1d0e8e683e5fdb27e12de53209d05a4a37e6246\n",
            "Successfully built sgmllib3k\n",
            "Installing collected packages: sgmllib3k, feedparser\n",
            "Successfully installed feedparser-6.0.11 sgmllib3k-1.0.0\n"
          ]
        }
      ]
    },
    {
      "cell_type": "code",
      "source": [
        "import feedparser"
      ],
      "metadata": {
        "id": "y_ZbmNA_-2ns"
      },
      "execution_count": null,
      "outputs": []
    },
    {
      "cell_type": "code",
      "source": [
        "llog = feedparser.parse(\"https://languagelog.ldc.upenn.edu/nll/?feed=atom\")\n",
        "llog.feed.title"
      ],
      "metadata": {
        "colab": {
          "base_uri": "https://localhost:8080/",
          "height": 35
        },
        "id": "9TkcDbIU-7Cq",
        "outputId": "c2cb0e7d-68ca-4d34-a57d-c8e47a99fb05"
      },
      "execution_count": null,
      "outputs": [
        {
          "output_type": "execute_result",
          "data": {
            "text/plain": [
              "'Language Log'"
            ],
            "application/vnd.google.colaboratory.intrinsic+json": {
              "type": "string"
            }
          },
          "metadata": {},
          "execution_count": 20
        }
      ]
    },
    {
      "cell_type": "code",
      "source": [
        "len(llog.entries)"
      ],
      "metadata": {
        "colab": {
          "base_uri": "https://localhost:8080/"
        },
        "id": "n5enCX0l_RV1",
        "outputId": "5798839b-4536-4676-a45c-e8871a6f9625"
      },
      "execution_count": null,
      "outputs": [
        {
          "output_type": "execute_result",
          "data": {
            "text/plain": [
              "13"
            ]
          },
          "metadata": {},
          "execution_count": 21
        }
      ]
    },
    {
      "cell_type": "code",
      "source": [
        "post = llog.entries[2]\n",
        "post.title"
      ],
      "metadata": {
        "colab": {
          "base_uri": "https://localhost:8080/",
          "height": 35
        },
        "id": "gCnCGU3iAYlk",
        "outputId": "31bf51c4-c011-4b10-a9d9-64dd9ed9801e"
      },
      "execution_count": null,
      "outputs": [
        {
          "output_type": "execute_result",
          "data": {
            "text/plain": [
              "'&quot;The ball will be in their &#8230; corner&quot;?'"
            ],
            "application/vnd.google.colaboratory.intrinsic+json": {
              "type": "string"
            }
          },
          "metadata": {},
          "execution_count": 22
        }
      ]
    },
    {
      "cell_type": "markdown",
      "source": [
        "## **1.4. Reading Local Files**\n",
        "---\n",
        "\n"
      ],
      "metadata": {
        "id": "FNH6gKJUAhY4"
      }
    },
    {
      "cell_type": "markdown",
      "source": [
        "### **.TXT FILES**\n",
        "---\n",
        "> **.txt**: Use Python's built-in ***open( )*** function, followed by the ***read( )*** method\n",
        "```\n",
        "txt_files = open('document.txt')\n",
        "txt_raw = txt_files.read()\n",
        "```"
      ],
      "metadata": {
        "id": "dh67yFH3FBzS"
      }
    },
    {
      "cell_type": "code",
      "source": [
        "folder_path = '/content/drive/MyDrive/SudoCode 2025/Personal Note/Data/'"
      ],
      "metadata": {
        "id": "qyxxuyS5EyDA"
      },
      "execution_count": null,
      "outputs": []
    },
    {
      "cell_type": "code",
      "source": [
        "txt_files = open(folder_path+'document.txt')\n",
        "txt_raw = txt_files.read()"
      ],
      "metadata": {
        "id": "J_QUBP8_DRV7"
      },
      "execution_count": null,
      "outputs": []
    },
    {
      "cell_type": "code",
      "source": [
        "txt_raw"
      ],
      "metadata": {
        "colab": {
          "base_uri": "https://localhost:8080/",
          "height": 191
        },
        "id": "olVhKaTqE8dV",
        "outputId": "419bcf5a-e980-43e9-e07c-ce21a8c3fe0b"
      },
      "execution_count": null,
      "outputs": [
        {
          "output_type": "execute_result",
          "data": {
            "text/plain": [
              "'Full IELTS Listening Test TranscriptThis recording is copyright.IELTS-Blog.com listening practice test. In the IELTS test you hear some recordings\\nand you have to answer questions on them. You have time to read the instructions\\nand questions and check your work. All recordings are played only once. The test is\\nin four sections. Now turn to section one.Section one. You will hear a conversation between a man and a woman as the\\nwoman organises the rental of a car.First you have some time to look at questions one to five.(20 second gap)Now the full test will begin. You should answer the questions as you listen, as the\\nrecording is not played twice. Listen carefully to the conversation and answer\\nquestions one to five.'"
            ],
            "application/vnd.google.colaboratory.intrinsic+json": {
              "type": "string"
            }
          },
          "metadata": {},
          "execution_count": 25
        }
      ]
    },
    {
      "cell_type": "markdown",
      "source": [
        "### **.PDF FILES**\n",
        "---\n",
        "To extract text from a PDF file, we need to use the **pypdf** library.\n",
        "\n",
        "\n",
        "```\n",
        "from pypdf import PdfReader\n",
        "files = PdfReader('files.pdf')\n",
        "```"
      ],
      "metadata": {
        "id": "ZRj6H1FZFJye"
      }
    },
    {
      "cell_type": "code",
      "source": [
        "pip install pypdf"
      ],
      "metadata": {
        "colab": {
          "base_uri": "https://localhost:8080/"
        },
        "collapsed": true,
        "id": "y-Ot38dRE9co",
        "outputId": "64d16723-0123-4b99-d251-9ae75013448a"
      },
      "execution_count": null,
      "outputs": [
        {
          "output_type": "stream",
          "name": "stdout",
          "text": [
            "Collecting pypdf\n",
            "  Downloading pypdf-6.0.0-py3-none-any.whl.metadata (7.1 kB)\n",
            "Downloading pypdf-6.0.0-py3-none-any.whl (310 kB)\n",
            "\u001b[?25l   \u001b[90m━━━━━━━━━━━━━━━━━━━━━━━━━━━━━━━━━━━━━━━━\u001b[0m \u001b[32m0.0/310.5 kB\u001b[0m \u001b[31m?\u001b[0m eta \u001b[36m-:--:--\u001b[0m\r\u001b[2K   \u001b[91m━━━━━━━━━━━━━━━━━━━━━━━━━━━━━━━━━━━━━━━\u001b[0m\u001b[91m╸\u001b[0m \u001b[32m307.2/310.5 kB\u001b[0m \u001b[31m10.5 MB/s\u001b[0m eta \u001b[36m0:00:01\u001b[0m\r\u001b[2K   \u001b[90m━━━━━━━━━━━━━━━━━━━━━━━━━━━━━━━━━━━━━━━━\u001b[0m \u001b[32m310.5/310.5 kB\u001b[0m \u001b[31m8.1 MB/s\u001b[0m eta \u001b[36m0:00:00\u001b[0m\n",
            "\u001b[?25hInstalling collected packages: pypdf\n",
            "Successfully installed pypdf-6.0.0\n"
          ]
        }
      ]
    },
    {
      "cell_type": "code",
      "source": [
        "# importing required modules\n",
        "from pypdf import PdfReader"
      ],
      "metadata": {
        "id": "bv0v6T4FFoQO"
      },
      "execution_count": null,
      "outputs": []
    },
    {
      "cell_type": "code",
      "source": [
        "pdf_file = PdfReader(folder_path+'Comparison_of_Deep_Learning_Algorithms_t.pdf')"
      ],
      "metadata": {
        "id": "k9o5KjC2FsxU"
      },
      "execution_count": null,
      "outputs": []
    },
    {
      "cell_type": "code",
      "source": [
        "# printing number of pages in pdf file\n",
        "print(len(pdf_file.pages))"
      ],
      "metadata": {
        "colab": {
          "base_uri": "https://localhost:8080/"
        },
        "id": "yXLYxjyiF1Tb",
        "outputId": "119a1146-231c-4342-9c29-dd4329956a71"
      },
      "execution_count": null,
      "outputs": [
        {
          "output_type": "stream",
          "name": "stdout",
          "text": [
            "5\n"
          ]
        }
      ]
    },
    {
      "cell_type": "code",
      "source": [
        "# getting a specific page from the pdf file\n",
        "first_page = pdf_file.pages[0]"
      ],
      "metadata": {
        "id": "1pOaaBPjF8p1"
      },
      "execution_count": null,
      "outputs": []
    },
    {
      "cell_type": "code",
      "source": [
        "# extracting text from page\n",
        "text = first_page.extract_text()\n",
        "print(text)"
      ],
      "metadata": {
        "colab": {
          "base_uri": "https://localhost:8080/"
        },
        "collapsed": true,
        "id": "IAzn3nEmFhuJ",
        "outputId": "a1fa0543-a75d-4958-b5d1-937e6be62a29"
      },
      "execution_count": null,
      "outputs": [
        {
          "output_type": "stream",
          "name": "stdout",
          "text": [
            "  \n",
            " \n",
            "Abstract—A top priority in any business is a constant need to \n",
            "increase revenue and proﬁtability. One  of the causes for a \n",
            "decrease in proﬁts is when current customers stop transacting. \n",
            "When a customer leaves or churns from a business, the \n",
            "opportunity for potential sales or cross selling is lost. If a \n",
            "customer leaves the business without any form of advice, the \n",
            "company may ﬁnd it hard to respond and take corrective action. \n",
            "Ideally companies should adopt a proactive and identify \n",
            "potential churners prior to them leaving. Customer retention \n",
            "strategies have been noted to be less costly than attracting new \n",
            "customers. Through data available within the Point of Sales \n",
            "(POS) systems, customer transactions may be extracted and \n",
            "their buying patterns may be analysed. This paper demonstrates \n",
            "how through transactional data features are created and may be \n",
            "identiﬁed as signiﬁcant to predict churn within the retail \n",
            "industry. The data provided within this paper pertains to a local \n",
            "supermarket. Therefore, the churners identiﬁed and results \n",
            "attained are based on real scenarios. The novelty of this paper is \n",
            "the concept of implementing deep learning algorithms. \n",
            "Convolution Neural Networks and Restricted Boltzmann \n",
            "Machine are the selected deep learning techniques. The \n",
            "Restricted Boltzmann Machine attained the best results that of \n",
            "83% in predicting customer churn. \n",
            " \n",
            "Index Terms—Customer churn, deep learning, retail grocery \n",
            "industry.  \n",
            " \n",
            "I. INTRODUCTION \n",
            "Customer retention is a critical problem which is \n",
            "encountered across various industries. Common reasons as to \n",
            "why customers churn include: Competition are o ﬀ ering \n",
            "similar products at cheaper prices; Word of mouth or negative \n",
            "marketing through social media; Competition might have \n",
            "better customer service or customers might have relocated. \n",
            "Research [1] indicates that the cost of retaining a customer is \n",
            "less than attracting new ones. This is due to marketing costs \n",
            "required to appeal to new customers. For this reason, together \n",
            "with the increase of competition it have become pivotal that \n",
            "the current customers base is retained. Normally, customers \n",
            "churn gradually and not abruptly. This means that by \n",
            "analysing customers historic buying patterns one can adopt a \n",
            "proactive approach in predicting churn. Since all transactions \n",
            "are inserted through POS and stored in databases, \n",
            "understanding customers’ needs and patters is possible as data \n",
            "is accessible. According to [2], executives are dedicating \n",
            " \n",
            "Manuscript received July 24, 2017; revised October 3, 2017. \n",
            "Alexiei Dingli and Nicole Sant Fournier are with th e Department at \n",
            "University of Malta , Malta (email: alexiei.dingli@um.edu.mt, \n",
            "Nicole.sant-fournier.15@um.edu.mt). \n",
            "Vincent Marmara is with the Faculty of Economics, Management  and \n",
            "Accountancy; University of Malta, and also with Faculty of Business and IT; \n",
            "University of Malta, Malta (email: Vincent.marmara@um.edu.mt). \n",
            "marketing budgets to focus on customer retention campaigns. \n",
            "Various models designed to predict churn focus on statistical \n",
            "and renowned machine learning algorithms including \n",
            "Random Forest and Logistic Regression. This paper focuses \n",
            "on two aspects when predicting churn within the grocery retail \n",
            "industry. The ﬁrst is based on the features which will be \n",
            "passed on to the model. Instead of using customers buying \n",
            "trends to cluster the individuals, these values will be created \n",
            "as features and are passed to the model. Therefore, for each \n",
            "customer various features are created to allow the model to \n",
            "learn and identify patterns per individual. For this reason, two \n",
            "datasets are created to test and evaluate how data should be \n",
            "represented to predict churn. The second aspect is the \n",
            "implementation of the algorithms. The novelty of this study is \n",
            "the use of deep learning to predict churn within the grocery \n",
            "industry. To our knowledge, this is the ﬁrst study which \n",
            "implements deep learning within this industry. The strength of \n",
            "using deep learning is that it can reveal hidden patterns within \n",
            "the available dataset.  \n",
            " \n",
            "II. BACKGROUND AND LITERATURE REVIEW \n",
            "Customers are being placed at the forefront of the business \n",
            "and have become the dominating factor. With this in mind, \n",
            "businesses need to provide customers with incentives so as to \n",
            "reduce the probability of them moving to competitors. A \n",
            "small negative interaction with a customer, might mean that \n",
            "the customer might churn [2]. An important aspect within the \n",
            "business is to have a good understanding of customers’ needs, \n",
            "whereby holistic views of their patterns may be analysed. \n",
            "When customers are satisﬁed with the service or products, \n",
            "customer loyalty increases [3]. \n",
            "Authors [4], further discuss that revenues and margins will \n",
            "increase if customers are retained when compared to the cost \n",
            "of attracting new customers. Applying statistical techniques \n",
            "and machine learning algorithms on available data may guide \n",
            "companies in identifying hidden trends and customer \n",
            "behavioural patterns. Implementing data mining techniques to \n",
            "predict churn may give companies a competitive edge in \n",
            "improving the relationship with customers. Using customer \n",
            "churn models which correctly classify churn, companies have \n",
            "added value. These include increase in profitability and \n",
            "reduce churn [5]. \n",
            "A. Definition of Churn \n",
            "Churn is a term used within the marketing ﬁeld to indicate \n",
            "that a customer has moved to a competitor or has stopped \n",
            "transacting. Churn may be deﬁned as customers who have a \n",
            "high probability to stop transacting with the company [1] or as \n",
            "described by [6]: churn may be identiﬁed when a customer’s \n",
            "purchasing value falls beneath a threshold across a predeﬁned \n",
            "Alexiei Dingli, Vincent Marmara, and Nicole Sant Fournier \n",
            "Comparison of Deep Learning Algorithms to Predict \n",
            "Customer Churn within a Local Retail Industry \n",
            "International Journal of Machine Learning and Computing, Vol. 7, No. 5, October 2017\n",
            "128doi: 10.18178/ijmlc.2017.7.5.634\n"
          ]
        }
      ]
    },
    {
      "cell_type": "markdown",
      "source": [
        "### **WORD FILES**\n",
        "---\n",
        "To extract text from a Word file (specifically, a .docx file) using Python, the **python-docx library** is the most commonly used and recommended tool.\n",
        "\n",
        "\n",
        "```\n",
        "from docx import Document\n",
        "document = Document(docx_path)\n",
        "```\n",
        "\n"
      ],
      "metadata": {
        "id": "p6g5FNK_Gbn8"
      }
    },
    {
      "cell_type": "code",
      "source": [
        "pip install python-docx"
      ],
      "metadata": {
        "colab": {
          "base_uri": "https://localhost:8080/"
        },
        "collapsed": true,
        "id": "A8UmllGMGgmr",
        "outputId": "76b5ab67-16ae-4ba0-ad4f-7aac52dd378a"
      },
      "execution_count": null,
      "outputs": [
        {
          "output_type": "stream",
          "name": "stdout",
          "text": [
            "Collecting python-docx\n",
            "  Downloading python_docx-1.2.0-py3-none-any.whl.metadata (2.0 kB)\n",
            "Requirement already satisfied: lxml>=3.1.0 in /usr/local/lib/python3.12/dist-packages (from python-docx) (5.4.0)\n",
            "Requirement already satisfied: typing_extensions>=4.9.0 in /usr/local/lib/python3.12/dist-packages (from python-docx) (4.15.0)\n",
            "Downloading python_docx-1.2.0-py3-none-any.whl (252 kB)\n",
            "\u001b[?25l   \u001b[90m━━━━━━━━━━━━━━━━━━━━━━━━━━━━━━━━━━━━━━━━\u001b[0m \u001b[32m0.0/253.0 kB\u001b[0m \u001b[31m?\u001b[0m eta \u001b[36m-:--:--\u001b[0m\r\u001b[2K   \u001b[91m━━━━━━━━━━━━━━━━━━━━━━━━━━━━━━━━━━━━━━\u001b[0m\u001b[91m╸\u001b[0m\u001b[90m━\u001b[0m \u001b[32m245.8/253.0 kB\u001b[0m \u001b[31m7.7 MB/s\u001b[0m eta \u001b[36m0:00:01\u001b[0m\r\u001b[2K   \u001b[90m━━━━━━━━━━━━━━━━━━━━━━━━━━━━━━━━━━━━━━━━\u001b[0m \u001b[32m253.0/253.0 kB\u001b[0m \u001b[31m5.9 MB/s\u001b[0m eta \u001b[36m0:00:00\u001b[0m\n",
            "\u001b[?25hInstalling collected packages: python-docx\n",
            "Successfully installed python-docx-1.2.0\n"
          ]
        }
      ]
    },
    {
      "cell_type": "code",
      "source": [
        "from docx import Document"
      ],
      "metadata": {
        "id": "8xiOAnWLHfuF"
      },
      "execution_count": null,
      "outputs": []
    },
    {
      "cell_type": "code",
      "source": [
        "docx_file = Document(folder_path+'Chapter 5.docx')\n",
        "print(len(docx_file.paragraphs))"
      ],
      "metadata": {
        "colab": {
          "base_uri": "https://localhost:8080/"
        },
        "id": "I02V7MRWHDa5",
        "outputId": "ee19862e-7a40-4d34-a52d-e4661d2eef96"
      },
      "execution_count": null,
      "outputs": [
        {
          "output_type": "stream",
          "name": "stdout",
          "text": [
            "295\n"
          ]
        }
      ]
    },
    {
      "cell_type": "code",
      "source": [
        "# Extract text from each paragraph\n",
        "extracted_text = []\n",
        "for paragraph in docx_file.paragraphs:\n",
        "    extracted_text.append(paragraph.text)\n",
        "\n",
        "# Join the extracted text into a single string\n",
        "full_text = '\\n'.join(extracted_text)\n",
        "print(full_text)"
      ],
      "metadata": {
        "colab": {
          "base_uri": "https://localhost:8080/"
        },
        "collapsed": true,
        "id": "GfFD8RxaHt5G",
        "outputId": "e05c9701-39e9-4cd9-8deb-759d1813880d"
      },
      "execution_count": null,
      "outputs": [
        {
          "output_type": "stream",
          "name": "stdout",
          "text": [
            "\n",
            "\n",
            "\n",
            "\n",
            "\n",
            "\n",
            "\n",
            "\n",
            "\n",
            "Chapter 5:                                                                                    Regression Method\n",
            "Kỹ thuật phân tích hồi quy\n",
            "\n",
            "LỜI NÓI ĐẦU CHƯƠNG\n",
            "Trong chương này, một trong những kỹ thuật thường được sử dụng trong khoa học dữ liệu- khớp dữ liệu với các hàm, hay còn gọi là hàm khớp (FUNCTION FITTING) sẽ được khám phá. Ý tưởng cơ bản của hàm khớp là dự đoán giá trị (hoặc phân loại) của thuộc tính phụ thuộc y, bằng cách kết hợp các thuộc tính dự đoán x thành một hàm y=f(X). Kỹ thuật khớp hàm bao gồm nhiều phương pháp khác nhau, trong đó phổ biến nhất là hồi quy tuyến tính (REGRESSION) để dự đoán giá trị số và hồi quy logistic để phân loại. Hai phương pháp này chiếm phần lớn nội dung của chương này.\n",
            "Các mô hình hồi quy vẫn là một trong những công cụ phân tích phổ biến nhất được các chuyên gia sử dụng ngày nay. Hồi quy là một kỹ thuật tương đối lâu đời, bắt nguồn từ thời kỳ Victoria (những năm 1830 đến đầu những năm 1900). Nhiều công trình tiên phong trong lĩnh vực này được thực hiện bởi Sir Francis Galton, một họ hàng xa của Charles Darwin, người đã đưa ra khái niệm \"hồi quy về trung bình\" trong khi so sánh có hệ thống chiều cao của trẻ em với chiều cao của cha mẹ. Ông nhận thấy có xu hướng mạnh mẽ là cha mẹ cao thường có con thấp hơn một chút so với họ, và ngược lại, cha mẹ thấp thường có con cao hơn một chút. Ngay cả khi chiều cao của cha mẹ nằm ở các đầu mút của phân phối hình chuông (hoặc phân phối chuẩn), chiều cao của con cái thường có xu hướng tiến về trung bình của phân phối đó.\n",
            "Do đó, cuối cùng, tất cả các mẫu số liệu đều hồi quy về giá trị trung bình của quần thể. Xu hướng này được Galton gọi là \"hồi quy\" (regression by Galton) vào năm 1888, đặt nền tảng cho hồi quy tuyến tính.\n",
            "Trong phần đầu của chương này, cơ sở lý thuyết cho phương pháp khớp hàm đơn giản nhất - mô hình hồi quy tuyến tính (the linear regression model). Trọng tâm chính sẽ là một nghiên cứu tình huống nhằm minh họa cách xây dựng các mô hình hồi quy. Do bản chất của phương pháp khớp hàm, một hạn chế mà các nhà mô hình hóa phải đối mặt là cái được gọi là “lời nguyền chiều không gian” (curse of dimensionality). Khi số lượng các biến dự đoán X tăng lên, không chỉ khả năng thu được một mô hình tốt bị giảm đi, mà còn làm tăng độ phức tạp tính toán và diễn giải. Các phương pháp chọn đặc trưng sẽ được giới thiệu để giảm số lượng biến dự đoán hoặc yếu tố cần thiết xuống mức tối thiểu mà vẫn đạt được một mô hình tốt. Cơ chế triển khai sẽ được khám phá, bao gồm chuẩn bị dữ liệu, xây dựng mô hình và kiểm định. Cuối cùng, một số điểm kiểm tra để đảm bảo rằng hồi quy tuyến tính được sử dụng một cách chính xác sẽ được mô tả.\n",
            "Phần thứ hai của chương sẽ đề cập tới hồi quy logistic (logistic regression). Về mặt lý thuyết, đây là một kỹ thuật phân loại, gần hơn về mặt ứng dụng với các cây quyết định hoặc phương pháp Bayes (Bayesian methods). Tuy nhiên, do chia sẻ một đặc điểm quan trọng với hồi quy tuyến tính trong cách tiếp cận khớp hàm, hồi quy logistic được đưa vào chương này thay vì chương trước về phân loại.\n",
            "PHẦN 5.1: HỒI QUY TUYẾN TÍNH\n",
            "Hồi quy tuyến tính không chỉ là một trong những phương pháp lâu đời nhất trong khoa học dữ liệu, mà còn là phương pháp dễ dàng nhất để giải thích cách thức khớp hàm. Ý tưởng cơ bản là xây dựng một hàm có khả năng giải thích và dự đoán giá trị của biến mục tiêu khi được cung cấp giá trị của các biến dự đoán. Chúng ta hãy lấy ví dụ ở 1 trong những vấn đề ta gặp hằng ngày: Giá trị của nhà ở và định giá:\n",
            "5.1.1. Cách thức hoạt động\n",
            "Một ví dụ đơn giản được minh họa trong Hình 5.1: giả sử bạn muốn biết ảnh hưởng của số lượng phòng trong một ngôi nhà (biến dự đoán) đến giá bán trung bình của nó (biến mục tiêu). Mỗi điểm dữ liệu trên biểu đồ tương ứng với một ngôi nhà (Harrison, 1978). Rõ ràng, trung bình, khi số lượng phòng tăng lên thì giá trung bình cũng có xu hướng tăng. Tuyên bố tổng quát này có thể được biểu diễn bằng cách vẽ một đường thẳng xuyên qua các điểm dữ liệu.\n",
            "Do đó, vấn đề trong hồi quy tuyến tính là tìm một đường thẳng (hoặc một đường cong) tốt nhất để giải thích xu hướng này. Nếu có hai biến dự đoán, vấn đề trở thành tìm một mặt phẳng (trong không gian ba chiều). Khi có hơn hai biến dự đoán, việc hình dung trở nên khó khăn và phải quay về với một biểu diễn tổng quát, trong đó biến phụ thuộc được biểu diễn như một tổ hợp tuyến tính của các biến độc lập:\n",
            "\t\t(5.1)\n",
            "Xét trường hợp có một biến dự đoán. Rõ ràng là có thể vẽ vô số đường thẳng qua một tập hợp điểm cho trước, như các điểm minh họa trong Hình 5.1. Nhưng làm thế nào để xác định đường nào là tốt nhất? Một thước đo là cần thiết. Khi đã có thước đo, việc chọn đường thẳng tốt nhất trở thành bài toán tìm giá trị tối ưu của đại lượng này.\n",
            "\n",
            "Mô hình 5.1. Mô hình hồi quy tuyến tính đơn giản\n",
            "Một thước đo phổ biến là khái niệm hàm lỗi (error function). Giả sử một đường thẳng được khớp qua dữ liệu. Trong trường hợp có một biến dự đoán, giá trị dự đoán  cho một giá trị x trong tập dữ liệu được xác định bởi:\n",
            "\t\t(5.2)\n",
            "Sai số (e) là sự khác biệt giữa giá trị thực của biến mục tiêu và giá trị dự đoán:\n",
            "\t\t(5.3)\n",
            "Phương trình này định nghĩa sai số tại một điểm (x,y) trong tập dữ liệu. Có thể dễ dàng tính sai số cho tất cả các điểm để có tổng sai số. Vì một số sai số có thể là số dương và một số là số âm, việc bình phương các sai số sẽ loại bỏ dấu âm. Sai số trung bình cho một đường khớp nhất định có thể được tính bằng:\n",
            "\t\t(5.4)\n",
            "trong đó n là số điểm dữ liệu, và J là tổng sai số bình phương.\n",
            "Đối với một tập dữ liệu cho trước, tổ hợp tốt nhất của có thể được tìm thấy bằng cách tối thiểu hóa tổng sai số e. Đây là một bài toán tối ưu cổ điển, được giải quyết bằng các phương pháp của giải tích. Stigler đã cung cấp một số chi tiết lịch sử thú vị về nguồn gốc của phương pháp bình phương tối thiểu, như được biết đến (Stigler, 1999). Sử dụng các phương pháp giải tích, các giá trị của b có thể được tìm ra để tối thiểu hóa tổng sai số J. Cụ thể, người ta có thể tính các đạo hàm riêng của J đối với và đặt chúng bằng không. Quy tắc chuỗi trong vi phân cung cấp:\n",
            "\t\t(5.5)\n",
            "Tương tự, ta có thể sử dụng:\n",
            "\t\t\t(5.6)\n",
            "Các phương trình (5.5) và (5.6) là hai phương trình với hai ẩn số, có thể được đơn giản hóa và giải để thu được các biểu thức:\n",
            "\n",
            "\t\t\t(5.7)\n",
            "\t\t\t(5.8)\n",
            "\n",
            " có thể được suy ra (5.9a):\n",
            "\n",
            "\t\t\t\t(5.9a)\n",
            "(5.9b)\n",
            "trong đó Correlation(x,y) là hệ số tương quan giữa x và y, và  lần lượt là độ lệch chuẩn của y và x. Cuối cùng  là các giá trị trung bình tương ứng của x và y.\n",
            "Các thuật toán hồi quy tuyến tính thực tế sử dụng một kỹ thuật tối ưu hóa được gọi là gradient descent (Fletcher, 1963; Marquardt, 1963) để xác định tổ hợp của ​ sao cho hàm lỗi trong phương trình (5.4) đạt giá trị nhỏ nhất.\n",
            "Ưu điểm của việc sử dụng phương pháp này là ngay cả khi có nhiều biến dự đoán, quá trình tối ưu hóa vẫn hoạt động khá hiệu quả. Khi áp dụng quy trình này cho ví dụ đơn giản đã nêu, ta thu được một phương trình có dạng:\n",
            "Giá trung bình = 9.1 × (số lượng phòng) − 34.7\t\t(5.10)\n",
            "với , từ phương trình này có thể tính được rằng đối với một ngôi nhà có sáu phòng, giá trị giá trung vị vào khoảng 20 (giá được biểu diễn bằng nghìn đô la Mỹ, khoảng năm 1970). Trong Hình 5.1, có thể thấy rằng với một ngôi nhà có sáu phòng, giá thực tế có thể dao động trong khoảng từ 10,5 đến 25. Có vô số đường thẳng có thể được vẽ trong dải này, mà tất cả đều dự đoán giá trung vị nằm trong khoảng này — nhưng thuật toán chọn đường thẳng tối thiểu hóa sai số trung bình trên toàn bộ phạm vi của biến độc lập, và do đó, là đường thẳng phù hợp nhất với tập dữ liệu đã cho.\n",
            "Đối với một số điểm dữ liệu (nhà) được hiển thị trong Hình 5.1 (ở phía trên của biểu đồ, nơi giá trung vị = 50), giá trung vị dường như không phụ thuộc vào số lượng phòng. Điều này có thể do các yếu tố khác cũng ảnh hưởng đến giá nhà. Vì vậy, cần phải mô hình hóa nhiều hơn một biến dự đoán, và hồi quy tuyến tính bội (MLR), một mở rộng của hồi quy tuyến tính đơn giản, sẽ cần được sử dụng. Thuật toán tìm các hệ số của phương trình hồi quy (5.1) có thể dễ dàng mở rộng cho nhiều chiều hơn.\n",
            "Hàm sai số cho một biến trong (5.4) có thể được tổng quát hóa cho nhiều biến một cách dễ dàng,  Nếu chúng ta đặt  và nhận ra rằng hệ số chặn có thể được viết dưới dạng , trong đó , chúng ta có thể viết (5.4) như  trong đó B là một vector trọng số cho một tập dữ liệu có D cột hoặc đặc trưng và N mẫu. Tương tự như cách tính (5.7) và (5.8), chúng ta có thể lấy đạo hàm của E theo từng trọng số B, và kết quả là hệ D phương trình cần được giải cho D trọng số (mỗi trọng số tương ứng với một đặc trưng). Đạo hàm riêng đối với từng trọng số là:\n",
            "\n",
            "\n",
            "\n",
            "\n",
            "\n",
            "Khi chúng ta xét đồng thời tất cả D trọng số, điều này có thể được viết một cách đơn giản dưới dạng ma trận như sau:\n",
            "\t\t\t\t(5.11)\n",
            "Ở đây, B là một ma trận hoặc vector kích thước 1 × D. Tương tự như trường hợp hồi quy tuyến tính đơn giản, chúng ta có thể đặt đạo hàm này bằng không để giải các trọng số B, và thu được biểu thức sau: . Trong trường hợp này, giải B trở thành một bài toán đảo ma trận, và kết quả là: . Người đọc có thể kiểm chứng bài toán này như một bài tập bằng cách đảm bảo rằng ma trận này có tính tương thích về kích thước (Gợi ý: Có thể thấy là X có kích thước N × D, Y có kích thước N × 1 và B có kích thước 1 × D). Hồi quy tuyến tính bội MLR (Multiple Linear Regression) có thể được áp dụng trong bất kỳ trường hợp nào cần dự đoán số liệu, chẳng hạn như \"một sản phẩm sẽ được bán với giá bao nhiêu.\" Điều này trái ngược với các bài toán dự đoán phân loại, chẳng hạn như \"một người sẽ mua/không mua\" hoặc \"một sự kiện sẽ/không xảy ra,\" nơi các công cụ phân loại như cây quyết định hoặc mô hình hồi quy logistic được sử dụng.\n",
            "Để đảm bảo rằng các mô hình hồi quy không được triển khai một cách tùy tiện, cần thực hiện một số kiểm tra trên mô hình để đảm bảo tính chính xác của hồi quy. Đây sẽ là nội dung trọng tâm của một phần sau trong chương này.\n",
            "Bảng 5.1. Bảng dữ liệu mẫu của Bộ dữ liệu Nhà ở Boston cổ điển\n",
            "Bảng 5.2. Các thuộc tính của bảng dữ liệu 5.1\n",
            "Ví dụ về nhà ở có thể được mở rộng để bao gồm các biến bổ sung. Điều này xuất phát từ một nghiên cứu về môi trường đô thị được thực hiện vào cuối những năm 1970 (Harrison, 1978). Mục tiêu của nghiên cứu này là:\n",
            "Xác định những thuộc tính nào trong số các thuộc tính có sẵn là cần thiết để dự đoán chính xác giá trung vị của một ngôi nhà.\n",
            "Xây dựng mô hình hồi quy tuyến tính bội để dự đoán giá trung vị sử dụng các thuộc tính quan trọng nhất.\n",
            "Dữ liệu gốc bao gồm 13 biến dự đoán (predictors) và một biến phản hồi (response variable), là biến cần được dự đoán. Các biến dự đoán bao gồm đặc điểm vật lý của ngôi nhà (như số lượng phòng, tuổi thọ, thuế, và vị trí) và các đặc điểm của khu dân cư (trường học, ngành công nghiệp, phân vùng) cùng với các yếu tố khác. Biến phản hồi, dĩ nhiên, là giá trị trung vị (MEDV) của ngôi nhà tính bằng nghìn đô la. Bảng 5.1 trình bày một ảnh chụp nhanh của tập dữ liệu, bao gồm tổng cộng 506 mẫu. Bảng 5.2 mô tả các đặc điểm hoặc thuộc tính của tập dữ liệu.\n",
            "5.1.2. Cách thức thực hiện:\n",
            "Phần này sẽ trình bày cách thiết lập một quy trình trong RapidMiner để xây dựng mô hình hồi quy tuyến tính bội (Multiple Linear Regression) dựa trên bộ dữ liệu Nhà ở Boston. Các nội dung được mô tả bao gồm:\n",
            "Xây dựng Mô hình Hồi quy Tuyến tính\n",
            "Đo lường Hiệu suất của Mô hình\n",
            "Hiểu các Tùy chọn Thông dụng của Linear Regression Operator\n",
            "Ứng dụng Mô hình để Dự đoán Giá trị MEDV cho Dữ liệu Chưa Nhìn Thấy\n",
            "Bước 1: Chuẩn bị dữ liệu \n",
            "Đầu tiên, dữ liệu được chia thành một tập huấn luyện và một tập kiểm tra chưa được thấy trước. Ý tưởng là xây dựng mô hình bằng tập huấn luyện và kiểm tra hiệu suất của nó trên tập kiểm tra. Với sự hỗ trợ của công cụ Retrieve (lấy dữ liệu), nhập dữ liệu thô (có sẵn trên trang web đi kèm www.IntroDataScience.com) vào quy trình RapidMiner. Sử dụng công cụ Shuffle để xáo trộn thứ tự dữ liệu sao cho hai tập được phân chia sau đó có sự tương đồng về mặt thống kê. Tiếp theo, sử dụng công cụ Filter Examples Range để chia dữ liệu thành hai tập như minh họa trong Hình 5.2. Bộ dữ liệu thô bao gồm 506 mẫu, được chia tuyến tính thành tập huấn luyện (từ dòng 1 đến 450) và tập kiểm tra (từ dòng 451 đến 506) bằng hai công cụ này. Chèn công cụ Set Role, thay đổi vai trò của MEDV thành label và kết nối đầu ra với đầu vào của công cụ Split Validation để phân chia tập huấn luyện thành tập huấn luyện và tập kiểm định (giữ nguyên các tùy chọn mặc định của Split Validation như hình 5.3).\n",
            "\n",
            "Hình 5.2. Tách dữ liệu\n",
            "\n",
            "\n",
            "\n",
            "\n",
            "\n",
            "\n",
            "\n",
            "Hình 5.3. Sử dụng Split Variation\n",
            "\n",
            "Hình 5.4. Áp dụng công cụ hồi quy tuyến tính và đo lường hiệu suất.\n",
            "Điều này cần thiết để đo lường hiệu suất của mô hình hồi quy tuyến tính. Ngoài ra, một ý tưởng tốt là đặt random seed cục bộ (mặc định là giá trị 1992), điều này đảm bảo rằng RapidMiner sẽ chọn cùng một mẫu nếu quy trình này được chạy lại sau này.\n",
            "Sau bước này, nhấp đúp vào công cụ Validation để truy cập quy trình lồng nhau. Bên trong quy trình này, chèn công cụ Linear Regression vào cửa sổ bên trái và công cụ Apply Model và Performance (Regression) vào cửa sổ bên phải như minh họa trong Hình 5.4. Nhấp vào công cụ Performance và kiểm tra các tùy chọn squared error, correlation, và squared correlation trong phần chọn tùy chọn Parameters ở bên phải (Hình 5.5).\n",
            "\n",
            "Hình 5.5. Lựa chọn tiêu chí đánh giá hiệu suất cho hồi quy tuyến tính bội (MLR).\n",
            "Bước 2: Xây dựng mô hình:\n",
            "Chọn công cụ Linear Regression và thay đổi tùy chọn chọn đặc trưng (feature selection) thành none. Giữ nguyên tùy chọn mặc định eliminate collinear features (loại bỏ các đặc trưng đồng tuyến tính) được đánh dấu, giúp loại bỏ các yếu tố có mối quan hệ tuyến tính từ quy trình mô hình hóa. Khi hai hoặc nhiều thuộc tính có sự tương quan tuyến tính với nhau, mô hình kết quả thường có các hệ số không thể được diễn giải một cách trực quan và hơn nữa, ý nghĩa thống kê của các hệ số này cũng thường khá thấp.\n",
            "Ngoài ra, giữ nguyên tùy chọn use bias được đánh dấu để xây dựng một mô hình có hệ số chặn (intercept) [hệ số  trong Phương trình (5.2)]. Giữ nguyên các tùy chọn mặc định khác (Hình 5.4).\n",
            "Khi quy trình này được chạy, kết quả như minh họa trong Hình 5.6 sẽ được tạo ra.\n",
            "Bước 3: Thực hiện và diễn giải:\n",
            "Có hai chế độ xem mà bạn có thể kiểm tra trong tab đầu ra của Linear Regression:\n",
            "Description view: Hiển thị hàm hồi quy đã được khớp (Hình 5.6A).\n",
            "Data view: Hiển thị các hệ số của hàm hồi quy tuyến tính và cung cấp thông tin về ý nghĩa thống kê của các hệ số này (Hình 5.6B).\n",
            "Cách tốt nhất để đọc bảng này là sắp xếp dữ liệu bằng cách nhấp đúp vào cột Code, điều này sẽ sắp xếp các yếu tố theo thứ tự giảm dần mức độ ý nghĩa.\n",
            "RapidMiner gán bốn ngôi sao (****) cho bất kỳ yếu tố nào có mức độ ý nghĩa cao.\n",
            "Trong mô hình này, không sử dụng phương pháp chọn đặc trưng nào, do đó, tất cả 13 yếu tố đều có mặt trong mô hình, bao gồm cả AGE và INDUS, dù chúng có mức độ ý nghĩa rất thấp. Tuy nhiên, nếu cùng một mô hình được chạy với bất kỳ tùy chọn nào có sẵn trong menu thả xuống của tham số chọn đặc trưng, RapidMiner sẽ loại bỏ các yếu tố ít ý nghĩa nhất khỏi mô hình. Trong lần lặp tiếp theo, phương pháp chọn đặc trưng tham lam (greedy feature selection) được sử dụng, và các yếu tố ít ý nghĩa nhất, INDUS và AGE, sẽ bị loại khỏi hàm hồi quy (Hình 5.7A & B).\n",
            "\n",
            "Hình 5.6. a) Mô tả về mô hình hồi quy tuyến tính. b) Chế độ bảng hiển thị chi tiết mô hình hồi quy tuyến tính. Để sắp xếp bảng theo mức độ ý nghĩa, nhấp đúp vào cột Code\n",
            "\n",
            "\n",
            "\n",
            "\n",
            "\n",
            "\n",
            "\n",
            "\n",
            "\n",
            "\n",
            "\n",
            "\n",
            "\n",
            "\n",
            "\n",
            "Hình 5.7. a) Mô hình không sử dụng phương pháp chọn đặc trưng. b) Mô hình sử dụng phương pháp chọn đặc trưng tham lam (greedy feature selection)\n",
            "\n",
            "Hình 5.8. Tạo hệ số  cho mô hình\n",
            "Việc chọn đặc trưng trong RapidMiner có thể được thực hiện tự động trong công cụ Linear Regression như đã mô tả, hoặc thông qua các hàm gói bên ngoài như forward selection (chọn tiến) và backward elimination (loại bỏ lùi). Các phương pháp này sẽ được thảo luận riêng trong Chương 14: Chọn Đặc Trưng.\n",
            "Đầu ra thứ hai cần chú ý là hiệu suất mô hình. Một cách kiểm tra độ phù hợp của mô hình hồi quy là thông qua squared correlation (tương quan bình phương). Theo cách thông thường, giá trị này tương đương với  điều chỉnh của một mô hình, với giá trị dao động từ 0.0 đến 1.0, trong đó giá trị gần 1 cho thấy mô hình tốt hơn. Đối với cả hai mô hình được trình bày ở trên, giá trị khoảng 0.822 có thể đạt được (Hình 5.8). Đầu ra squared error (lỗi bình phương) cũng được yêu cầu: giá trị thô của nó tự thân có thể không tiết lộ nhiều, nhưng hữu ích khi so sánh hai mô hình khác nhau. Trong trường hợp này, giá trị khoảng 25.\n",
            "Một thông tin bổ sung có thể rút ra từ quy trình mô hình hóa là xếp hạng các yếu tố. Cách dễ nhất để kiểm tra điều này là xếp hạng theo p-value. Như được minh họa trong Hình 5.9, các yếu tố RM, LSTAT, và DIS dường như là những yếu tố quan trọng nhất. Điều này cũng được phản ánh qua giá trị tuyệt đối của t-stat. Các giá trị t-stat và p-value là kết quả của các kiểm định giả thuyết được thực hiện trên các hệ số hồi quy. Đối với mục đích phân tích dự đoán, điểm quan trọng cần lưu ý là giá trị t-stat cao hơn cho thấy giả thuyết không (null hypothesis) – giả định rằng hệ số bằng 0 – có thể bị bác bỏ một cách an toàn. p-value tương ứng cho biết xác suất bác bỏ sai giả thuyết không. Đã có nhận định rằng số lượng phòng (RM) là một yếu tố dự đoán tốt về giá nhà, nhưng nó không thể giải thích tất cả các biến động trong giá trung bình. Hệ số  và sai số bình phương (squared error) cho mô hình một biến đó lần lượt là 0.405 và 45. Điều này có thể được xác minh bằng cách chạy lại mô hình đã xây dựng trước đó chỉ với một biến độc lập, số lượng phòng, RM. Việc này được thực hiện bằng cách sử dụng công cụ Select Attributes, cần được chèn vào quy trình trước công cụ Set Role. Khi mô hình này được chạy, phương trình đã được trình bày trước đó, Eq. (5.10), sẽ xuất hiện trong phần mô tả của mô hình. Bằng cách so sánh các giá trị tương ứng từ mô hình hồi quy tuyến tính đa biến (MLR) (0.676 và 25) với mô hình hồi quy tuyến tính đơn giản, rõ ràng là cả hai giá trị này đều được cải thiện, do đó khẳng định quyết định sử dụng nhiều yếu tố trong mô hình.\n",
            "Bây giờ, ta đã có một mô hình toàn diện hơn, có thể giải thích phần lớn sự biến đổi của biến phản hồi, MEDV. Cuối cùng, nói một chút về dấu của các hệ số: LSTAT đại diện cho tỷ lệ phần trăm các hộ gia đình có thu nhập thấp trong khu vực. Một LSTAT thấp hơn thường tương quan với giá nhà trung bình cao hơn, và đây là lý do hệ số của LSTAT mang dấu âm.\n",
            "\n",
            "Hình 5.9. Xếp hạng các biến theo giá trị P (P-values)\n",
            "Bước 4: Áp dụng mô hình cho dữ liệu kiểm tra chưa được nhìn thấy:\n",
            "Mô hình này giờ đã sẵn sàng để triển khai trên dữ liệu chưa được nhìn thấy, được tạo ở đầu phần này bằng cách sử dụng công cụ Filter Examples thứ hai (Hình 5.2). Một công cụ Set Role mới cần được thêm vào, chọn thuộc tính MEDV trong mục parameters và đặt nó thành vai trò prediction từ menu thả xuống. Thêm một công cụ Apply Model khác và kết nối đầu ra của Set Role với cổng unlabeled; đồng thời, kết nối mô hình đầu ra từ quy trình Validation với cổng input model của công cụ Apply Model mới. Những gì đã được thực hiện là chuyển thuộc tính MEDV từ tập dữ liệu chưa được nhìn thấy gồm 56 ví dụ thành một dự đoán. Khi mô hình được áp dụng cho tập dữ liệu này, bạn sẽ có thể so sánh giá trị dự đoán (prediction (MEDV) với các giá trị MEDV ban đầu (đã tồn tại trong tập dữ liệu) để kiểm tra xem mô hình hoạt động tốt như thế nào trên dữ liệu mới.\n",
            "Sự khác biệt giữa prediction (MEDV) và MEDV được gọi là residual (phần dư). Hình 5.10 cho thấy một cách nhanh chóng để kiểm tra các phần dư khi áp dụng mô hình. Một công cụ Rename sẽ cần thiết để đổi tên “prediction (MEDV)” thành predictedMEDV để tránh gây nhầm lẫn cho RapidMiner khi công cụ tiếp theo, Generate Attributes, được sử dụng để tính toán phần dư (hãy thử không sử dụng công cụ Rename để hiểu vấn đề này vì nó có thể xảy ra trong các trường hợp khác khi sử dụng Generate Attributes). Hình 5.11 cho thấy các thống kê cho thuộc tính phần dư mới, chỉ ra rằng giá trị trung bình gần bằng 0 (- 0.27), nhưng độ lệch chuẩn (standard deviation) (và do đó, phương sai) ở mức 4.350 không phải là nhỏ. Biểu đồ tần suất (histogram) cũng cho thấy rằng phần dư không hoàn toàn tuân theo phân phối chuẩn, điều này là một động lực khác để tiếp tục cải thiện mô hình.\n",
            "\n",
            "Hình 5.10. Thiết lập quy trình so sánh giữa dữ liệu chưa nhìn thấy và giá trị dự đoán từ mô hình\n",
            "\n",
            "Hình 5.11. Thống kê của phần dư trên dữ liệu chưa nhìn thấy cho thấy có thể cần tối ưu hóa mô hình\n",
            "5.1.3. Các điểm kiểm tra (Checkpoints):\n",
            "Phần này về hồi quy tuyến tính sẽ được kết thúc bằng việc thảo luận ngắn gọn về một số điểm kiểm tra để đảm bảo rằng bất kỳ mô hình nào cũng hợp lệ. Đây là bước quan trọng trong quá trình phân tích, bởi vì tất cả các mô hình đều tuân theo quy tắc \"garbage in, garbage out (GIGO)\". Do đó, trách nhiệm của nhà khoa học dữ liệu là phải hoàn thành các kiểm tra này trước khi chấp nhận mô hình.\n",
            "Checkpoint 1: \n",
            "Một trong những kiểm tra đầu tiên cần xem xét trước khi chấp nhận bất kỳ mô hình hồi quy nào là định lượng giá trị , còn được gọi là hệ số xác định (coefficient of determination), thể hiện mức độ biến thiên của biến phụ thuộc được giải thích bởi các biến độc lập (Black, 2008). Trong hầu hết các trường hợp hồi quy tuyến tính, giá trị  nằm trong khoảng từ 0 đến 1. Giá trị lý tưởng của  thay đổi tùy theo ứng dụng; ví dụ, trong các mô hình khoa học xã hội và hành vi, các giá trị thấp thường được chấp nhận. Nhìn chung, các giá trị  rất thấp (khoảng < 0.2) cho thấy rằng các biến trong mô hình không giải thích được kết quả một cách thỏa đáng. Một số lưu ý cho rằng đừng quá chú trọng vào giá trị . Khi bỏ qua phần intercept trong RapidMiner (bỏ chọn use bias trong Hình 5.5),  thường bị thổi phồng. Trong các tình huống mà intercept bằng 0, hãy sử dụng các kiểm tra khác như trung bình và phương sai của phần dư (residuals).\n",
            "Chỉ số phổ biến nhất được sử dụng để đo lường mức độ phù hợp của mô hình hồi quy với dữ liệu là hệ số xác định, . Chỉ số này được định nghĩa như sau:\n",
            "\t\t(5.12)\n",
            "trong đó, SSE (Sum of Squared Errors - Tổng bình phương sai số) được tính bằng theo phương trình (5.4). SSYY (Aggregate Mean Deviation - Tổng độ lệch trung bình) được định nghĩa là:\n",
            "\t\t\t(5.13)\n",
            "Về mặt trực giác, dễ dàng nhận thấy rằng nếu SSE gần bằng 0, thì  gần bằng 1 — nghĩa là mô hình hoàn toàn khớp với dữ liệu. Ngược lại, nếu SSE gần bằng SSYY, thì  gần bằng 0 — mô hình chỉ dự đoán giá trị trung bình của y cho mọi giá trị của x. Điểm hay của  là nó chỉ phụ thuộc vào y và không phụ thuộc vào trọng số hay các biến độc lập, nên có thể sử dụng cho bất kỳ dạng mô hình hồi quy nào: hồi quy đơn giản hoặc hồi quy đa biến.\n",
            "Checkpoint 2: \n",
            "Điểm kiểm tra tiếp theo là đảm bảo rằng tất cả các lỗi (error terms) trong mô hình có phân phối chuẩn. Để kiểm tra điều này trong RapidMiner, tạo một thuộc tính mới, đó là lỗi được tính bằng cách lấy hiệu giữa giá trị dự đoán (predicted MEDV) và giá trị thực tế (actual MEDV) trong tập dữ liệu kiểm tra. Điều này có thể thực hiện bằng cách sử dụng công cụ Generate Attributes, giống với bước 5 ở quá trình trước. Hoàn thành các kiểm tra 1 và 2 sẽ đảm bảo rằng các biến độc lập và phụ thuộc có liên hệ với nhau. Tuy nhiên, điều này không ngụ ý rằng các biến độc lập là nguyên nhân, mà biến phụ thuộc là kết quả. Hãy nhớ rằng: Tương quan không đồng nghĩa với nhân quả!\n",
            "Checkpoint 3: \n",
            "Các mối quan hệ phi tuyến tính cao có thể dẫn đến mô hình hồi quy tuyến tính không thành công. Tuy nhiên, điều này không có nghĩa là hai biến không liên quan. Trong các trường hợp này, có thể cần sử dụng các phương pháp phân tích nâng cao hơn để kiểm tra mối quan hệ. Ví dụ điển hình về vấn đề này được mô tả qua Bộ tứ Anscombe (Anscombe's quartet), được trình bày trong Chương 3 về Khám phá Dữ liệu (Data Exploration).\n",
            "Checkpoint 4:\n",
            "Ngoài việc kiểm tra mức độ phù hợp của mô hình bằng , điều quan trọng là đảm bảo rằng mô hình không bị overfitting (quá khớp). Overfitting xảy ra khi mô hình được xây dựng để phù hợp quá mức với tập dữ liệu đào tạo, khiến lỗi hồi quy bình phương nhỏ nhất (least squares error) rất thấp, nhưng mô hình không thể khái quát hóa tốt trên dữ liệu mới. Sử dụng kỹ thuật Regularization là một giải pháp để tránh tình trạng này.\n",
            "Xem xét một số dữ liệu mẫu biểu diễn một hàm đơn giản cơ bản . Nếu dữ liệu này được vẽ trên đồ thị, nó sẽ trông giống như Hình 5.12.\n",
            "\n",
            "\n",
            "\n",
            "\n",
            "\n",
            "\n",
            "\n",
            "\n",
            "\n",
            "\n",
            "\n",
            "Hình 5.12. Đường hồi quy tuyến tính (trái) và Hình 5.13. đường hồi quy tuyến tính khi có điểm ngoại lai (outlier) (phải)\n",
            "Một mô hình hồi quy có thể được áp dụng cho dữ liệu này và một đường hồi quy tuyến tính đẹp có thể thu được, như được thể hiện bằng đường thẳng, cùng với các hệ số sau: , khá gần với hàm số gốc. Bây giờ, giả sử có một điểm dữ liệu mới [3,30], đây là một điểm ngoại lai, và bây giờ mô hình phải được điều chỉnh lại, kết quả sẽ tương tự như những gì được thể hiện trong Hình 5.13.\n",
            "So với lần hồi quy trước đó, điểm ngoại lai có xu hướng kéo đường hồi quy lên phía trên về phía điểm ngoại lai. Nói cách khác, khi mô hình cố gắng giảm thiểu tổng bình phương sai số giữa tất cả các điểm và đường hồi quy, một số điểm ngoại lai có thể có ảnh hưởng không cân đối lên đặc điểm của mô hình.\n",
            "Một cách khác để xem xét điều này là mô hình cố gắng khớp tất cả các điểm dữ liệu ở mức tốt nhất có thể, điều này dẫn đến hiện tượng overfitting (quá khớp). Quá khớp có nghĩa là tổng thể lỗi trên tập dữ liệu huấn luyện sẽ được giảm thiểu, nhưng nếu có dữ liệu mới (không được sử dụng để huấn luyện), lỗi của mô hình trên dữ liệu này có thể lớn hơn mức hợp lý. Một triệu chứng của hiện tượng quá khớp là sự tăng quá lớn của các hệ số hồi quy. Trong ví dụ trên, các hệ số này bây giờ là, tức là chúng đã tăng lên gấp đôi hoặc gần gấp đôi trong mỗi trường hợp.\n",
            "Để tránh hiện tượng quá khớp bằng cách đảm bảo rằng không có hệ số hoặc trọng số nào trở nên quá lớn, người ta có thể thêm một thuật toán phạt vào hàm mất mát, nhằm phạt những trọng số lớn. Quá trình này được biết đến như là Ridge Regression hoặc chuẩn hóa L2. Thuật toán phạt này bao gồm tổng bình phương độ lớn của tất cả các trọng số, , tức là chuẩn L2 của các trọng số  trong đó m là số thuộc tính.\n",
            "Hàm mất mát được điều chỉnh như sau (Cost function)\n",
            "\t\t(5.14)\n",
            "Bằng cách thực hiện các bước tính toán thông thường và chuyển sang dạng ma trận như đã trình bày trước đó, ta thu được nghiệm mới cho các trọng số:\n",
            "\t\t(5.15)\n",
            "trong đó I là ma trận đơn vị và  là hệ số phạt (penalty factor) > 0\n",
            "So sánh điều này với nghiệm chuẩn từ phương trình (5.11) ta được\n",
            "\t\t\t(5.16)\n",
            "Khi chuẩn L2 được áp dụng, đường hồi quy trông được cải thiện đáng kể và các hệ số trở thành , gần với hàm số gốc hơn (như được hiển thị trong Hình 5.14).\n",
            "Hồi quy Ridge có xu hướng đẩy tất cả các trọng số về gần 0 để giảm thiểu tác động của overfitting.\n",
            "Có một kịch bản khác về hiện tượng quá khớp, đó là lựa chọn quá nhiều biến số đầu vào (thuộc tính, tức là trọng số). Mặc dù tất cả các thuộc tính đều ảnh hưởng đến kết quả dự đoán, nhưng một số thuộc tính lại có ảnh hưởng lớn hơn các thuộc tính khác. Tuy nhiên, khi thêm nhiều thuộc tính vào mô hình, lỗi trên tập huấn luyện tiếp tục giảm, nhưng lỗi kiểm tra có thể tăng lên, dẫn đến một hình thức quá khớp khác.\n",
            "\n",
            "Hình 5.14. Chuẩn hóa L2\n",
            "Hồi quy Lasso hoặc chuẩn hóa chuẩn L1 (L1-norm regularization) giải quyết mối quan tâm về việc chọn ra số lượng thuộc tính tối ưu. Phương pháp này có cách xây dựng tương tự như Ridge, nhưng sử dụng chuẩn L1: \n",
            "\t\t(5.17)\n",
            "Đôi khi, các thuộc tính (features) có thể tương quan với nhau—khi điều này xảy ra, ma trận  trở nên suy biến (singular), và nghiệm dưới dạng công thức đóng (closed-form solution) không thể sử dụng được. Tuy nhiên, điều này không phải là vấn đề nếu sử dụng gradient descent để xấp xỉ nghiệm. Gradient descent là một kỹ thuật cho phép chúng ta đánh giá các hệ số b một cách dần dần sao cho hàm lỗi J được giảm thiểu, đặc biệt khi việc tính đạo hàm đóng dj/db không khả thi. Ý tưởng của phương pháp là thực hiện các bước tính toán nhỏ theo hướng dẫn đến giá trị tối thiểu của J bằng cách chọn con đường ngắn nhất. Trong trường hợp này, chúng ta có thể tính đạo hàm của hàm lỗi dưới dạng công thức đóng như sau:\n",
            " -2\t(5.18)\n",
            "trong đó sign(b) = 1 nếu b > 0, -1 nếu b < 0 và 0 nếu b = 0\n",
            "Thông thường, trong các tình huống thực tế, việc có các đạo hàm dưới dạng công thức đóng là rất hiếm, và do đó, gradient descent là giải pháp thay thế. Thiết lập cuối cùng của gradient descent cho cả hai loại chuẩn hóa là:\n",
            "LASSO hoặc chuẩn L1:\n",
            "\t\t(5.19)\n",
            "RIDGE hoặc chuẩn L2:\n",
            "\t\t(5.20)\n",
            "trong đó.  là tham số tốc độ học (learning rate) xuất hiện trong mạng nơ-ron nhân tạo (Chương 4: Phân loại) và học sâu (Chương 10). Số bước  được xác định bởi tốc độ hội tụ của nghiệm hoặc dựa vào các tiêu chí dừng khác. Trong phần mềm RapidMiner, hồi quy Ridge được thực hiện bằng cách cung cấp một hệ số phạt (penalty factor) khác 0 trong ô dành cho ‘ridge’ trong phần tham số—xem Hình 5.4.\n",
            "PHẦN 5.2: HỒI QUY LOGISTIC\n",
            "Từ góc nhìn lịch sử, có hai nhóm chính của các kỹ thuật khoa học dữ liệu: những kỹ thuật phát triển từ thống kê (Cramer, 2002), chẳng hạn như hồi quy, và những kỹ thuật xuất hiện từ sự kết hợp giữa thống kê, khoa học máy tính và toán học, chẳng hạn như cây phân loại. Hồi quy logistic xuất hiện vào giữa thế kỷ 20 như một kết quả của sự phát triển đồng thời của khái niệm logit trong lĩnh vực sinh trắc học (biometrics) và sự ra đời của máy tính kỹ thuật số, giúp cho việc tính toán các thuật ngữ này trở nên dễ dàng hơn. Do đó, để hiểu hồi quy logistic, trước tiên cần khám phá khái niệm logit. Biểu đồ trong Hình 5.15, được điều chỉnh từ dữ liệu do Cramer (2002) trình bày, cho thấy xu hướng phát triển từ việc chấp nhận ban đầu khái niệm logit vào giữa những năm 1950 đến sự gia tăng mạnh mẽ các tài liệu tham khảo liên quan đến khái niệm này vào nửa sau của thế kỷ 20. Biểu đồ này là một chỉ báo cho thấy tầm quan trọng của hồi quy logistic đã gia tăng như thế nào trong vài thập kỷ qua trong nhiều ứng dụng khoa học và kinh doanh.\n",
            "Để giới thiệu khái niệm logic, một ví dụ đơn giản sẽ được sử dụng. Hãy nhớ rằng hồi quy tuyến tính là quá trình tìm một hàm số để khớp với các giá trị 𝑥’s thay đổi tuyến tính với 𝑦, với mục tiêu sử dụng hàm số này như một mô hình để dự đoán. Giả định chính ở đây là cả biến dự đoán và biến mục tiêu đều là biến liên tục (continuous variables), như được minh họa trong biểu đồ ở Hình 5.16. Trực quan, ta có thể nói rằng khi x tăng, y cũng tăng dọc theo độ dốc của đường thẳng, ví dụ như mối quan hệ giữa chi tiêu quảng cáo và doanh số bán hàng.\n",
            "\n",
            "Hình 5.15. Sự phát triển của các ứng dụng hồi quy logistic trong nghiên cứu thống kê\n",
            "\n",
            "Hình 5.16. Mục tiêu của mô hình hồi quy tuyến tính\n",
            "Chú thích: Chúng ta có thể đưa ra một đánh giá mang tính trực quan rằng việc tăng chi tiêu cho quảng cáo (Ad spend) cũng làm tăng doanh số bán hàng (Sales). Sử dụng đường thẳng, chúng ta cũng có thể dự đoán được mối quan hệ này.\n",
            "Điều gì xảy ra nếu biến mục tiêu không liên tục? Giả sử biến mục tiêu là phản hồi đối với các chiến dịch quảng cáo—nếu số lượng khách hàng mua vượt ngưỡng nhất định, thì phản hồi được coi là 1; nếu không thì phản hồi là 0. Trong trường hợp này, biến mục tiêu (y) là biến rời rạc (như trong Hình 5.17); đường thẳng không còn phù hợp như được thấy trong biểu đồ. Mặc dù người ta vẫn có thể ước lượng—một cách xấp xỉ—rằng khi x (chi tiêu quảng cáo) tăng, y (phản hồi hoặc không phản hồi với chiến dịch) cũng tăng, nhưng không có sự chuyển đổi dần dần; giá trị y thay đổi đột ngột từ một kết quả nhị phân sang kết quả khác. Do đó, đường thẳng không phù hợp với dữ liệu này. Mặt khác, hãy xem đường cong hình chữ S trong Hình 5.18. Đây chắc chắn là một sự phù hợp tốt hơn với dữ liệu được hiển thị. Nếu phương trình của đường cong \"sigmoid\" này được biết, thì nó có thể được sử dụng hiệu quả như cách sử dụng đường thẳng trong hồi quy tuyến tính.\n",
            "Hồi quy logistic, do đó, là quá trình tìm được một đường cong phi tuyến phù hợp với dữ liệu khi biến mục tiêu là rời rạc. Làm thế nào để thu được đường cong sigmoid này? Nó liên quan như thế nào đến các biến dự đoán?\n",
            "\n",
            "Hình 5.17. Điều chỉnh mô hình tuyến tính cho dữ liệu rời rạc\n",
            "Chú thích: Phép khớp tuyến tính cho kết quả nhị phân\n",
            "Mặc dù chúng ta có thể đưa ra đánh giá trực quan rằng việc tăng chi tiêu cho quảng cáo (Ad spend) làm tăng Phản hồi (Response), nhưng sự thay đổi này diễn ra đột ngột—khoảng giá trị 0.6. Sử dụng đường thẳng, chúng ta thực sự không thể dự đoán được kết quả chính xác.\n",
            "5.2.1. Cách thức hoạt động:\n",
            "Biến phụ thuộc y sẽ được xem xét lại. Nếu nó là một biến nhị phân, nghĩa là nó chỉ có thể nhận hai giá trị (có/không, đỗ/trượt, phản hồi/không phản hồi, v.v.), thì y có thể được mã hóa để chỉ nhận hai giá trị: 1 hoặc 0.\n",
            "\n",
            "Hình 5.18. Khớp một đường cong phi tuyến với dữ liệu rời rạc.\n",
            "Chú thích: Mô hình Hồi quy Logistic. Đường cong hình chữ S rõ ràng phù hợp hơn với hầu hết dữ liệu. Chúng ta có thể khẳng định rằng việc chi tiêu làm tăng doanh số, và chúng ta cũng có thể dự đoán bằng cách sử dụng mô hình này.\n",
            "Thách thức là tìm một phương trình kết nối chức năng giữa các biến dự đoán x và biến kết quả y, trong đó y chỉ có thể nhận hai giá trị: 0 hoặc 1. Tuy nhiên, bản thân các biến dự đoán có thể không bị hạn chế: chúng có thể là liên tục hoặc phân loại. Do đó, phạm vi chức năng của các biến dự đoán không bị hạn chế này cũng có thể không bị hạn chế (giữa −∞ đến +∞). Để giải quyết vấn đề này, cần ánh xạ một hàm liên tục sang một hàm rời rạc. Đây là nhiệm vụ mà logit thực hiện.\n",
            "Logistic Regression Xác định Đường Cong Sigmoid như thế nào?\n",
            "Như đã quan sát trong Phương trình (5.1), một đường thẳng có thể được biểu diễn chỉ bằng hai tham số: độ dốc (b1​) và hệ số chặn (b0​). Mối quan hệ giữa x và y có thể dễ dàng được xác định bằng b0​ và b1​. Tuy nhiên, một đường cong hình chữ S (S-shaped curve) là một dạng phức tạp hơn và việc biểu diễn nó bằng phương pháp tham số không đơn giản như vậy. Vậy làm thế nào để tìm các tham số toán học liên kết x với y? Hóa ra, nếu biến mục tiêu y được chuyển đổi thành logarithm của odds của y, thì biến mục tiêu đã chuyển đổi này sẽ có mối quan hệ tuyến tính với các biến dự đoán x. Trong hầu hết các trường hợp cần sử dụng logistic regression, y thường là một dạng phản hồi có/không (yes/no). Điều này thường được hiểu là:\n",
            "Nếu y là một sự kiện (phản hồi, đỗ/trượt, v.v.), và p là xác suất sự kiện xảy ra (y=1), thì 1−p là xác suất sự kiện không xảy ra (y=0), và p/(1−p)*p / (1 - p)p/(1−p) là odds của sự kiện xảy ra.\n",
            "Logarithm của odds, log⁡(p/(1−p)/log (p / (1 - p))log(p/(1−p)), có mối quan hệ tuyến tính với các biến dự đoán x và được gọi là hàm logit. Hàm logit có thể được biểu diễn dưới dạng tuyến tính như mô hình hồi quy tuyến tính trong Phương trình (5.1):\n",
            "\n",
            "Trong trường hợp tổng quát hơn với nhiều biến độc lập x, có:\n",
            "\n",
            "Hàm logit có thể nhận bất kỳ giá trị nào từ −∞  đến +∞ Với mỗi hàng của các biến dự đoán trong một tập dữ liệu, logit có thể được tính toán. Từ logit, có thể dễ dàng tính xác suất của phản hồi y (xảy ra hoặc không xảy ra) như sau:\n",
            "\n",
            "Mô hình logistic regression từ Phương trình (5.22) cuối cùng cung cấp xác suất xảy ra của y (i.e,y=1) với các giá trị cụ thể của x thông qua Phương trình (5.23).\n",
            "Trong ngữ cảnh này, một định nghĩa tốt về logistic regression là: một phương pháp mô hình toán học lựa chọn mô hình tốt nhất, ít hạn chế nhất để mô tả mối quan hệ giữa nhiều biến độc lập (giải thích) và một biến phản hồi nhị phân.\n",
            "Để tính p từ x, các hệ số b trong Phương trình (5.22) cần được xác định. Giả sử bắt đầu với các giá trị thử nghiệm cho b. Với một tập dữ liệu huấn luyện, có thể tính đại lượng:\n",
            "\n",
            "trong đó y là giá trị kết quả thực tế (0 hoặc 1) và p là xác suất ước tính bởi phương trình logit (Phương trình 5.23).\n",
            "Khi tổng hợp đại lượng này cho tất cả các mẫu dữ liệu huấn luyện, giá trị tổng hợp cao chỉ ra một mô hình tốt (phù hợp) và ngược lại. Trong thực tế, các kỹ thuật tối ưu hóa phi tuyến như gradient descent được sử dụng để tìm các hệ số b nhằm tối đa hóa likelihood của việc ước tính chính xác.\n",
            "Ví dụ Thực Tiễn: Vụ Đắm Tàu Titanic\n",
            "Trong thảm họa năm 1912 của tàu Titanic, một số mẫu thống kê cơ bản xuất hiện từ dữ liệu hành khách:\n",
            "75% phụ nữ sống sót.\n",
            "63% hành khách hạng nhất sống sót.\n",
            "Phụ nữ đi hạng nhất có xác suất sống sót lên đến 97%!\n",
            "Dữ liệu này đã được sử dụng trong một cuộc thi khoa học dữ liệu nhằm xây dựng thuật toán dự đoán khả năng sống sót. Một mô hình logistic regression được xây dựng trên 891 mẫu dữ liệu với các biến: hạng vé (pclass), giới tính (sex) và tình trạng sống sót (survived). Mô hình thu được phương trình:\n",
            "\n",
            "Hệ số này cho thấy ảnh hưởng của từng biến dự đoán đến xác suất sống sót, có thể diễn giải bằng cách sử dụng Phương trình (5.23)\n",
            "\n",
            "\n",
            "Hình 5.19. Xác suất sống sót trong vụ đắm tàu Titanic dựa trên giới tính và hạng vé.\n",
            "Điều này chỉ ra rằng khi logit tăng lên một giá trị dương lớn, xác suất hành khách không sống sót (survived = false) tiến dần đến 1. Cụ thể hơn, khi logit tiến dần về −∞-, p tiến dần đến 0, và khi logit tiến dần về +∞, p tiến dần đến 1. Hệ số âm của biến sex cho thấy xác suất này giảm đối với nữ (sex = 1), và hệ số dương của biến pclass chỉ ra rằng xác suất không sống sót (survived = false) tăng khi số hạng của hạng du lịch tăng. Điều này xác nhận hiểu biết trực quan được thể hiện trong biểu đồ phân tán ở Hình 5.19.\n",
            "Dạng tỷ số của mô hình hồi quy logistic cũng có thể được xem xét, được biểu diễn như sau:\n",
            "\n",
            "\n",
            "Bảng 5.3. Phần dữ liệu từ ví dụ về Titanic.\n",
            "Nhớ rằng logit đơn giản được biểu diễn bởi log⁡(odds) và về cơ bản sử dụng cùng phương trình như Eq. (5.24). Một điều quan trọng cần lưu ý là hệ số dương trong mô hình logit chuyển thành hệ số lớn hơn 1 trong mô hình odds. Ngược lại, một hệ số âm trong mô hình logit chuyển thành hệ số nhỏ hơn 1 trong mô hình odds. Một lần nữa, rõ ràng rằng tỷ lệ odds không sống sót tăng khi hạng du lịch tăng và giảm nếu hành khách là nữ (sex = 1). Phân tích tỷ số odds (odds ratio) sẽ làm rõ giá trị của việc tính toán kết quả theo định dạng này. Xét một hành khách nữ (sex = 1). Khả năng sống sót của hành khách này có thể được tính nếu cô ấy ở hạng nhất (pclass = 1) so với hạng hai (pclass = 2) dưới dạng tỷ số odds như sau:\n",
            "\n",
            "Bảng 5.4. Một mẫu từ tập dữ liệu vỡ nợ khoản vay.\n",
            "5.2.2. Cách thức thực hiện:\n",
            "Dữ liệu được sử dụng trong ví dụ này là một bài tập chấm điểm tín dụng, với mục tiêu dự đoán khả năng DEFAULT (Y hoặc N) dựa trên hai biến dự đoán: loan age (tuổi khoản vay/doanh nghiệp) và number of days of delinquency (số ngày chậm thanh toán). Dữ liệu gồm 100 mẫu.\n",
            "Bước 1: Chuẩn bị dữ liệu\n",
            "Tải dữ liệu vào RapidMiner. Đảm bảo thiết lập cột DEFAULT làm Label. Chia dữ liệu thành tập huấn luyện và kiểm tra sử dụng công cụ Split Validation.\n",
            "Bước 2: Thiết lập mô hình và tham số\n",
            "Thêm toán tử Logistic Regression vào quy trình huấn luyện của toán tử Split Validation. Thêm toán tử Apply Model vào quy trình kiểm tra của toán tử Split Validation. Chỉ sử dụng các giá trị tham số mặc định. Thêm toán tử đánh giá Performance (Binominal) vào quy trình kiểm tra của toán tử Split Validation. Trong cài đặt tham số, đánh dấu chọn các hộp Accuracy, AUC, Precision, và Recall. Kết nối tất cả các cổng như hiển thị trong Hình 5.20.\n",
            "Bước 3: Thực thi và diễn giải\n",
            "Chạy mô hình và xem kết quả. Đặc biệt, kiểm tra mô hình kernel, trong đó hiển thị các hệ số của hai biến dự đoán và hệ số chặn (intercept). Độ chệch (offset) là 21.820, và các hệ số được cho bởi: w[BUSAGE] = 0.592 và w[DAYSDELQ] = 2.045. Ngoài ra, kiểm tra ma trận nhầm lẫn (confusion matrix) để xem các chỉ số Accuracy, Precision, và Recall, cuối cùng xem đường cong ROC và kiểm tra diện tích dưới đường cong (AUC). Chương 8, Đánh giá Mô hình, cung cấp thêm chi tiết về các thước đo hiệu suất quan trọng này.\n",
            "\n",
            "Hình 5.20. Thiết lập quy trình RapidMiner cho mô hình hồi quy logistic.\n",
            "Hình 5.21. Ma trận nhầm lẫn cho mẫu thử nghiệm\n",
            "Độ chính xác của mô hình dựa trên 30% mẫu kiểm tra là 83%. (Đường cong ROC có giá trị AUC là 0,863). Bước tiếp theo sẽ là xem xét lại mô hình kernel và chuẩn bị triển khai mô hình này. Các con số này có chấp nhận được không? Đặc biệt, hãy chú ý đến độ nhớ (recall) của lớp (hàng dưới cùng của ma trận nhầm lẫn trong Hình 5.21). Mô hình khá chính xác trong việc dự đoán liệu một người KHÔNG phải là người vỡ nợ (91,3%), tuy nhiên, hiệu suất của nó khi xác định một người LÀ người vỡ nợ lại có vấn đề. Đối với hầu hết các ứng dụng dự đoán, chi phí của việc dự đoán sai các lớp không đồng nhất. Tức là, một kết quả dương tính giả (false positive, trường hợp xác định ai đó là người vỡ nợ trong khi thực tế họ không phải) có thể ít tốn kém hơn so với một kết quả âm tính giả (false negative, trường hợp xác định ai đó không phải là người vỡ nợ trong khi thực tế họ là người vỡ nợ). Có những cách để đánh trọng số cho chi phí phân loại sai, và RapidMiner cho phép thực hiện điều này thông qua việc sử dụng công cụ MetaCost.\n",
            "Bước 4: Sử dụng MetaCost để cải thiện class recall:\n",
            "Lồng ghép Logistic Regression vào bên trong MetaCost để cải thiện độ nhớ (recall) của lớp. MetaCost hiện được đặt bên trong Split Validation. Cấu hình MetaCost như được hiển thị trong Hình 5.22. Lưu ý rằng chi phí của âm tính giả (false negative) cao gấp đôi chi phí của dương tính giả (false positive). Các giá trị thực tế của các chi phí này có thể được tối ưu hóa thêm bằng cách sử dụng vòng lặp tối ưu hóa—quá trình tối ưu hóa được thảo luận trong các trường hợp chung tại Chương 15, Làm quen với RapidMiner.\n",
            "\n",
            "Khi chạy quá trình này, ma trận nhầm lẫn mới thu được được hiển thị trong Hình 5.23. Độ chính xác tổng thể không thay đổi nhiều. Lưu ý rằng độ nhớ của lớp Default = Yes đã tăng từ 57% lên 71%, nhưng điều này phải trả giá bằng việc giảm độ nhớ của lớp Default = No từ 91% xuống 87%. Điều này có chấp nhận được không? Một lần nữa, câu trả lời đến từ việc kiểm tra chi phí kinh doanh thực tế. Thông tin chi tiết hơn về cách diễn giải ma trận nhầm lẫn và đánh giá hiệu suất của các mô hình phân loại được cung cấp trong Chương 8, Đánh giá Mô hình\n",
            "\n",
            "Hình 5.22. Cấu hình MetaCost để cải thiện hiệu suất độ nhớ của lớp.\n",
            "Hình 5.23. Hiệu suất phân loại được cải thiện nhờ sử dụng MetaCost.\n",
            "Bước 5: Áp dụng mô hình vào một tập dữ liệu chưa được nhìn thấy\n",
            "Trong RapidMiner, logistic regression được tính toán bằng cách tạo một máy vector hỗ trợ (SVM) với một hàm mất mát được sửa đổi (Hình 5.24). SVM đã được giới thiệu trong Chương 4 về Phân loại. Đó là lý do tại sao các vector hỗ trợ xuất hiện trong quá trình này.\n",
            "\n",
            "Hình 5.24. Mô hình logistic regression mặc định trong RapidMiner dựa trên SVM. SVM là viết tắt của Support Vector Machine (Máy vector hỗ trợ).\n",
            "5.2.3. Tóm tắt các điểm chính:\n",
            "Hồi quy logistic có thể được coi tương đương với hồi quy tuyến tính trong các tình huống mà biến mục tiêu (hoặc biến phụ thuộc) là rời rạc, tức không liên tục. Về nguyên tắc, biến phản hồi (hoặc nhãn) thường là nhị thức (binomial), với hai danh mục: Có/Không, Chấp nhận/Không chấp nhận, Mặc định/Không mặc định, v.v. Hồi quy logistic rất phù hợp cho các ứng dụng phân tích kinh doanh, nơi biến mục tiêu là một quyết định nhị phân (thành công/thất bại, phản hồi/không phản hồi, v.v.).\n",
            "Hồi quy logistic bắt nguồn từ khái niệm logit. Logit là logarit của tỷ lệ chấp nhận (odds) của phản hồi y, được biểu diễn dưới dạng hàm của các biến độc lập hoặc biến dự đoán x, cùng với một hằng số. Công thức có thể viết như sau:\n",
            "\n",
            "Tỷ lệ chấp nhận Yes có thể được chuyển đổi thành xác suất bằng công thức:\n",
            "\n",
            "Các biến dự đoán (predictors) trong hồi quy logistic tiêu chuẩn có thể là số hoặc danh mục. Tuy nhiên, trong các công cụ như RapidMiner, các biến dự đoán phải là số, vì nền tảng này dựa trên công thức của máy vector hỗ trợ (SVM).\n",
            "\n",
            "\n",
            "PHẦN 5.3: KẾT LUẬN\n",
            "Chương này đã khám phá hai trong số những phương pháp khớp hàm phổ biến nhất. Các phương pháp khớp hàm là một trong những kỹ thuật khoa học dữ liệu sớm nhất, dựa trên khái niệm học có giám sát (supervised learning). Mô hình hồi quy tuyến tính bội làm việc với các biến dự đoán số (numeric predictors) và một nhãn đầu ra dạng số (numeric label), do đó, đây là một trong những phương pháp phổ biến nhất cho các tác vụ dự đoán số. Mô hình hồi quy logistic làm việc với các biến dự đoán dạng số hoặc phân loại (numeric hoặc categorical predictors) và một nhãn đầu ra dạng phân loại (thường là nhị phân - binomial label). Chương này đã giải thích cách phát triển một mô hình hồi quy tuyến tính đơn giản bằng các phương pháp giải tích (calculus) và thảo luận về cách lựa chọn đặc trưng (feature selection) ảnh hưởng đến các hệ số của mô hình. Ngoài ra, ý nghĩa của các hệ số đã được diễn giải thông qua t-stat và p-value, đồng thời các điểm kiểm tra quan trọng mà người dùng cần tuân theo để xây dựng các mô hình chất lượng tốt đã được trình bày. Sau đó, hồi quy logistic được giới thiệu bằng cách so sánh cấu trúc tương tự của hai phương pháp khớp hàm này. Cách mà một đường cong sigmoid có thể phù hợp hơn để khớp các biến dự đoán với một nhãn nhị phân đã được thảo luận, cùng với khái niệm logic, cho phép chuyển đổi một hàm phức tạp thành một dạng tuyến tính dễ nhận biết hơn. Cuối cùng, chương này cũng trình bày cách diễn giải các hệ số của hồi quy logistic, cách đo lường và cải thiện hiệu suất phân loại của mô hình.\n",
            "THAM KHẢO\n",
            "Black, E., & Black, M. (1973). The Wallace vote in Alabama: A multiple regression analysis. The Journal of Politics, 35(3), 730-736.\n",
            "Cramer, J. (2002). The origins of logistic regression (pp. 115). Tinbergen Institute Discussion\n",
            "Paper.\n",
            "Eliason, S. (1993). Maximum likelihood estimation: Logic and practice. Newbury Park, CA: Sage Publishers.\n",
            "Fletcher, R. A. (1963). A rapidly convergent descent method for minimization. The Computer\n",
            "Journal, 6(2), 163168.\n",
            "Galton, F. (1888). Co-relations and their measurement, chiefly from anthropometric data.\n",
            "Proceedings of the Royal Society of London, 45(273-279), 135145.\n",
            "Harrison, D. A. (1978). Hedonic prices and the demand for clean air. Journal of Environmental Economics and Management, 5(1), 81102.\n",
            "Hinde, P. (1998). Encyclopedia titanica. Retrieved from ,http://www.encyclopedia-titanica.org/ . .\n",
            "Marquardt, D. (1963). An algorithm for least-squares estimation of nonlinear parameters. Journal\n",
            "of the Society for Industrial and Applied Mathematics, 11(2), 431441.\n",
            "Stigler, S. (1999). Statistics on the table: The history of statistical concepts and methods. Cambridge:\n",
            "Harvard University Press.\n",
            "\n"
          ]
        }
      ]
    },
    {
      "cell_type": "markdown",
      "source": [],
      "metadata": {
        "id": "Pzw5dUlWId2v"
      }
    },
    {
      "cell_type": "markdown",
      "source": [
        "# **2. STRINGS**\n",
        "---\n"
      ],
      "metadata": {
        "id": "uOA4hbyAJ3zP"
      }
    },
    {
      "cell_type": "code",
      "metadata": {
        "id": "31e24ee1"
      },
      "source": [
        "s = \"This is my personal note for Week 1 Sudo Code 2025\"\n",
        "t = \"Su\"\n",
        "u = \"Do\""
      ],
      "execution_count": null,
      "outputs": []
    },
    {
      "cell_type": "code",
      "metadata": {
        "colab": {
          "base_uri": "https://localhost:8080/"
        },
        "id": "fa041cc2",
        "outputId": "a659673f-12f0-4d10-f01a-cea5ae34b816"
      },
      "source": [
        "# s.find(t): first instance\n",
        "print(f\"s.find('{t}'):\", s.find(t))\n",
        "\n",
        "# s.rfind(t): last instance\n",
        "print(f\"s.rfind('{t}'):\", s.rfind(t))\n",
        "\n",
        "# s.index(t)\n",
        "print(f\"s.index('{t}'):\", s.index(t))"
      ],
      "execution_count": null,
      "outputs": [
        {
          "output_type": "stream",
          "name": "stdout",
          "text": [
            "s.find('Su'): 36\n",
            "s.rfind('Su'): 36\n",
            "s.index('Su'): 36\n"
          ]
        }
      ]
    },
    {
      "cell_type": "code",
      "metadata": {
        "colab": {
          "base_uri": "https://localhost:8080/"
        },
        "id": "f72b9e10",
        "outputId": "7c8892ca-0c62-4755-fd6c-e8d4062445f5"
      },
      "source": [
        "# s.join(text)\n",
        "text_list = [\"Combining\", \"these\", \"words\"]\n",
        "print(f\"'-'.join({text_list}):\", '-'.join(text_list))"
      ],
      "execution_count": null,
      "outputs": [
        {
          "output_type": "stream",
          "name": "stdout",
          "text": [
            "'-'.join(['Combining', 'these', 'words']): Combining-these-words\n"
          ]
        }
      ]
    },
    {
      "cell_type": "code",
      "metadata": {
        "colab": {
          "base_uri": "https://localhost:8080/"
        },
        "id": "e4eae1bc",
        "outputId": "ac732c20-96e0-4989-9945-95dde88217ab"
      },
      "source": [
        "# s.split(t)\n",
        "print(f\"s.split(' '):\", s.split(' '))\n",
        "\n",
        "# s.splitlines()\n",
        "multi_line_string = \"Line 1\\nLine 2\\nLine 3\"\n",
        "print(f\"'{multi_line_string}'.splitlines():\", multi_line_string.splitlines())"
      ],
      "execution_count": null,
      "outputs": [
        {
          "output_type": "stream",
          "name": "stdout",
          "text": [
            "s.split(' '): ['This', 'is', 'my', 'personal', 'note', 'for', 'Week', '1', 'Sudo', 'Code', '2025']\n",
            "'Line 1\n",
            "Line 2\n",
            "Line 3'.splitlines(): ['Line 1', 'Line 2', 'Line 3']\n"
          ]
        }
      ]
    },
    {
      "cell_type": "code",
      "metadata": {
        "colab": {
          "base_uri": "https://localhost:8080/"
        },
        "id": "150daca6",
        "outputId": "d775b9cd-b915-4a20-e509-e84703a89f74"
      },
      "source": [
        "# s.lower()\n",
        "print(f\"s.lower():\", s.lower())\n",
        "\n",
        "# s.upper()\n",
        "print(f\"s.upper():\", s.upper().upper())\n",
        "\n",
        "# s.title()\n",
        "print(f\"s.title():\", s.title())"
      ],
      "execution_count": null,
      "outputs": [
        {
          "output_type": "stream",
          "name": "stdout",
          "text": [
            "s.lower(): this is my personal note for week 1 sudo code 2025\n",
            "s.upper(): THIS IS MY PERSONAL NOTE FOR WEEK 1 SUDO CODE 2025\n",
            "s.title(): This Is My Personal Note For Week 1 Sudo Code 2025\n"
          ]
        }
      ]
    },
    {
      "cell_type": "code",
      "metadata": {
        "colab": {
          "base_uri": "https://localhost:8080/"
        },
        "id": "ea8fd657",
        "outputId": "1b9d1aa2-0567-48da-db11-95ae49c4690b"
      },
      "source": [
        "# s.strip()\n",
        "whitespace_string = \"   String with whitespace   \"\n",
        "print(f\"'{whitespace_string}'.strip():\", whitespace_string.strip())"
      ],
      "execution_count": null,
      "outputs": [
        {
          "output_type": "stream",
          "name": "stdout",
          "text": [
            "'   String with whitespace   '.strip(): String with whitespace\n"
          ]
        }
      ]
    },
    {
      "cell_type": "code",
      "metadata": {
        "colab": {
          "base_uri": "https://localhost:8080/"
        },
        "id": "b2615785",
        "outputId": "fd472eef-1c30-4c2d-87f8-0f43e2d82b32"
      },
      "source": [
        "# s.replace(t, u)\n",
        "print(f\"s.replace('{t}', '{u}'):\", s.replace(t, u))"
      ],
      "execution_count": null,
      "outputs": [
        {
          "output_type": "stream",
          "name": "stdout",
          "text": [
            "s.replace('Su', 'Do'): This is my personal note for Week 1 Dodo Code 2025\n"
          ]
        }
      ]
    },
    {
      "cell_type": "markdown",
      "source": [
        "# **3. UNICODE**\n",
        "---\n",
        "**Unicode** is a universal character encoding standard that assigns every character (letters, digits, symbols, emojis, etc.) a unique number called a code point (for example, U+0041 for the letter A).\n",
        "\n",
        "> **Decode:** convert bytes from a file/stream into Unicode characters.\n",
        "\n",
        "> **Encode:** convert Unicode characters into bytes for storage or display.\n"
      ],
      "metadata": {
        "id": "oC7A2DwfJ5pu"
      }
    },
    {
      "cell_type": "code",
      "source": [
        "# Unicode character -> code point\n",
        "ord('â')"
      ],
      "metadata": {
        "colab": {
          "base_uri": "https://localhost:8080/"
        },
        "id": "31_GqEYmQdLk",
        "outputId": "ccbc7816-44da-405c-922b-be564efabf52"
      },
      "execution_count": null,
      "outputs": [
        {
          "output_type": "execute_result",
          "data": {
            "text/plain": [
              "226"
            ]
          },
          "metadata": {},
          "execution_count": 43
        }
      ]
    },
    {
      "cell_type": "code",
      "source": [
        "# code point -> Unicode character\n",
        "chr(226)"
      ],
      "metadata": {
        "colab": {
          "base_uri": "https://localhost:8080/",
          "height": 35
        },
        "id": "ITacu57VS-1d",
        "outputId": "f75a28d9-feac-4d04-aa56-8acfd4e88c78"
      },
      "execution_count": null,
      "outputs": [
        {
          "output_type": "execute_result",
          "data": {
            "text/plain": [
              "'â'"
            ],
            "application/vnd.google.colaboratory.intrinsic+json": {
              "type": "string"
            }
          },
          "metadata": {},
          "execution_count": 44
        }
      ]
    },
    {
      "cell_type": "markdown",
      "source": [
        "**A GLYPH** is the visual representation of a character.\n",
        "\n",
        "* A character is an abstract symbol defined by Unicode (for example, the character A with code point U+0041).\n",
        "\n",
        "* A glyph is how that character actually looks when rendered on screen or printed, depending on the font."
      ],
      "metadata": {
        "id": "1qRu4zwWUsc0"
      }
    },
    {
      "cell_type": "code",
      "source": [
        "nacute = '\\u0144'\n",
        "nacute"
      ],
      "metadata": {
        "colab": {
          "base_uri": "https://localhost:8080/",
          "height": 35
        },
        "id": "lfwvo6zbQvjb",
        "outputId": "3a62a703-586d-47ef-89f6-4be238d6f820"
      },
      "execution_count": null,
      "outputs": [
        {
          "output_type": "execute_result",
          "data": {
            "text/plain": [
              "'ń'"
            ],
            "application/vnd.google.colaboratory.intrinsic+json": {
              "type": "string"
            }
          },
          "metadata": {},
          "execution_count": 45
        }
      ]
    },
    {
      "cell_type": "code",
      "source": [
        "# print as byte\n",
        "nacute.encode('utf8')\n",
        "#'ń' trong UTF-8 được lưu bằng 2 byte: C5 84 (hex)."
      ],
      "metadata": {
        "colab": {
          "base_uri": "https://localhost:8080/"
        },
        "id": "aob_8yigQykR",
        "outputId": "efbaf101-6326-44d4-a9b9-b04fefb294c8"
      },
      "execution_count": null,
      "outputs": [
        {
          "output_type": "execute_result",
          "data": {
            "text/plain": [
              "b'\\xc5\\x84'"
            ]
          },
          "metadata": {},
          "execution_count": 46
        }
      ]
    },
    {
      "cell_type": "markdown",
      "source": [
        "# **4. REGULAR EXPRESSIONS** - *Detecting Word Patterns*\n",
        "---\n"
      ],
      "metadata": {
        "id": "c6rQD-YFWGJ1"
      }
    },
    {
      "cell_type": "code",
      "source": [
        "# To use regular expression\n",
        "import re"
      ],
      "metadata": {
        "id": "g4J1-wNdW8rK"
      },
      "execution_count": null,
      "outputs": []
    },
    {
      "cell_type": "code",
      "source": [
        "# Using word corpus from NLTK\n",
        "nltk.download('words')\n",
        "wordlist = [w for w in nltk.corpus.words.words('en') if w.islower()]"
      ],
      "metadata": {
        "colab": {
          "base_uri": "https://localhost:8080/"
        },
        "id": "a7BUZ3SuQ9e1",
        "outputId": "75496cd9-ffff-4695-b83a-f3769476daf7"
      },
      "execution_count": null,
      "outputs": [
        {
          "output_type": "stream",
          "name": "stderr",
          "text": [
            "[nltk_data] Downloading package words to /root/nltk_data...\n",
            "[nltk_data]   Unzipping corpora/words.zip.\n"
          ]
        }
      ]
    },
    {
      "cell_type": "markdown",
      "source": [
        "> **$** : matches the end of word"
      ],
      "metadata": {
        "id": "enfl-MIZYPuz"
      }
    },
    {
      "cell_type": "code",
      "source": [
        "[w for w in wordlist if re.search('ed$', w)]"
      ],
      "metadata": {
        "colab": {
          "base_uri": "https://localhost:8080/"
        },
        "collapsed": true,
        "id": "nf67a6VjXdVH",
        "outputId": "9d41c9e0-8d41-4c33-d563-098be451f5d1"
      },
      "execution_count": null,
      "outputs": [
        {
          "output_type": "execute_result",
          "data": {
            "text/plain": [
              "['abaissed',\n",
              " 'abandoned',\n",
              " 'abased',\n",
              " 'abashed',\n",
              " 'abatised',\n",
              " 'abed',\n",
              " 'aborted',\n",
              " 'abridged',\n",
              " 'abscessed',\n",
              " 'absconded',\n",
              " 'absorbed',\n",
              " 'abstracted',\n",
              " 'abstricted',\n",
              " 'accelerated',\n",
              " 'accepted',\n",
              " 'accidented',\n",
              " 'accoladed',\n",
              " 'accolated',\n",
              " 'accomplished',\n",
              " 'accosted',\n",
              " 'accredited',\n",
              " 'accursed',\n",
              " 'accused',\n",
              " 'accustomed',\n",
              " 'acetated',\n",
              " 'acheweed',\n",
              " 'aciculated',\n",
              " 'aciliated',\n",
              " 'acknowledged',\n",
              " 'acorned',\n",
              " 'acquainted',\n",
              " 'acquired',\n",
              " 'acquisited',\n",
              " 'acred',\n",
              " 'aculeated',\n",
              " 'addebted',\n",
              " 'added',\n",
              " 'addicted',\n",
              " 'addlebrained',\n",
              " 'addleheaded',\n",
              " 'addlepated',\n",
              " 'addorsed',\n",
              " 'adempted',\n",
              " 'adfected',\n",
              " 'adjoined',\n",
              " 'admired',\n",
              " 'admitted',\n",
              " 'adnexed',\n",
              " 'adopted',\n",
              " 'adossed',\n",
              " 'adreamed',\n",
              " 'adscripted',\n",
              " 'aduncated',\n",
              " 'advanced',\n",
              " 'advised',\n",
              " 'aeried',\n",
              " 'aethered',\n",
              " 'afeared',\n",
              " 'affected',\n",
              " 'affectioned',\n",
              " 'affined',\n",
              " 'afflicted',\n",
              " 'affricated',\n",
              " 'affrighted',\n",
              " 'affronted',\n",
              " 'aforenamed',\n",
              " 'afterfeed',\n",
              " 'aftershafted',\n",
              " 'afterthoughted',\n",
              " 'afterwitted',\n",
              " 'agazed',\n",
              " 'aged',\n",
              " 'agglomerated',\n",
              " 'aggrieved',\n",
              " 'agminated',\n",
              " 'agnamed',\n",
              " 'agonied',\n",
              " 'agreed',\n",
              " 'agueweed',\n",
              " 'ahungered',\n",
              " 'aiguilletted',\n",
              " 'ailweed',\n",
              " 'airbrained',\n",
              " 'airified',\n",
              " 'aiseweed',\n",
              " 'aisled',\n",
              " 'alarmed',\n",
              " 'alated',\n",
              " 'alimonied',\n",
              " 'aliped',\n",
              " 'alleyed',\n",
              " 'allied',\n",
              " 'alligatored',\n",
              " 'allseed',\n",
              " 'almsdeed',\n",
              " 'aloed',\n",
              " 'altared',\n",
              " 'alveolated',\n",
              " 'amazed',\n",
              " 'ameed',\n",
              " 'amiced',\n",
              " 'amphitheatered',\n",
              " 'ampullated',\n",
              " 'amused',\n",
              " 'anchored',\n",
              " 'angled',\n",
              " 'anguiped',\n",
              " 'anguished',\n",
              " 'angulated',\n",
              " 'angulinerved',\n",
              " 'anhungered',\n",
              " 'animated',\n",
              " 'aniseed',\n",
              " 'annodated',\n",
              " 'annulated',\n",
              " 'anomaliped',\n",
              " 'anserated',\n",
              " 'anteflected',\n",
              " 'anteflexed',\n",
              " 'antimoniated',\n",
              " 'antimoniureted',\n",
              " 'antimoniuretted',\n",
              " 'antiquated',\n",
              " 'antired',\n",
              " 'antiweed',\n",
              " 'antlered',\n",
              " 'apertured',\n",
              " 'apexed',\n",
              " 'apicifixed',\n",
              " 'apiculated',\n",
              " 'apocopated',\n",
              " 'apostrophied',\n",
              " 'appearanced',\n",
              " 'appellatived',\n",
              " 'appendaged',\n",
              " 'appendiculated',\n",
              " 'applied',\n",
              " 'appressed',\n",
              " 'aralkylated',\n",
              " 'arbored',\n",
              " 'arched',\n",
              " 'architraved',\n",
              " 'arcked',\n",
              " 'arcuated',\n",
              " 'ared',\n",
              " 'areolated',\n",
              " 'ariled',\n",
              " 'arillated',\n",
              " 'armchaired',\n",
              " 'armed',\n",
              " 'armied',\n",
              " 'armillated',\n",
              " 'armored',\n",
              " 'armoried',\n",
              " 'arpeggiated',\n",
              " 'arpeggioed',\n",
              " 'arrased',\n",
              " 'arrowed',\n",
              " 'arrowheaded',\n",
              " 'arrowweed',\n",
              " 'arseneted',\n",
              " 'arsenetted',\n",
              " 'arseniureted',\n",
              " 'articled',\n",
              " 'articulated',\n",
              " 'ashamed',\n",
              " 'ashlared',\n",
              " 'ashweed',\n",
              " 'aspersed',\n",
              " 'asphyxied',\n",
              " 'assented',\n",
              " 'assessed',\n",
              " 'assigned',\n",
              " 'assistanted',\n",
              " 'associated',\n",
              " 'assonanced',\n",
              " 'assorted',\n",
              " 'assumed',\n",
              " 'assured',\n",
              " 'asteriated',\n",
              " 'astonied',\n",
              " 'aswooned',\n",
              " 'atrophiated',\n",
              " 'atrophied',\n",
              " 'attached',\n",
              " 'attired',\n",
              " 'attrited',\n",
              " 'augmented',\n",
              " 'aurated',\n",
              " 'auricled',\n",
              " 'auriculated',\n",
              " 'authorized',\n",
              " 'autoinhibited',\n",
              " 'autosensitized',\n",
              " 'autosled',\n",
              " 'averted',\n",
              " 'avowed',\n",
              " 'awearied',\n",
              " 'awned',\n",
              " 'awninged',\n",
              " 'axed',\n",
              " 'axhammered',\n",
              " 'axised',\n",
              " 'axled',\n",
              " 'axseed',\n",
              " 'axweed',\n",
              " 'azoted',\n",
              " 'azured',\n",
              " 'babied',\n",
              " 'babished',\n",
              " 'babyfied',\n",
              " 'baccated',\n",
              " 'backboned',\n",
              " 'backed',\n",
              " 'backhanded',\n",
              " 'backwatered',\n",
              " 'baconweed',\n",
              " 'badgerweed',\n",
              " 'bagged',\n",
              " 'bagwigged',\n",
              " 'baked',\n",
              " 'balanced',\n",
              " 'balconied',\n",
              " 'baldachined',\n",
              " 'baldricked',\n",
              " 'balled',\n",
              " 'ballweed',\n",
              " 'balsamweed',\n",
              " 'balustered',\n",
              " 'balustraded',\n",
              " 'bandannaed',\n",
              " 'banded',\n",
              " 'bandoleered',\n",
              " 'bangled',\n",
              " 'banked',\n",
              " 'bankweed',\n",
              " 'bannered',\n",
              " 'barbated',\n",
              " 'barbed',\n",
              " 'barebacked',\n",
              " 'bareboned',\n",
              " 'barefaced',\n",
              " 'barefooted',\n",
              " 'barehanded',\n",
              " 'bareheaded',\n",
              " 'barelegged',\n",
              " 'barenecked',\n",
              " 'barmybrained',\n",
              " 'barred',\n",
              " 'barreled',\n",
              " 'bartizaned',\n",
              " 'basebred',\n",
              " 'based',\n",
              " 'basehearted',\n",
              " 'basifixed',\n",
              " 'basilweed',\n",
              " 'basined',\n",
              " 'basinerved',\n",
              " 'basqued',\n",
              " 'bastioned',\n",
              " 'bated',\n",
              " 'bathroomed',\n",
              " 'battered',\n",
              " 'batteried',\n",
              " 'battled',\n",
              " 'battlemented',\n",
              " 'bayed',\n",
              " 'bayoneted',\n",
              " 'beached',\n",
              " 'beaded',\n",
              " 'beaked',\n",
              " 'bealtared',\n",
              " 'beamed',\n",
              " 'beanweed',\n",
              " 'beaproned',\n",
              " 'bearded',\n",
              " 'beautied',\n",
              " 'beavered',\n",
              " 'beballed',\n",
              " 'bebannered',\n",
              " 'bebed',\n",
              " 'bebelted',\n",
              " 'bebled',\n",
              " 'bebothered',\n",
              " 'bebouldered',\n",
              " 'bebuttoned',\n",
              " 'becassocked',\n",
              " 'bechained',\n",
              " 'bechignoned',\n",
              " 'becircled',\n",
              " 'becoiffed',\n",
              " 'becombed',\n",
              " 'becousined',\n",
              " 'becrinolined',\n",
              " 'becuffed',\n",
              " 'becurtained',\n",
              " 'becushioned',\n",
              " 'bed',\n",
              " 'bedaggered',\n",
              " 'bedangled',\n",
              " 'bedded',\n",
              " 'bediademed',\n",
              " 'bediamonded',\n",
              " 'beedged',\n",
              " 'beefheaded',\n",
              " 'beeheaded',\n",
              " 'beeswinged',\n",
              " 'beetled',\n",
              " 'beetleheaded',\n",
              " 'beetleweed',\n",
              " 'beeweed',\n",
              " 'befamilied',\n",
              " 'befanned',\n",
              " 'befathered',\n",
              " 'beferned',\n",
              " 'befetished',\n",
              " 'befezzed',\n",
              " 'befilleted',\n",
              " 'befilmed',\n",
              " 'beforested',\n",
              " 'befountained',\n",
              " 'befrocked',\n",
              " 'befrogged',\n",
              " 'befurbelowed',\n",
              " 'befurred',\n",
              " 'begabled',\n",
              " 'begarlanded',\n",
              " 'begartered',\n",
              " 'beggarweed',\n",
              " 'beglobed',\n",
              " 'begoggled',\n",
              " 'begowned',\n",
              " 'behatted',\n",
              " 'behaviored',\n",
              " 'beheadlined',\n",
              " 'behooped',\n",
              " 'beinked',\n",
              " 'bekilted',\n",
              " 'beknived',\n",
              " 'beknotted',\n",
              " 'belaced',\n",
              " 'belated',\n",
              " 'belatticed',\n",
              " 'belavendered',\n",
              " 'beledgered',\n",
              " 'belfried',\n",
              " 'beliked',\n",
              " 'belimousined',\n",
              " 'belled',\n",
              " 'bellied',\n",
              " 'bellmouthed',\n",
              " 'bellweed',\n",
              " 'beloved',\n",
              " 'belozenged',\n",
              " 'belted',\n",
              " 'bemazed',\n",
              " 'bemedaled',\n",
              " 'bemedalled',\n",
              " 'bemitered',\n",
              " 'bemitred',\n",
              " 'bemused',\n",
              " 'bemuslined',\n",
              " 'bended',\n",
              " 'beneaped',\n",
              " 'beneficed',\n",
              " 'beneighbored',\n",
              " 'benempted',\n",
              " 'benighted',\n",
              " 'bennetweed',\n",
              " 'benumbed',\n",
              " 'benweed',\n",
              " 'benzoated',\n",
              " 'benzoinated',\n",
              " 'bepastured',\n",
              " 'bepatched',\n",
              " 'beperiwigged',\n",
              " 'bepewed',\n",
              " 'bepillared',\n",
              " 'bepistoled',\n",
              " 'beplaided',\n",
              " 'beplumed',\n",
              " 'beribanded',\n",
              " 'beribboned',\n",
              " 'beringed',\n",
              " 'beringleted',\n",
              " 'berobed',\n",
              " 'berouged',\n",
              " 'berried',\n",
              " 'berthed',\n",
              " 'beruffed',\n",
              " 'beruffled',\n",
              " 'beshawled',\n",
              " 'besieged',\n",
              " 'beslushed',\n",
              " 'besotted',\n",
              " 'bespecked',\n",
              " 'bespectacled',\n",
              " 'besped',\n",
              " 'bespeed',\n",
              " 'bespelled',\n",
              " 'bespurred',\n",
              " 'bestatued',\n",
              " 'bestayed',\n",
              " 'bestrapped',\n",
              " 'bestubbled',\n",
              " 'besweatered',\n",
              " 'betattered',\n",
              " 'betaxed',\n",
              " 'betowered',\n",
              " 'betrothed',\n",
              " 'betrousered',\n",
              " 'betted',\n",
              " 'betuckered',\n",
              " 'beturbaned',\n",
              " 'betusked',\n",
              " 'betutored',\n",
              " 'betwattled',\n",
              " 'beuniformed',\n",
              " 'beveled',\n",
              " 'bevelled',\n",
              " 'bevesseled',\n",
              " 'bevesselled',\n",
              " 'bevined',\n",
              " 'bevoiled',\n",
              " 'bewaitered',\n",
              " 'bewhiskered',\n",
              " 'bewigged',\n",
              " 'bewildered',\n",
              " 'bewinged',\n",
              " 'bewired',\n",
              " 'bewrathed',\n",
              " 'biangulated',\n",
              " 'biarcuated',\n",
              " 'biarticulated',\n",
              " 'bicarbureted',\n",
              " 'biciliated',\n",
              " 'bicolored',\n",
              " 'bicorned',\n",
              " 'bidented',\n",
              " 'bifanged',\n",
              " 'bifidated',\n",
              " 'biflected',\n",
              " 'biforked',\n",
              " 'biformed',\n",
              " 'bifronted',\n",
              " 'bifurcated',\n",
              " 'bigeminated',\n",
              " 'bighearted',\n",
              " 'bigmouthed',\n",
              " 'bigoted',\n",
              " 'bigwigged',\n",
              " 'bilamellated',\n",
              " 'bilaminated',\n",
              " 'billed',\n",
              " 'bilobated',\n",
              " 'bilobed',\n",
              " 'bilsted',\n",
              " 'bimaculated',\n",
              " 'bimotored',\n",
              " 'bindweed',\n",
              " 'bineweed',\n",
              " 'binominated',\n",
              " 'binucleated',\n",
              " 'biparted',\n",
              " 'bipectinated',\n",
              " 'biped',\n",
              " 'bipennated',\n",
              " 'bipinnated',\n",
              " 'bipinnatiparted',\n",
              " 'bipinnatisected',\n",
              " 'biradiated',\n",
              " 'birdmouthed',\n",
              " 'birdseed',\n",
              " 'birdweed',\n",
              " 'birostrated',\n",
              " 'birthbed',\n",
              " 'bisexed',\n",
              " 'bishopweed',\n",
              " 'bistered',\n",
              " 'bistipuled',\n",
              " 'bisubstituted',\n",
              " 'bitted',\n",
              " 'bitterhearted',\n",
              " 'bitterweed',\n",
              " 'bituberculated',\n",
              " 'bitumed',\n",
              " 'bivalved',\n",
              " 'bivaulted',\n",
              " 'bivocalized',\n",
              " 'blackhearted',\n",
              " 'blackseed',\n",
              " 'blackshirted',\n",
              " 'bladderseed',\n",
              " 'bladderweed',\n",
              " 'bladed',\n",
              " 'blakeberyed',\n",
              " 'blamed',\n",
              " 'blanked',\n",
              " 'blanketed',\n",
              " 'blanketweed',\n",
              " 'blasted',\n",
              " 'bleached',\n",
              " 'bleared',\n",
              " 'bleed',\n",
              " 'blended',\n",
              " 'blessed',\n",
              " 'blighted',\n",
              " 'blinded',\n",
              " 'blindfolded',\n",
              " 'blindweed',\n",
              " 'blinked',\n",
              " 'blinkered',\n",
              " 'blistered',\n",
              " 'blisterweed',\n",
              " 'blithehearted',\n",
              " 'bloated',\n",
              " 'blobbed',\n",
              " 'blocked',\n",
              " 'blockheaded',\n",
              " 'blooded',\n",
              " 'bloodied',\n",
              " 'bloodshed',\n",
              " 'bloodstained',\n",
              " 'bloodweed',\n",
              " 'blossomed',\n",
              " 'blotched',\n",
              " 'bloused',\n",
              " 'blowzed',\n",
              " 'bludgeoned',\n",
              " 'bluebelled',\n",
              " 'bluehearted',\n",
              " 'blueweed',\n",
              " 'blunderheaded',\n",
              " 'blunthearted',\n",
              " 'blurred',\n",
              " 'bobbed',\n",
              " 'bobsled',\n",
              " 'bobtailed',\n",
              " 'bodiced',\n",
              " 'bodied',\n",
              " 'boiled',\n",
              " 'boldhearted',\n",
              " 'bolectioned',\n",
              " 'boled',\n",
              " 'boleweed',\n",
              " 'bolled',\n",
              " 'bombed',\n",
              " 'bonded',\n",
              " 'boned',\n",
              " 'boneheaded',\n",
              " 'bonneted',\n",
              " 'booked',\n",
              " 'booted',\n",
              " 'bootied',\n",
              " 'boozed',\n",
              " 'bordered',\n",
              " 'bordured',\n",
              " 'bosomed',\n",
              " 'bossed',\n",
              " 'bosselated',\n",
              " 'botched',\n",
              " 'botherheaded',\n",
              " 'bothsided',\n",
              " 'bottled',\n",
              " 'bottomed',\n",
              " 'boughed',\n",
              " 'bounded',\n",
              " 'bountied',\n",
              " 'bowed',\n",
              " 'boweled',\n",
              " 'bowlegged',\n",
              " 'bowstringed',\n",
              " 'braced',\n",
              " 'braceleted',\n",
              " 'brackened',\n",
              " 'bracted',\n",
              " 'braided',\n",
              " 'brambled',\n",
              " 'branched',\n",
              " 'branded',\n",
              " 'brandied',\n",
              " 'brangled',\n",
              " 'bravehearted',\n",
              " 'brawned',\n",
              " 'brazenfaced',\n",
              " 'breasted',\n",
              " 'breastweed',\n",
              " 'breathed',\n",
              " 'brecciated',\n",
              " 'bred',\n",
              " 'breeched',\n",
              " 'breed',\n",
              " 'breviped',\n",
              " 'bridebed',\n",
              " 'brideweed',\n",
              " 'bridged',\n",
              " 'bridled',\n",
              " 'briered',\n",
              " 'brimmed',\n",
              " 'bristled',\n",
              " 'broadhearted',\n",
              " 'brocaded',\n",
              " 'brocked',\n",
              " 'brokenhearted',\n",
              " 'bromoiodized',\n",
              " 'bronzed',\n",
              " 'brooked',\n",
              " 'brookweed',\n",
              " 'broomweed',\n",
              " 'broozled',\n",
              " 'browed',\n",
              " 'brownweed',\n",
              " 'bruckled',\n",
              " 'brushed',\n",
              " 'buboed',\n",
              " 'bucked',\n",
              " 'buckled',\n",
              " 'buckskinned',\n",
              " 'buffed',\n",
              " 'bugled',\n",
              " 'bugleweed',\n",
              " 'bugseed',\n",
              " 'bugweed',\n",
              " 'bulbed',\n",
              " 'bulked',\n",
              " 'bulkheaded',\n",
              " 'bullated',\n",
              " 'bulldogged',\n",
              " 'bulleted',\n",
              " 'bulletheaded',\n",
              " 'bullheaded',\n",
              " 'bullweed',\n",
              " 'bummed',\n",
              " 'bundlerooted',\n",
              " 'bundweed',\n",
              " 'bunted',\n",
              " 'buried',\n",
              " 'burled',\n",
              " 'burned',\n",
              " 'burnoosed',\n",
              " 'burntweed',\n",
              " 'burred',\n",
              " 'burroweed',\n",
              " 'burseed',\n",
              " 'burweed',\n",
              " 'bushed',\n",
              " 'busied',\n",
              " 'busked',\n",
              " 'buskined',\n",
              " 'busted',\n",
              " 'bustled',\n",
              " 'busybodied',\n",
              " 'buttered',\n",
              " 'butterfingered',\n",
              " 'butterweed',\n",
              " 'butteryfingered',\n",
              " 'buttocked',\n",
              " 'buttoned',\n",
              " 'buttonweed',\n",
              " 'cabled',\n",
              " 'caboshed',\n",
              " 'caddiced',\n",
              " 'caddised',\n",
              " 'cadenced',\n",
              " 'cadweed',\n",
              " 'caftaned',\n",
              " 'caged',\n",
              " 'cairned',\n",
              " 'caissoned',\n",
              " 'calced',\n",
              " 'calcified',\n",
              " 'calcined',\n",
              " 'calculated',\n",
              " 'calibered',\n",
              " 'calicoed',\n",
              " 'caligated',\n",
              " 'calpacked',\n",
              " 'calved',\n",
              " 'calycled',\n",
              " 'calyculated',\n",
              " 'camailed',\n",
              " 'camerated',\n",
              " 'cammed',\n",
              " 'campanulated',\n",
              " 'campshed',\n",
              " 'camused',\n",
              " 'canaliculated',\n",
              " 'cancellated',\n",
              " 'cancered',\n",
              " 'cancerweed',\n",
              " 'candied',\n",
              " 'candlelighted',\n",
              " 'candlesticked',\n",
              " 'candyweed',\n",
              " 'canioned',\n",
              " 'cankered',\n",
              " 'cankerweed',\n",
              " 'canned',\n",
              " 'cannelated',\n",
              " 'cannelured',\n",
              " 'cannoned',\n",
              " 'cannulated',\n",
              " 'canted',\n",
              " 'cantilevered',\n",
              " 'cantoned',\n",
              " 'cantred',\n",
              " 'caped',\n",
              " 'capernoited',\n",
              " 'capeweed',\n",
              " 'capitaled',\n",
              " 'capitated',\n",
              " 'capped',\n",
              " 'capriped',\n",
              " 'capsulated',\n",
              " 'capuched',\n",
              " 'carapaced',\n",
              " 'carbolated',\n",
              " 'carboyed',\n",
              " 'carbuncled',\n",
              " 'carcaneted',\n",
              " 'carded',\n",
              " 'carinated',\n",
              " 'carkled',\n",
              " 'carnaged',\n",
              " 'carnationed',\n",
              " 'carpetweed',\n",
              " 'carried',\n",
              " 'carrotweed',\n",
              " 'carucated',\n",
              " 'carunculated',\n",
              " 'cased',\n",
              " 'casemated',\n",
              " 'casemented',\n",
              " 'caseweed',\n",
              " 'casqued',\n",
              " 'castellated',\n",
              " 'castled',\n",
              " 'castorized',\n",
              " 'catamited',\n",
              " 'cataracted',\n",
              " 'catarrhed',\n",
              " 'catchweed',\n",
              " 'catenated',\n",
              " 'caterpillared',\n",
              " 'catfaced',\n",
              " 'catfooted',\n",
              " 'cathedraled',\n",
              " 'caudated',\n",
              " 'caverned',\n",
              " 'cavitied',\n",
              " 'cayenned',\n",
              " 'cedared',\n",
              " 'ceilinged',\n",
              " 'celebrated',\n",
              " 'cellated',\n",
              " 'celled',\n",
              " 'cellulated',\n",
              " 'celluloided',\n",
              " 'centered',\n",
              " 'centriffed',\n",
              " 'centuried',\n",
              " 'cerated',\n",
              " 'cered',\n",
              " 'certified',\n",
              " 'chafeweed',\n",
              " 'chaffseed',\n",
              " 'chaffweed',\n",
              " 'chafted',\n",
              " 'chained',\n",
              " 'chaliced',\n",
              " 'chambered',\n",
              " 'chamberleted',\n",
              " 'chamberletted',\n",
              " 'chanceled',\n",
              " 'channeled',\n",
              " 'channelled',\n",
              " 'chaped',\n",
              " 'chapleted',\n",
              " 'chapournetted',\n",
              " 'chapped',\n",
              " 'charioted',\n",
              " 'charqued',\n",
              " 'chartered',\n",
              " 'chasmed',\n",
              " 'chasteweed',\n",
              " 'chasubled',\n",
              " 'checked',\n",
              " 'checkered',\n",
              " 'checkrowed',\n",
              " 'cheered',\n",
              " 'cheliped',\n",
              " 'cherried',\n",
              " 'chickenbreasted',\n",
              " 'chickenhearted',\n",
              " 'chickenweed',\n",
              " 'chickweed',\n",
              " 'chicqued',\n",
              " 'chiggerweed',\n",
              " 'chignoned',\n",
              " 'childbed',\n",
              " 'childed',\n",
              " 'chilled',\n",
              " 'chined',\n",
              " 'chinned',\n",
              " 'chipped',\n",
              " 'chiseled',\n",
              " 'chitinized',\n",
              " 'chokered',\n",
              " 'chokeweed',\n",
              " 'cholterheaded',\n",
              " 'chopped',\n",
              " 'choppered',\n",
              " 'chorded',\n",
              " 'chowderheaded',\n",
              " 'christened',\n",
              " 'chubbed',\n",
              " 'chuckleheaded',\n",
              " 'churchified',\n",
              " 'churled',\n",
              " 'ciliated',\n",
              " 'cingulated',\n",
              " 'cinnamoned',\n",
              " 'cinquefoiled',\n",
              " 'circled',\n",
              " 'circumscribed',\n",
              " 'circumstanced',\n",
              " 'cirrated',\n",
              " 'cirrhosed',\n",
              " 'cirriped',\n",
              " 'cisted',\n",
              " 'citied',\n",
              " 'citified',\n",
              " 'citrated',\n",
              " 'civilized',\n",
              " 'clammed',\n",
              " 'clammyweed',\n",
              " 'clanned',\n",
              " 'clapped',\n",
              " 'classed',\n",
              " 'classified',\n",
              " 'clavated',\n",
              " 'clavellated',\n",
              " 'clawed',\n",
              " 'claybrained',\n",
              " 'clayweed',\n",
              " 'cleaded',\n",
              " 'cleanhanded',\n",
              " 'cleanhearted',\n",
              " 'clearheaded',\n",
              " 'clearhearted',\n",
              " 'clearweed',\n",
              " 'cled',\n",
              " 'cleeked',\n",
              " 'clefted',\n",
              " 'clerestoried',\n",
              " 'cliented',\n",
              " 'cliffed',\n",
              " 'cliffweed',\n",
              " 'clipped',\n",
              " 'cloaked',\n",
              " 'clocked',\n",
              " 'clodpated',\n",
              " 'cloistered',\n",
              " 'closed',\n",
              " 'closefisted',\n",
              " 'closehanded',\n",
              " 'closehearted',\n",
              " 'closemouthed',\n",
              " 'clotweed',\n",
              " 'clouded',\n",
              " 'clouted',\n",
              " 'clovered',\n",
              " 'clubbed',\n",
              " 'clubfisted',\n",
              " 'clubfooted',\n",
              " 'clubweed',\n",
              " 'clustered',\n",
              " 'coaged',\n",
              " 'coaggregated',\n",
              " 'coated',\n",
              " 'coattailed',\n",
              " 'cobbed',\n",
              " 'cocashweed',\n",
              " 'cochleated',\n",
              " 'cockaded',\n",
              " 'cocked',\n",
              " 'cockeyed',\n",
              " 'cockled',\n",
              " 'cockneybred',\n",
              " 'cockscombed',\n",
              " 'cockweed',\n",
              " 'codheaded',\n",
              " 'coed',\n",
              " 'coelongated',\n",
              " 'coembedded',\n",
              " 'coequated',\n",
              " 'coexpanded',\n",
              " 'coffeeweed',\n",
              " 'cogged',\n",
              " 'coifed',\n",
              " 'coiled',\n",
              " 'coldhearted',\n",
              " 'coleseed',\n",
              " 'colicweed',\n",
              " 'collared',\n",
              " 'collected',\n",
              " 'collied',\n",
              " 'colloped',\n",
              " 'colonnaded',\n",
              " 'colored',\n",
              " 'columnated',\n",
              " 'columned',\n",
              " 'combed',\n",
              " 'combined',\n",
              " 'compacted',\n",
              " 'complected',\n",
              " 'complexioned',\n",
              " 'complicated',\n",
              " 'componed',\n",
              " 'componented',\n",
              " 'composed',\n",
              " 'compressed',\n",
              " 'comprised',\n",
              " 'compulsed',\n",
              " 'conamed',\n",
              " 'concamerated',\n",
              " 'concealed',\n",
              " 'conceded',\n",
              " 'conceited',\n",
              " 'concentrated',\n",
              " 'concerned',\n",
              " 'concerted',\n",
              " 'conched',\n",
              " 'conchyliated',\n",
              " 'condemned',\n",
              " 'condensed',\n",
              " 'conditioned',\n",
              " 'conduplicated',\n",
              " 'coned',\n",
              " 'confated',\n",
              " 'conferted',\n",
              " 'confined',\n",
              " 'confirmed',\n",
              " 'conflated',\n",
              " 'confounded',\n",
              " 'confused',\n",
              " 'congested',\n",
              " 'conjoined',\n",
              " 'conjugated',\n",
              " 'connected',\n",
              " 'conred',\n",
              " 'consecrated',\n",
              " 'considered',\n",
              " 'consolidated',\n",
              " 'constrained',\n",
              " 'constricted',\n",
              " 'consumpted',\n",
              " 'contagioned',\n",
              " 'contented',\n",
              " 'contextured',\n",
              " 'continued',\n",
              " 'contorted',\n",
              " 'contortioned',\n",
              " 'contracted',\n",
              " 'contractured',\n",
              " 'contusioned',\n",
              " 'converted',\n",
              " 'convexed',\n",
              " 'convinced',\n",
              " 'convoluted',\n",
              " 'coolheaded',\n",
              " 'coolweed',\n",
              " 'copied',\n",
              " 'copleased',\n",
              " 'copped',\n",
              " 'coppernosed',\n",
              " 'copperytailed',\n",
              " 'coppiced',\n",
              " 'coppled',\n",
              " 'copsewooded',\n",
              " 'copygraphed',\n",
              " 'coraled',\n",
              " 'corded',\n",
              " 'corduroyed',\n",
              " 'cored',\n",
              " 'coreflexed',\n",
              " 'corked',\n",
              " 'cornered',\n",
              " 'cornified',\n",
              " 'cornuated',\n",
              " 'cornuted',\n",
              " 'corollated',\n",
              " 'coronaled',\n",
              " 'coronated',\n",
              " 'coroneted',\n",
              " 'coronetted',\n",
              " 'corpusculated',\n",
              " 'corrected',\n",
              " 'correlated',\n",
              " 'corridored',\n",
              " ...]"
            ]
          },
          "metadata": {},
          "execution_count": 49
        }
      ]
    },
    {
      "cell_type": "markdown",
      "source": [
        "> **^** : matches the start of a string"
      ],
      "metadata": {
        "id": "vEGSBSX1YVxo"
      }
    },
    {
      "cell_type": "code",
      "source": [
        "# ^: match the start of a string\n",
        "[w for w in wordlist if re.search('^j..ed$', w)]"
      ],
      "metadata": {
        "colab": {
          "base_uri": "https://localhost:8080/"
        },
        "id": "bIDX3UA3X2Lt",
        "outputId": "c21af9f1-1214-439c-b6bd-7ae20d51830b"
      },
      "execution_count": null,
      "outputs": [
        {
          "output_type": "execute_result",
          "data": {
            "text/plain": [
              "['jaded', 'jawed']"
            ]
          },
          "metadata": {},
          "execution_count": 50
        }
      ]
    },
    {
      "cell_type": "markdown",
      "source": [
        "**Basic Regular Expression**\n",
        "---\n",
        "* **\"\\b\"** (chuỗi thường) → Python hiểu là backspace.\n",
        "\n",
        "* **r\"\\b\"** (raw string) → Python giữ nguyên \\b để regex hiểu là word boundary.\n",
        "\n",
        "![Screenshot 2025-09-05 171913.png](data:image/png;base64,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)"
      ],
      "metadata": {
        "id": "DvWy0Vu6Yzep"
      }
    },
    {
      "cell_type": "markdown",
      "source": [
        "## **Extracting Word Pieces**\n",
        "---\n",
        "\n",
        "\n",
        "```\n",
        "re.findall()\n",
        "```\n",
        "Method *find-all* (non-overlapping) matches of the given regular expressions\n"
      ],
      "metadata": {
        "id": "TpPczcD7ZufE"
      }
    },
    {
      "cell_type": "code",
      "source": [
        "word = 'nguyenvanphiyenmentee22fromsudocode2025hehehe'"
      ],
      "metadata": {
        "id": "meeo8S9_YCy7"
      },
      "execution_count": null,
      "outputs": []
    },
    {
      "cell_type": "code",
      "source": [
        "re.findall(r'[ueoai]', word)"
      ],
      "metadata": {
        "colab": {
          "base_uri": "https://localhost:8080/"
        },
        "id": "EntZO5TPaetL",
        "outputId": "cf8bac7f-455a-4840-be55-bdca341a0cfc"
      },
      "execution_count": null,
      "outputs": [
        {
          "output_type": "execute_result",
          "data": {
            "text/plain": [
              "['u',\n",
              " 'e',\n",
              " 'a',\n",
              " 'i',\n",
              " 'e',\n",
              " 'e',\n",
              " 'e',\n",
              " 'e',\n",
              " 'o',\n",
              " 'u',\n",
              " 'o',\n",
              " 'o',\n",
              " 'e',\n",
              " 'e',\n",
              " 'e',\n",
              " 'e']"
            ]
          },
          "metadata": {},
          "execution_count": 52
        }
      ]
    },
    {
      "cell_type": "code",
      "source": [
        "# number of 'r' in the string\n",
        "re.findall(r'r', word)\n",
        "len(re.findall(r'r', word))"
      ],
      "metadata": {
        "colab": {
          "base_uri": "https://localhost:8080/"
        },
        "id": "UjMRsSM6cDo2",
        "outputId": "fe82d64f-db06-4f5b-8494-eab2e76c3368"
      },
      "execution_count": null,
      "outputs": [
        {
          "output_type": "execute_result",
          "data": {
            "text/plain": [
              "1"
            ]
          },
          "metadata": {},
          "execution_count": 53
        }
      ]
    },
    {
      "cell_type": "markdown",
      "source": [
        "## **Searching Tokenized Text**\n",
        "---\n",
        "NLTK extends regular expressions with the **<...>** syntax to match tokens instead of characters, making it easier to search for patterns in tokenized text (such as phrases or word sequences).\n",
        "\n",
        "\n",
        "```\n",
        "<.*> biểu diễn một token cụ thể (ví dụ <a> khớp token \"a\")\n",
        "```\n",
        "```\n",
        "<.*> khớp bất kỳ một token nào (dấu . trong regex là ký tự bất kỳ, * = nhiều, nhưng ở đây NLTK quy ước để đại diện cho “một token bất kỳ”).\n",
        "```\n",
        "\n",
        "\n",
        "```\n",
        "Dấu cách giữa <...> sẽ bị bỏ qua\n",
        "```\n",
        "\n",
        "\n",
        "\n",
        "\n"
      ],
      "metadata": {
        "id": "4fAqtuGfcvJX"
      }
    },
    {
      "cell_type": "code",
      "source": [
        "nltk.download('gutenberg')"
      ],
      "metadata": {
        "colab": {
          "base_uri": "https://localhost:8080/"
        },
        "id": "_ID3zPsKen8w",
        "outputId": "04250fc8-015a-4063-84f7-97419343dcd0"
      },
      "execution_count": null,
      "outputs": [
        {
          "output_type": "stream",
          "name": "stderr",
          "text": [
            "[nltk_data] Downloading package gutenberg to /root/nltk_data...\n",
            "[nltk_data]   Unzipping corpora/gutenberg.zip.\n"
          ]
        },
        {
          "output_type": "execute_result",
          "data": {
            "text/plain": [
              "True"
            ]
          },
          "metadata": {},
          "execution_count": 54
        }
      ]
    },
    {
      "cell_type": "code",
      "source": [
        "from nltk.corpus import gutenberg, nps_chat"
      ],
      "metadata": {
        "id": "0v1qBvkRc1Yi"
      },
      "execution_count": null,
      "outputs": []
    },
    {
      "cell_type": "code",
      "source": [
        "moby = nltk.Text(gutenberg.words('melville-moby_dick.txt'))"
      ],
      "metadata": {
        "id": "3metaopIeidY"
      },
      "execution_count": null,
      "outputs": []
    },
    {
      "cell_type": "code",
      "source": [
        "moby.findall(r\"<a> (<.*>) <man>\")"
      ],
      "metadata": {
        "colab": {
          "base_uri": "https://localhost:8080/"
        },
        "id": "A2ThqMOhern-",
        "outputId": "2946e797-14dc-449b-b0b0-ddcb3b3f1ffa"
      },
      "execution_count": null,
      "outputs": [
        {
          "output_type": "stream",
          "name": "stdout",
          "text": [
            "monied; nervous; dangerous; white; white; white; pious; queer; good;\n",
            "mature; white; Cape; great; wise; wise; butterless; white; fiendish;\n",
            "pale; furious; better; certain; complete; dismasted; younger; brave;\n",
            "brave; brave; brave\n"
          ]
        }
      ]
    },
    {
      "cell_type": "markdown",
      "source": [
        "# **5. NORMALIZING TEXT**\n",
        "---\n",
        "*   Stemmers\n",
        "*   Lemmatization\n",
        "\n"
      ],
      "metadata": {
        "id": "RWlaBBqzcigO"
      }
    },
    {
      "cell_type": "code",
      "source": [
        "raw = \"\"\"DENNIS: Listen, strange women lying in ponds distributing swords\n",
        "... is no basis for a system of government.  Supreme executive power derives from\n",
        "... a mandate from the masses, not from some farcical aquatic ceremony.\"\"\""
      ],
      "metadata": {
        "id": "e931iP4vfcf9"
      },
      "execution_count": null,
      "outputs": []
    },
    {
      "cell_type": "code",
      "source": [
        "tokens = word_tokenize(raw)"
      ],
      "metadata": {
        "id": "OtF8Q7V3fk-b"
      },
      "execution_count": null,
      "outputs": []
    },
    {
      "cell_type": "code",
      "source": [
        "tokens"
      ],
      "metadata": {
        "colab": {
          "base_uri": "https://localhost:8080/"
        },
        "collapsed": true,
        "id": "xlIRtA-kfoFg",
        "outputId": "0fff7e26-3414-417a-bd44-efe846a29544"
      },
      "execution_count": null,
      "outputs": [
        {
          "output_type": "execute_result",
          "data": {
            "text/plain": [
              "['DENNIS',\n",
              " ':',\n",
              " 'Listen',\n",
              " ',',\n",
              " 'strange',\n",
              " 'women',\n",
              " 'lying',\n",
              " 'in',\n",
              " 'ponds',\n",
              " 'distributing',\n",
              " 'swords',\n",
              " 'is',\n",
              " 'no',\n",
              " 'basis',\n",
              " 'for',\n",
              " 'a',\n",
              " 'system',\n",
              " 'of',\n",
              " 'government',\n",
              " '.',\n",
              " 'Supreme',\n",
              " 'executive',\n",
              " 'power',\n",
              " 'derives',\n",
              " 'from',\n",
              " 'a',\n",
              " 'mandate',\n",
              " 'from',\n",
              " 'the',\n",
              " 'masses',\n",
              " ',',\n",
              " 'not',\n",
              " 'from',\n",
              " 'some',\n",
              " 'farcical',\n",
              " 'aquatic',\n",
              " 'ceremony',\n",
              " '.']"
            ]
          },
          "metadata": {},
          "execution_count": 60
        }
      ]
    },
    {
      "cell_type": "markdown",
      "source": [
        "## **STEMMERS**\n",
        "---\n",
        "> **Stemming** = the process of reducing a word to its base/root form (called a stem)\n",
        "\n",
        "For example:\n",
        "*   lying → lie (Porter Stemmer)\n",
        "*   lying → lying (Lancaster Stemmer, less accurate in this case)\n",
        "\n",
        "\n"
      ],
      "metadata": {
        "id": "y4lNQbGhdPzW"
      }
    },
    {
      "cell_type": "code",
      "source": [
        "porter = nltk.PorterStemmer()   # Porter Stemmer\n",
        "[porter.stem(t) for t in tokens]"
      ],
      "metadata": {
        "colab": {
          "base_uri": "https://localhost:8080/"
        },
        "id": "sjcdI8-DfpY8",
        "outputId": "baf2d46b-6b13-4b51-cd1c-01d984026bbb"
      },
      "execution_count": null,
      "outputs": [
        {
          "output_type": "execute_result",
          "data": {
            "text/plain": [
              "['denni',\n",
              " ':',\n",
              " 'listen',\n",
              " ',',\n",
              " 'strang',\n",
              " 'women',\n",
              " 'lie',\n",
              " 'in',\n",
              " 'pond',\n",
              " 'distribut',\n",
              " 'sword',\n",
              " 'is',\n",
              " 'no',\n",
              " 'basi',\n",
              " 'for',\n",
              " 'a',\n",
              " 'system',\n",
              " 'of',\n",
              " 'govern',\n",
              " '.',\n",
              " 'suprem',\n",
              " 'execut',\n",
              " 'power',\n",
              " 'deriv',\n",
              " 'from',\n",
              " 'a',\n",
              " 'mandat',\n",
              " 'from',\n",
              " 'the',\n",
              " 'mass',\n",
              " ',',\n",
              " 'not',\n",
              " 'from',\n",
              " 'some',\n",
              " 'farcic',\n",
              " 'aquat',\n",
              " 'ceremoni',\n",
              " '.']"
            ]
          },
          "metadata": {},
          "execution_count": 63
        }
      ]
    },
    {
      "cell_type": "code",
      "source": [
        "lancaster = nltk.LancasterStemmer()   # Lancaster\n",
        "[lancaster.stem(t) for t in tokens]"
      ],
      "metadata": {
        "colab": {
          "base_uri": "https://localhost:8080/"
        },
        "id": "t1G9mqJifzZf",
        "outputId": "a70281b4-5039-4b8e-ed49-ab854335df56"
      },
      "execution_count": null,
      "outputs": [
        {
          "output_type": "execute_result",
          "data": {
            "text/plain": [
              "['den',\n",
              " ':',\n",
              " 'list',\n",
              " ',',\n",
              " 'strange',\n",
              " 'wom',\n",
              " 'lying',\n",
              " 'in',\n",
              " 'pond',\n",
              " 'distribut',\n",
              " 'sword',\n",
              " 'is',\n",
              " 'no',\n",
              " 'bas',\n",
              " 'for',\n",
              " 'a',\n",
              " 'system',\n",
              " 'of',\n",
              " 'govern',\n",
              " '.',\n",
              " 'suprem',\n",
              " 'execut',\n",
              " 'pow',\n",
              " 'der',\n",
              " 'from',\n",
              " 'a',\n",
              " 'mand',\n",
              " 'from',\n",
              " 'the',\n",
              " 'mass',\n",
              " ',',\n",
              " 'not',\n",
              " 'from',\n",
              " 'som',\n",
              " 'farc',\n",
              " 'aqu',\n",
              " 'ceremony',\n",
              " '.']"
            ]
          },
          "metadata": {},
          "execution_count": 65
        }
      ]
    },
    {
      "cell_type": "markdown",
      "source": [
        "> Stemming is not a well-defined process ▶ Pick the stemmer that **best suits the application we have in mind**\n",
        "\n",
        "▶ **Porter** - Best choice for indexing some texts and want to support search using alternative forms of words"
      ],
      "metadata": {
        "id": "6eZG90rpgxw1"
      }
    },
    {
      "cell_type": "code",
      "source": [
        "\n",
        "class IndexedText(object):\n",
        "\n",
        "    def __init__(self, stemmer, text):\n",
        "        self._text = text\n",
        "        self._stemmer = stemmer\n",
        "        self._index = nltk.Index((self._stem(word), i)\n",
        "                                 for (i, word) in enumerate(text))\n",
        "\n",
        "    def concordance(self, word, width=40):\n",
        "        key = self._stem(word)\n",
        "        wc = int(width/4)                # words of context\n",
        "        for i in self._index[key]:\n",
        "            lcontext = ' '.join(self._text[i-wc:i])\n",
        "            rcontext = ' '.join(self._text[i:i+wc])\n",
        "            ldisplay = '{:>{width}}'.format(lcontext[-width:], width=width)\n",
        "            rdisplay = '{:{width}}'.format(rcontext[:width], width=width)\n",
        "            print(ldisplay, rdisplay)\n",
        "\n",
        "    def _stem(self, word):\n",
        "        return self._stemmer.stem(word).lower()"
      ],
      "metadata": {
        "id": "8Nl7Qbk5gLJM"
      },
      "execution_count": null,
      "outputs": []
    },
    {
      "cell_type": "code",
      "source": [
        "nltk.download('webtext')"
      ],
      "metadata": {
        "colab": {
          "base_uri": "https://localhost:8080/"
        },
        "id": "4x8UeiufjbE3",
        "outputId": "367f438d-f2e0-4529-c97a-58bf6060eeda"
      },
      "execution_count": null,
      "outputs": [
        {
          "output_type": "stream",
          "name": "stderr",
          "text": [
            "[nltk_data] Downloading package webtext to /root/nltk_data...\n",
            "[nltk_data]   Unzipping corpora/webtext.zip.\n"
          ]
        },
        {
          "output_type": "execute_result",
          "data": {
            "text/plain": [
              "True"
            ]
          },
          "metadata": {},
          "execution_count": 68
        }
      ]
    },
    {
      "cell_type": "code",
      "source": [
        "porter = nltk.PorterStemmer()\n",
        "grail = nltk.corpus.webtext.words('grail.txt')\n",
        "\n",
        "text = IndexedText(porter, grail)\n",
        "text.concordance('lie')"
      ],
      "metadata": {
        "colab": {
          "base_uri": "https://localhost:8080/"
        },
        "id": "P4fE_1CtjKbp",
        "outputId": "ee61a4e4-0887-432a-d040-059c62558882"
      },
      "execution_count": null,
      "outputs": [
        {
          "output_type": "stream",
          "name": "stdout",
          "text": [
            "r king ! DENNIS : Listen , strange women lying in ponds distributing swords is no\n",
            " beat a very brave retreat . ROBIN : All lies ! MINSTREL : [ singing ] Bravest of\n",
            "       Nay . Nay . Come . Come . You may lie here . Oh , but you are wounded !   \n",
            "doctors immediately ! No , no , please ! Lie down . [ clap clap ] PIGLET : Well  \n",
            "ere is much danger , for beyond the cave lies the Gorge of Eternal Peril , which \n",
            "   you . Oh ... TIM : To the north there lies a cave -- the cave of Caerbannog --\n",
            "h it and lived ! Bones of full fifty men lie strewn about its lair . So , brave k\n",
            "not stop our fight ' til each one of you lies dead , and the Holy Grail returns t\n"
          ]
        }
      ]
    },
    {
      "cell_type": "markdown",
      "source": [
        "## **LEMMATIZATION**\n",
        "---\n",
        "* A stemmer just chops off prefixes/suffixes according to rules.\n",
        "* A lemmatizer (like WordNetLemmatizer) checks against a dictionary (WordNet) to ensure the result is a valid word.\n",
        "* Because of this extra lookup, lemmatization is slower than stemming but more accurate linguistically.\n"
      ],
      "metadata": {
        "id": "pp7yRs5Sjxzj"
      }
    },
    {
      "cell_type": "code",
      "source": [
        "nltk.download('wordnet')"
      ],
      "metadata": {
        "colab": {
          "base_uri": "https://localhost:8080/"
        },
        "id": "okFBwNmhmAzA",
        "outputId": "40d4328c-86bc-4560-8b27-4766b202569e"
      },
      "execution_count": null,
      "outputs": [
        {
          "output_type": "stream",
          "name": "stderr",
          "text": [
            "[nltk_data] Downloading package wordnet to /root/nltk_data...\n"
          ]
        },
        {
          "output_type": "execute_result",
          "data": {
            "text/plain": [
              "True"
            ]
          },
          "metadata": {},
          "execution_count": 74
        }
      ]
    },
    {
      "cell_type": "code",
      "source": [
        "wnl = nltk.WordNetLemmatizer()\n",
        "[wnl.lemmatize(t) for t in tokens]"
      ],
      "metadata": {
        "colab": {
          "base_uri": "https://localhost:8080/"
        },
        "id": "fR1tdw6Ml0Yu",
        "outputId": "7999936d-1b54-4bf1-a763-9fddfb9d365b"
      },
      "execution_count": null,
      "outputs": [
        {
          "output_type": "execute_result",
          "data": {
            "text/plain": [
              "['DENNIS',\n",
              " ':',\n",
              " 'Listen',\n",
              " ',',\n",
              " 'strange',\n",
              " 'woman',\n",
              " 'lying',\n",
              " 'in',\n",
              " 'pond',\n",
              " 'distributing',\n",
              " 'sword',\n",
              " 'is',\n",
              " 'no',\n",
              " 'basis',\n",
              " 'for',\n",
              " 'a',\n",
              " 'system',\n",
              " 'of',\n",
              " 'government',\n",
              " '.',\n",
              " 'Supreme',\n",
              " 'executive',\n",
              " 'power',\n",
              " 'derives',\n",
              " 'from',\n",
              " 'a',\n",
              " 'mandate',\n",
              " 'from',\n",
              " 'the',\n",
              " 'mass',\n",
              " ',',\n",
              " 'not',\n",
              " 'from',\n",
              " 'some',\n",
              " 'farcical',\n",
              " 'aquatic',\n",
              " 'ceremony',\n",
              " '.']"
            ]
          },
          "metadata": {},
          "execution_count": 75
        }
      ]
    },
    {
      "cell_type": "markdown",
      "source": [
        "## **REGEX FOR TOKENIZING TEXT**\n",
        "---\n",
        "> Tokenization is the process of splitting a string of text into tokens (the smallest identifiable linguistic units), usually words, punctuation marks, or symbols.\n",
        "\n",
        "*For example:* \"Hello, world!\" → [\"Hello\", \",\", \"world\", \"!\"]"
      ],
      "metadata": {
        "id": "NGnzFOm8mtUr"
      }
    },
    {
      "cell_type": "code",
      "source": [
        "raw = \"\"\"'When I'M a Duchess,' she said to herself, (not in a very hopeful tone\n",
        "... though), 'I won't have any pepper in my kitchen AT ALL. Soup does very\n",
        "... well without--Maybe it's always pepper that makes people hot-tempered,'...\"\"\""
      ],
      "metadata": {
        "id": "etc-1H6Clzlh"
      },
      "execution_count": null,
      "outputs": []
    },
    {
      "cell_type": "markdown",
      "source": [
        "### **Splitting on whitespace**\n",
        "Basic way:\n",
        "```\n",
        "raw.split()\n",
        "```\n",
        "\n",
        "> But this fails when text contains newlines (\\n) or tabs (\\t)."
      ],
      "metadata": {
        "id": "MV9UIJS2o-eq"
      }
    },
    {
      "cell_type": "code",
      "source": [
        "re.split(r' ', raw)        # splits only on single spaces → leaves \\n inside tokens"
      ],
      "metadata": {
        "colab": {
          "base_uri": "https://localhost:8080/"
        },
        "collapsed": true,
        "id": "mlP2r-eEo30W",
        "outputId": "ec6a2755-3396-4386-a092-b75b2973f0b6"
      },
      "execution_count": null,
      "outputs": [
        {
          "output_type": "execute_result",
          "data": {
            "text/plain": [
              "[\"'When\",\n",
              " \"I'M\",\n",
              " 'a',\n",
              " \"Duchess,'\",\n",
              " 'she',\n",
              " 'said',\n",
              " 'to',\n",
              " 'herself,',\n",
              " '(not',\n",
              " 'in',\n",
              " 'a',\n",
              " 'very',\n",
              " 'hopeful',\n",
              " 'tone\\nthough),',\n",
              " \"'I\",\n",
              " \"won't\",\n",
              " 'have',\n",
              " 'any',\n",
              " 'pepper',\n",
              " 'in',\n",
              " 'my',\n",
              " 'kitchen',\n",
              " 'AT',\n",
              " 'ALL.',\n",
              " 'Soup',\n",
              " 'does',\n",
              " 'very\\nwell',\n",
              " 'without--Maybe',\n",
              " \"it's\",\n",
              " 'always',\n",
              " 'pepper',\n",
              " 'that',\n",
              " 'makes',\n",
              " 'people',\n",
              " \"hot-tempered,'...\"]"
            ]
          },
          "metadata": {},
          "execution_count": 78
        }
      ]
    },
    {
      "cell_type": "code",
      "source": [
        "re.split(r'[ \\t\\n]+', raw) # splits on any whitespace (spaces, tabs, newlines)"
      ],
      "metadata": {
        "colab": {
          "base_uri": "https://localhost:8080/"
        },
        "collapsed": true,
        "id": "XWf0dENQpTPe",
        "outputId": "e6818de1-61d8-4f49-ed7c-78ea4c187d23"
      },
      "execution_count": null,
      "outputs": [
        {
          "output_type": "execute_result",
          "data": {
            "text/plain": [
              "[\"'When\",\n",
              " \"I'M\",\n",
              " 'a',\n",
              " \"Duchess,'\",\n",
              " 'she',\n",
              " 'said',\n",
              " 'to',\n",
              " 'herself,',\n",
              " '(not',\n",
              " 'in',\n",
              " 'a',\n",
              " 'very',\n",
              " 'hopeful',\n",
              " 'tone',\n",
              " 'though),',\n",
              " \"'I\",\n",
              " \"won't\",\n",
              " 'have',\n",
              " 'any',\n",
              " 'pepper',\n",
              " 'in',\n",
              " 'my',\n",
              " 'kitchen',\n",
              " 'AT',\n",
              " 'ALL.',\n",
              " 'Soup',\n",
              " 'does',\n",
              " 'very',\n",
              " 'well',\n",
              " 'without--Maybe',\n",
              " \"it's\",\n",
              " 'always',\n",
              " 'pepper',\n",
              " 'that',\n",
              " 'makes',\n",
              " 'people',\n",
              " \"hot-tempered,'...\"]"
            ]
          },
          "metadata": {},
          "execution_count": 79
        }
      ]
    },
    {
      "cell_type": "code",
      "source": [
        "re.split(r'\\s+', raw)      # uses \\s to mean “any whitespace”"
      ],
      "metadata": {
        "colab": {
          "base_uri": "https://localhost:8080/"
        },
        "collapsed": true,
        "id": "-rMli3m6pWGJ",
        "outputId": "07d698c6-ceb7-4e4f-cb9f-5cbe2be51c1b"
      },
      "execution_count": null,
      "outputs": [
        {
          "output_type": "execute_result",
          "data": {
            "text/plain": [
              "[\"'When\",\n",
              " \"I'M\",\n",
              " 'a',\n",
              " \"Duchess,'\",\n",
              " 'she',\n",
              " 'said',\n",
              " 'to',\n",
              " 'herself,',\n",
              " '(not',\n",
              " 'in',\n",
              " 'a',\n",
              " 'very',\n",
              " 'hopeful',\n",
              " 'tone',\n",
              " 'though),',\n",
              " \"'I\",\n",
              " \"won't\",\n",
              " 'have',\n",
              " 'any',\n",
              " 'pepper',\n",
              " 'in',\n",
              " 'my',\n",
              " 'kitchen',\n",
              " 'AT',\n",
              " 'ALL.',\n",
              " 'Soup',\n",
              " 'does',\n",
              " 'very',\n",
              " 'well',\n",
              " 'without--Maybe',\n",
              " \"it's\",\n",
              " 'always',\n",
              " 'pepper',\n",
              " 'that',\n",
              " 'makes',\n",
              " 'people',\n",
              " \"hot-tempered,'...\"]"
            ]
          },
          "metadata": {},
          "execution_count": 80
        }
      ]
    },
    {
      "cell_type": "markdown",
      "source": [
        "### **Splitting on non-word characters**\n",
        "\n",
        "* Python regex has \\w = word characters ([a-zA-Z0-9_]), and \\W = everything else.\n",
        "\n",
        "\n",
        "```\n",
        "re.split(r'\\W+', raw) splits text on anything that is not a word.\n",
        "```\n",
        "\n",
        "> This removes punctuation but sometimes leaves empty strings (from boundaries).\n",
        "\n",
        "> A cleaner version is re.findall(r'\\w+', raw) which directly matches words instead of splitting."
      ],
      "metadata": {
        "id": "mlblfu7NpfWi"
      }
    },
    {
      "cell_type": "code",
      "source": [
        "re.split(r'\\W+', raw)"
      ],
      "metadata": {
        "colab": {
          "base_uri": "https://localhost:8080/"
        },
        "collapsed": true,
        "id": "U-0OOkkkpwAf",
        "outputId": "ab71ae6b-e7e0-4009-d0c0-42015f4fe736"
      },
      "execution_count": null,
      "outputs": [
        {
          "output_type": "execute_result",
          "data": {
            "text/plain": [
              "['',\n",
              " 'When',\n",
              " 'I',\n",
              " 'M',\n",
              " 'a',\n",
              " 'Duchess',\n",
              " 'she',\n",
              " 'said',\n",
              " 'to',\n",
              " 'herself',\n",
              " 'not',\n",
              " 'in',\n",
              " 'a',\n",
              " 'very',\n",
              " 'hopeful',\n",
              " 'tone',\n",
              " 'though',\n",
              " 'I',\n",
              " 'won',\n",
              " 't',\n",
              " 'have',\n",
              " 'any',\n",
              " 'pepper',\n",
              " 'in',\n",
              " 'my',\n",
              " 'kitchen',\n",
              " 'AT',\n",
              " 'ALL',\n",
              " 'Soup',\n",
              " 'does',\n",
              " 'very',\n",
              " 'well',\n",
              " 'without',\n",
              " 'Maybe',\n",
              " 'it',\n",
              " 's',\n",
              " 'always',\n",
              " 'pepper',\n",
              " 'that',\n",
              " 'makes',\n",
              " 'people',\n",
              " 'hot',\n",
              " 'tempered',\n",
              " '']"
            ]
          },
          "metadata": {},
          "execution_count": 81
        }
      ]
    },
    {
      "cell_type": "code",
      "source": [
        "re.findall(r'\\w+|\\S\\w*', raw)\n",
        "# \\w+ matches normal words.\n",
        "# \\S\\w* matches punctuation plus following word characters (like 's)"
      ],
      "metadata": {
        "colab": {
          "base_uri": "https://localhost:8080/"
        },
        "collapsed": true,
        "id": "I-aOQzqip0Ra",
        "outputId": "ed810487-eb54-4e15-9410-3481ba9256dd"
      },
      "execution_count": null,
      "outputs": [
        {
          "output_type": "execute_result",
          "data": {
            "text/plain": [
              "[\"'When\",\n",
              " 'I',\n",
              " \"'M\",\n",
              " 'a',\n",
              " 'Duchess',\n",
              " ',',\n",
              " \"'\",\n",
              " 'she',\n",
              " 'said',\n",
              " 'to',\n",
              " 'herself',\n",
              " ',',\n",
              " '(not',\n",
              " 'in',\n",
              " 'a',\n",
              " 'very',\n",
              " 'hopeful',\n",
              " 'tone',\n",
              " 'though',\n",
              " ')',\n",
              " ',',\n",
              " \"'I\",\n",
              " 'won',\n",
              " \"'t\",\n",
              " 'have',\n",
              " 'any',\n",
              " 'pepper',\n",
              " 'in',\n",
              " 'my',\n",
              " 'kitchen',\n",
              " 'AT',\n",
              " 'ALL',\n",
              " '.',\n",
              " 'Soup',\n",
              " 'does',\n",
              " 'very',\n",
              " 'well',\n",
              " 'without',\n",
              " '-',\n",
              " '-Maybe',\n",
              " 'it',\n",
              " \"'s\",\n",
              " 'always',\n",
              " 'pepper',\n",
              " 'that',\n",
              " 'makes',\n",
              " 'people',\n",
              " 'hot',\n",
              " '-tempered',\n",
              " ',',\n",
              " \"'\",\n",
              " '.',\n",
              " '.',\n",
              " '.']"
            ]
          },
          "metadata": {},
          "execution_count": 83
        }
      ]
    },
    {
      "cell_type": "code",
      "source": [
        "# \\w+(?:[-']\\w+)* handles internal hyphens/apostrophes (like hot-tempered or it's)\n",
        "# [-.(]+ ensures sequences like --, ..., and ( are separate tokens\n",
        "re.findall(r\"\\w+(?:[-']\\w+)*|'|[-.(]+|\\S\\w*\", raw)"
      ],
      "metadata": {
        "colab": {
          "base_uri": "https://localhost:8080/"
        },
        "collapsed": true,
        "id": "72GPi_6wqd6l",
        "outputId": "4f09299e-e80f-42fc-d268-29e8d86dfa1c"
      },
      "execution_count": null,
      "outputs": [
        {
          "output_type": "execute_result",
          "data": {
            "text/plain": [
              "[\"'\",\n",
              " 'When',\n",
              " \"I'M\",\n",
              " 'a',\n",
              " 'Duchess',\n",
              " ',',\n",
              " \"'\",\n",
              " 'she',\n",
              " 'said',\n",
              " 'to',\n",
              " 'herself',\n",
              " ',',\n",
              " '(',\n",
              " 'not',\n",
              " 'in',\n",
              " 'a',\n",
              " 'very',\n",
              " 'hopeful',\n",
              " 'tone',\n",
              " 'though',\n",
              " ')',\n",
              " ',',\n",
              " \"'\",\n",
              " 'I',\n",
              " \"won't\",\n",
              " 'have',\n",
              " 'any',\n",
              " 'pepper',\n",
              " 'in',\n",
              " 'my',\n",
              " 'kitchen',\n",
              " 'AT',\n",
              " 'ALL',\n",
              " '.',\n",
              " 'Soup',\n",
              " 'does',\n",
              " 'very',\n",
              " 'well',\n",
              " 'without',\n",
              " '--',\n",
              " 'Maybe',\n",
              " \"it's\",\n",
              " 'always',\n",
              " 'pepper',\n",
              " 'that',\n",
              " 'makes',\n",
              " 'people',\n",
              " 'hot-tempered',\n",
              " ',',\n",
              " \"'\",\n",
              " '...']"
            ]
          },
          "metadata": {},
          "execution_count": 84
        }
      ]
    },
    {
      "cell_type": "markdown",
      "source": [
        "# **Regular Expression Symbols**\n",
        "---\n",
        "![Screenshot 2025-09-05 231756.png](data:image/png;base64,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)"
      ],
      "metadata": {
        "id": "C5rp8lK0qu_6"
      }
    },
    {
      "cell_type": "markdown",
      "source": [
        "### **NLTK's Regular Expression Tokenizer**\n",
        "---\n",
        "```\n",
        "nltk.regexp_tokenize()\n",
        "```\n",
        "NLTK’s **regexp_tokenize()** makes regex-based tokenization easier and cleaner.\n",
        "\n"
      ],
      "metadata": {
        "id": "uGQ5IkqQrriQ"
      }
    },
    {
      "cell_type": "code",
      "source": [
        "text = 'That U.S.A. poster-print costs $12.40...'"
      ],
      "metadata": {
        "id": "RuGC8NaqrmTO"
      },
      "execution_count": null,
      "outputs": []
    },
    {
      "cell_type": "code",
      "source": [
        " pattern = r'''(?x)     # set flag to allow verbose regexps\n",
        "     (?:[A-Z]\\.)+       # abbreviations, e.g. U.S.A.\n",
        "   | \\w+(?:-\\w+)*       # words with optional internal hyphens\n",
        "   | \\$?\\d+(?:\\.\\d+)?%? # currency and percentages, e.g. $12.40, 82%\n",
        "   | \\.\\.\\.             # ellipsis\n",
        "   | [][.,;\"'?():-_`]   # these are separate tokens; includes ], [\n",
        "'''"
      ],
      "metadata": {
        "id": "0xRIGJogsH6N"
      },
      "execution_count": null,
      "outputs": []
    },
    {
      "cell_type": "code",
      "source": [
        "nltk.regexp_tokenize(text, pattern)"
      ],
      "metadata": {
        "colab": {
          "base_uri": "https://localhost:8080/"
        },
        "id": "musOhBL5shvw",
        "outputId": "e727c1a2-367a-4c53-8efb-f22fc1deb601"
      },
      "execution_count": null,
      "outputs": [
        {
          "output_type": "execute_result",
          "data": {
            "text/plain": [
              "['That', 'U.S.A.', 'poster-print', 'costs', '$12.40', '...']"
            ]
          },
          "metadata": {},
          "execution_count": 89
        }
      ]
    },
    {
      "cell_type": "markdown",
      "source": [
        "# **SEGMENTATION**\n",
        "---\n",
        "* Segmentation = bài toán chia văn bản liên tục thành các đơn vị ngôn ngữ (câu, từ)\n",
        "\n",
        "* Tokenization: a special case of segmentation"
      ],
      "metadata": {
        "id": "WIHUIY41tAz_"
      }
    },
    {
      "cell_type": "markdown",
      "source": [
        "## **Sentence Segmentation**\n",
        "---\n",
        "> Punkt Sentence Segmenter"
      ],
      "metadata": {
        "id": "S6zqgnobtOFY"
      }
    },
    {
      "cell_type": "code",
      "source": [
        "text = nltk.corpus.gutenberg.raw('chesterton-thursday.txt')"
      ],
      "metadata": {
        "id": "ed_3mCpxtIJi"
      },
      "execution_count": null,
      "outputs": []
    },
    {
      "cell_type": "code",
      "source": [
        "sents = nltk.sent_tokenize(text)\n",
        "pprint.pprint(sents[79:89])"
      ],
      "metadata": {
        "colab": {
          "base_uri": "https://localhost:8080/"
        },
        "id": "W34D11xBuEez",
        "outputId": "cb91c5f9-eb6d-4cbb-92c5-6c94bca7d2b0"
      },
      "execution_count": null,
      "outputs": [
        {
          "output_type": "stream",
          "name": "stdout",
          "text": [
            "['\"Nonsense!\"',\n",
            " 'said Gregory, who was very rational when anyone else\\nattempted paradox.',\n",
            " '\"Why do all the clerks and navvies in the\\n'\n",
            " 'railway trains look so sad and tired, so very sad and tired?',\n",
            " 'I will\\ntell you.',\n",
            " 'It is because they know that the train is going right.',\n",
            " 'It\\n'\n",
            " 'is because they know that whatever place they have taken a ticket\\n'\n",
            " 'for that place they will reach.',\n",
            " 'It is because after they have\\n'\n",
            " 'passed Sloane Square they know that the next station must be\\n'\n",
            " 'Victoria, and nothing but Victoria.',\n",
            " 'Oh, their wild rapture!',\n",
            " 'oh,\\n'\n",
            " 'their eyes like stars and their souls again in Eden, if the next\\n'\n",
            " 'station were unaccountably Baker Street!\"',\n",
            " '\"It is you who are unpoetical,\" replied the poet Syme.']\n"
          ]
        }
      ]
    },
    {
      "cell_type": "markdown",
      "source": [
        "## **Word Segmentation**\n",
        "---\n",
        "Khó cho ngôn ngữ không có dấu cách (Chinese, spoken text)"
      ],
      "metadata": {
        "id": "myr-qYzsuJW4"
      }
    },
    {
      "cell_type": "code",
      "source": [
        "# Văn bản không dấu cách\n",
        "text = \"doyouseethekittyseethedoggydoyoulikethekittylikethedoggy\""
      ],
      "metadata": {
        "id": "vwtz9SJ1uj3L"
      },
      "execution_count": null,
      "outputs": []
    },
    {
      "cell_type": "code",
      "source": [
        "# Segmentation bằng chuỗi 0/1 (1 = có ngắt từ)\n",
        "seg1 = \"0000000000000001000000000010000000000000000100000000000\"  # thô\n",
        "seg2 = \"0100100100100001001001000010100100010010000100010010000\"  # chi tiết hơn"
      ],
      "metadata": {
        "id": "iFnKF180ul-5"
      },
      "execution_count": null,
      "outputs": []
    },
    {
      "cell_type": "code",
      "source": [
        "def segment(text, segs):\n",
        "    words, last = [], 0\n",
        "    for i in range(len(segs)):\n",
        "        if segs[i] == '1':\n",
        "            words.append(text[last:i+1])\n",
        "            last = i+1\n",
        "    words.append(text[last:])\n",
        "    return words"
      ],
      "metadata": {
        "id": "omKCyW7kuoqG"
      },
      "execution_count": null,
      "outputs": []
    },
    {
      "cell_type": "code",
      "source": [
        "print(segment(text, seg1))"
      ],
      "metadata": {
        "colab": {
          "base_uri": "https://localhost:8080/"
        },
        "id": "cMxAui3xuqqa",
        "outputId": "e3a9c6f6-e2eb-4fa4-e3f4-f28d87ccc6b0"
      },
      "execution_count": null,
      "outputs": [
        {
          "output_type": "stream",
          "name": "stdout",
          "text": [
            "['doyouseethekitty', 'seethedoggy', 'doyoulikethekitty', 'likethedoggy']\n"
          ]
        }
      ]
    },
    {
      "cell_type": "code",
      "source": [
        "print(segment(text, seg2))"
      ],
      "metadata": {
        "colab": {
          "base_uri": "https://localhost:8080/"
        },
        "id": "okhlh03HuuYL",
        "outputId": "e8652adf-80a8-492a-d2fc-6f8995a6c36d"
      },
      "execution_count": null,
      "outputs": [
        {
          "output_type": "stream",
          "name": "stdout",
          "text": [
            "['do', 'you', 'see', 'the', 'kitty', 'see', 'the', 'doggy', 'do', 'you', 'like', 'the', 'kitty', 'like', 'the', 'doggy']\n"
          ]
        }
      ]
    },
    {
      "cell_type": "markdown",
      "source": [
        "## **Segmentation Evaluation**\n",
        "---\n",
        "* Objective function: càng nhỏ càng tốt.\n",
        "* Tính tổng = số từ + kích thước từ điển."
      ],
      "metadata": {
        "id": "8GWKhnkiu2F6"
      }
    },
    {
      "cell_type": "code",
      "source": [
        "def evaluate(text, segs):\n",
        "    words = segment(text, segs)\n",
        "    text_size = len(words)\n",
        "    lexicon_size = sum(len(word) + 1 for word in set(words))\n",
        "    return text_size + lexicon_size"
      ],
      "metadata": {
        "id": "qWGRitq0u-zm"
      },
      "execution_count": null,
      "outputs": []
    },
    {
      "cell_type": "code",
      "source": [
        "print(evaluate(text, seg1))\n",
        "print(evaluate(text, seg2))"
      ],
      "metadata": {
        "colab": {
          "base_uri": "https://localhost:8080/"
        },
        "id": "t2TX9H0Lu9fs",
        "outputId": "92a1304d-59ed-4eec-985e-034fea745c20"
      },
      "execution_count": null,
      "outputs": [
        {
          "output_type": "stream",
          "name": "stdout",
          "text": [
            "64\n",
            "48\n"
          ]
        }
      ]
    },
    {
      "cell_type": "markdown",
      "source": [
        "## **Best Optimized Segmentation**\n",
        "---\n",
        "> Using Simulated Annealing"
      ],
      "metadata": {
        "id": "tAdQxWI4vFSd"
      }
    },
    {
      "cell_type": "code",
      "source": [
        "from random import randint"
      ],
      "metadata": {
        "id": "4q_JwGV5vOl4"
      },
      "execution_count": null,
      "outputs": []
    },
    {
      "cell_type": "code",
      "source": [
        "def flip(segs, pos):\n",
        "    return segs[:pos] + str(1-int(segs[pos])) + segs[pos+1:]\n",
        "\n",
        "def flip_n(segs, n):\n",
        "    for i in range(n):\n",
        "        segs = flip(segs, randint(0, len(segs)-1))\n",
        "    return segs\n",
        "\n",
        "def anneal(text, segs, iterations, cooling_rate):\n",
        "    temperature = float(len(segs))\n",
        "    while temperature > 0.5:\n",
        "        best_segs, best = segs, evaluate(text, segs)\n",
        "        for i in range(iterations):\n",
        "            guess = flip_n(segs, round(temperature))\n",
        "            score = evaluate(text, guess)\n",
        "            if score < best:\n",
        "                best, best_segs = score, guess\n",
        "        score, segs = best, best_segs\n",
        "        temperature /= cooling_rate\n",
        "        print(score, segment(text, segs))\n",
        "    return segs\n"
      ],
      "metadata": {
        "id": "P6KwfGMjvMOH"
      },
      "execution_count": null,
      "outputs": []
    },
    {
      "cell_type": "code",
      "source": [
        "anneal(text, seg1, 5000, 1.2)"
      ],
      "metadata": {
        "id": "8sVnl2-CvTha",
        "outputId": "3a04db0b-d9ce-4084-9dad-3e611343cde6",
        "colab": {
          "base_uri": "https://localhost:8080/",
          "height": 506
        }
      },
      "execution_count": null,
      "outputs": [
        {
          "output_type": "stream",
          "name": "stdout",
          "text": [
            "64 ['doyouseethekitty', 'seethedoggy', 'doyoulikethekitty', 'likethedoggy']\n",
            "64 ['doyouseethekitty', 'seethedoggy', 'doyoulikethekitty', 'likethedoggy']\n",
            "64 ['doyouseethekitty', 'seethedoggy', 'doyoulikethekitty', 'likethedoggy']\n",
            "64 ['doyouseethekitty', 'seethedoggy', 'doyoulikethekitty', 'likethedoggy']\n",
            "64 ['doyouseethekitty', 'seethedoggy', 'doyoulikethekitty', 'likethedoggy']\n",
            "64 ['doyouseethekitty', 'seethedoggy', 'doyoulikethekitty', 'likethedoggy']\n",
            "64 ['doyouseethekitty', 'seethedoggy', 'doyoulikethekitty', 'likethedoggy']\n",
            "62 ['doy', 'ouseethe', 'kitty', 'see', 'thed', 'oggy', 'doy', 'ouliket', 'he', 'kitty', 'like', 'thed', 'oggy']\n",
            "62 ['doy', 'ouseethe', 'kitty', 'see', 'thed', 'oggy', 'doy', 'ouliket', 'he', 'kitty', 'like', 'thed', 'oggy']\n",
            "62 ['doy', 'ouseethe', 'kitty', 'see', 'thed', 'oggy', 'doy', 'ouliket', 'he', 'kitty', 'like', 'thed', 'oggy']\n",
            "62 ['doy', 'ouseethe', 'kitty', 'see', 'thed', 'oggy', 'doy', 'ouliket', 'he', 'kitty', 'like', 'thed', 'oggy']\n",
            "61 ['doy', 'ouseet', 'he', 'kitty', 'see', 'thed', 'oggy', 'doy', 'ouliket', 'he', 'kitty', 'like', 'thed', 'oggy']\n",
            "61 ['doy', 'ouseet', 'he', 'kitty', 'see', 'thed', 'oggy', 'doy', 'ouliket', 'he', 'kitty', 'like', 'thed', 'oggy']\n",
            "59 ['doy', 'ou', 'seet', 'he', 'kitty', 'see', 'thed', 'oggy', 'doy', 'ou', 'like', 't', 'he', 'kitty', 'like', 'thed', 'oggy']\n",
            "58 ['do', 'y', 'ou', 'see', 'the', 'kitty', 'see', 'thed', 'oggy', 'doy', 'ou', 'like', 'the', 'kitty', 'like', 'thed', 'oggy']\n",
            "56 ['doyou', 'see', 'the', 'kitty', 'see', 'thed', 'og', 'gy', 'doyou', 'like', 'the', 'kitty', 'like', 'thed', 'oggy']\n",
            "49 ['doyou', 'see', 'the', 'kitty', 'see', 'thed', 'oggy', 'doyou', 'like', 'the', 'kitty', 'like', 'thed', 'oggy']\n",
            "46 ['doyou', 'see', 'the', 'kitty', 'see', 'thedoggy', 'doyou', 'like', 'the', 'kitty', 'like', 'thedoggy']\n",
            "43 ['doyou', 'see', 'thekitty', 'see', 'thedoggy', 'doyou', 'like', 'thekitty', 'like', 'thedoggy']\n",
            "43 ['doyou', 'see', 'thekitty', 'see', 'thedoggy', 'doyou', 'like', 'thekitty', 'like', 'thedoggy']\n",
            "43 ['doyou', 'see', 'thekitty', 'see', 'thedoggy', 'doyou', 'like', 'thekitty', 'like', 'thedoggy']\n",
            "43 ['doyou', 'see', 'thekitty', 'see', 'thedoggy', 'doyou', 'like', 'thekitty', 'like', 'thedoggy']\n",
            "43 ['doyou', 'see', 'thekitty', 'see', 'thedoggy', 'doyou', 'like', 'thekitty', 'like', 'thedoggy']\n",
            "43 ['doyou', 'see', 'thekitty', 'see', 'thedoggy', 'doyou', 'like', 'thekitty', 'like', 'thedoggy']\n",
            "43 ['doyou', 'see', 'thekitty', 'see', 'thedoggy', 'doyou', 'like', 'thekitty', 'like', 'thedoggy']\n",
            "43 ['doyou', 'see', 'thekitty', 'see', 'thedoggy', 'doyou', 'like', 'thekitty', 'like', 'thedoggy']\n"
          ]
        },
        {
          "output_type": "execute_result",
          "data": {
            "text/plain": [
              "'0000100100000001001000000010000100010000000100010000000'"
            ],
            "application/vnd.google.colaboratory.intrinsic+json": {
              "type": "string"
            }
          },
          "metadata": {},
          "execution_count": 101
        }
      ]
    }
  ]
}