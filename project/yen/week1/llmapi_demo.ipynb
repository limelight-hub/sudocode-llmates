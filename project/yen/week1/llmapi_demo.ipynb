{
 "cells": [
  {
   "cell_type": "markdown",
   "id": "31ae63d1",
   "metadata": {},
   "source": [
    "# **Week 1: LLM APIs 101**\n",
    "---\n",
    "📝 ***Exercises***\n",
    "\n",
    "* Call OpenAI API và in ra response.\n",
    "* Call Claude API và so sánh format input/output.\n",
    "* Call Gemini API với input text (nếu có key)."
   ]
  },
  {
   "cell_type": "markdown",
   "id": "23a5c833",
   "metadata": {},
   "source": [
    "# **Basic knowledge about LLM API**\n",
    "---\n",
    "**LLM API**: stands as a technical interaction with AI systems capable of processing, comprehending, and generating human language.\n",
    "> These APIs act as a channel between the algorithms of LLM performance and various applications, enabling seamless integration of language processing functionalities into software solutions.\n",
    "\n",
    "* **Authentication**: normally request **API Key** for verification\n",
    "* **Endpoint**: Each provider (LLM Models such as OpenAI, Anthropic..) includes many different endpoint (chat completions, embeddings, images, audio...)\n",
    "* **Request Body (Parameters)**: JSON contains input information\n",
    "* **Response**: Return JSON"
   ]
  },
  {
   "cell_type": "markdown",
   "id": "c13de6fc",
   "metadata": {},
   "source": [
    "# **OpenAI**\n",
    "---"
   ]
  },
  {
   "cell_type": "code",
   "execution_count": null,
   "id": "3d912776",
   "metadata": {},
   "outputs": [],
   "source": [
    "# installation\n",
    "! pip install openai"
   ]
  },
  {
   "cell_type": "code",
   "execution_count": null,
   "id": "32a59d1d",
   "metadata": {},
   "outputs": [],
   "source": [
    "from openai import OpenAI\n",
    "\n",
    "client = OpenAI(\n",
    "  api_key='API_KEYS'\n",
    ")\n",
    "\n",
    "response = client.responses.create(\n",
    "  model='gpt-4o-mini',\n",
    "  input='write a haiku about ai',\n",
    "  store=True,\n",
    ")\n",
    "\n",
    "print(response.output_text)"
   ]
  },
  {
   "cell_type": "markdown",
   "id": "420c0117",
   "metadata": {},
   "source": [
    "# **Claude - Anthropic**\n",
    "---"
   ]
  },
  {
   "cell_type": "code",
   "execution_count": 7,
   "id": "c9fb30f0",
   "metadata": {},
   "outputs": [
    {
     "name": "stdout",
     "output_type": "stream",
     "text": [
      "Defaulting to user installation because normal site-packages is not writeable\n",
      "Collecting anthropic\n",
      "  Downloading anthropic-0.67.0-py3-none-any.whl.metadata (27 kB)\n",
      "Requirement already satisfied: anyio<5,>=3.5.0 in c:\\users\\pc\\appdata\\roaming\\python\\python313\\site-packages (from anthropic) (4.10.0)\n",
      "Requirement already satisfied: distro<2,>=1.7.0 in c:\\users\\pc\\appdata\\roaming\\python\\python313\\site-packages (from anthropic) (1.9.0)\n",
      "Requirement already satisfied: httpx<1,>=0.25.0 in c:\\users\\pc\\appdata\\roaming\\python\\python313\\site-packages (from anthropic) (0.28.1)\n",
      "Requirement already satisfied: jiter<1,>=0.4.0 in c:\\users\\pc\\appdata\\roaming\\python\\python313\\site-packages (from anthropic) (0.10.0)\n",
      "Requirement already satisfied: pydantic<3,>=1.9.0 in c:\\users\\pc\\appdata\\roaming\\python\\python313\\site-packages (from anthropic) (2.11.7)\n",
      "Requirement already satisfied: sniffio in c:\\users\\pc\\appdata\\roaming\\python\\python313\\site-packages (from anthropic) (1.3.1)\n",
      "Requirement already satisfied: typing-extensions<5,>=4.10 in c:\\users\\pc\\appdata\\roaming\\python\\python313\\site-packages (from anthropic) (4.14.0)\n",
      "Requirement already satisfied: idna>=2.8 in c:\\users\\pc\\appdata\\roaming\\python\\python313\\site-packages (from anyio<5,>=3.5.0->anthropic) (3.10)\n",
      "Requirement already satisfied: certifi in c:\\users\\pc\\appdata\\roaming\\python\\python313\\site-packages (from httpx<1,>=0.25.0->anthropic) (2025.6.15)\n",
      "Requirement already satisfied: httpcore==1.* in c:\\users\\pc\\appdata\\roaming\\python\\python313\\site-packages (from httpx<1,>=0.25.0->anthropic) (1.0.9)\n",
      "Requirement already satisfied: h11>=0.16 in c:\\users\\pc\\appdata\\roaming\\python\\python313\\site-packages (from httpcore==1.*->httpx<1,>=0.25.0->anthropic) (0.16.0)\n",
      "Requirement already satisfied: annotated-types>=0.6.0 in c:\\users\\pc\\appdata\\roaming\\python\\python313\\site-packages (from pydantic<3,>=1.9.0->anthropic) (0.7.0)\n",
      "Requirement already satisfied: pydantic-core==2.33.2 in c:\\users\\pc\\appdata\\roaming\\python\\python313\\site-packages (from pydantic<3,>=1.9.0->anthropic) (2.33.2)\n",
      "Requirement already satisfied: typing-inspection>=0.4.0 in c:\\users\\pc\\appdata\\roaming\\python\\python313\\site-packages (from pydantic<3,>=1.9.0->anthropic) (0.4.1)\n",
      "Downloading anthropic-0.67.0-py3-none-any.whl (317 kB)\n",
      "Installing collected packages: anthropic\n",
      "Successfully installed anthropic-0.67.0\n"
     ]
    }
   ],
   "source": [
    "# installation\n",
    "! pip install anthropic"
   ]
  },
  {
   "cell_type": "code",
   "execution_count": null,
   "id": "00114ab4",
   "metadata": {},
   "outputs": [],
   "source": [
    "import anthropic\n",
    "\n",
    "client = anthropic.Anthropic(\n",
    "    # defaults to os.environ.get(\"ANTHROPIC_API_KEY\")\n",
    "    api_key=\"my_api_key\",\n",
    ")\n",
    "message = client.messages.create(\n",
    "    model=\"claude-opus-4-1-20250805\",\n",
    "    max_tokens=1024,\n",
    "    messages=[\n",
    "        {\"role\": \"user\", \"content\": \"Hello, Claude\"}\n",
    "    ]\n",
    ")\n",
    "print(message.content)"
   ]
  },
  {
   "cell_type": "markdown",
   "id": "beed521d",
   "metadata": {},
   "source": [
    "# **Gemini**\n",
    "---\n",
    "Need to set up the environment variable **GEMINI_API_KEY**\n",
    "* **SECURE**: Specify the variable name as GEMINI_API_KEY in \"Environment Variables\"\n",
    "* **PUBLIC**: client = genai.Client(api_key=\"YOUR_API_KEY\")"
   ]
  },
  {
   "cell_type": "code",
   "execution_count": 5,
   "id": "81d501cd",
   "metadata": {},
   "outputs": [],
   "source": [
    "# installation\n",
    "! pip install -q -U google-genai"
   ]
  },
  {
   "cell_type": "code",
   "execution_count": null,
   "id": "cf250486",
   "metadata": {},
   "outputs": [
    {
     "name": "stdout",
     "output_type": "stream",
     "text": [
      "An **API** (Application Programming Interface) is a set of rules, protocols, and tools that allows different software applications to communicate with each other.\n",
      "\n",
      "Think of it as a **menu for a restaurant** or a **waiter**.\n",
      "\n",
      "---\n",
      "\n",
      "### The Restaurant Analogy:\n",
      "\n",
      "1.  **You (Your Application/Client):** You're hungry and want food. You don't know how the kitchen works or where they get their ingredients.\n",
      "2.  **The Menu (API Documentation):** This tells you *what* you can order (e.g., \"chicken stir-fry,\" \"vegetarian curry\"), *how* to order it (e.g., \"one stir-fry, please\"), and *what to expect* as a result.\n",
      "3.  **The Waiter (The API):** You tell the waiter your order from the menu. The waiter takes your request to the kitchen. You don't need to know *how* the kitchen prepares the food.\n",
      "4.  **The Kitchen (The Server/Another Application):** This is where the actual work is done. It processes your request (cooks the food).\n",
      "5.  **The Food (The Response):** The waiter brings back your order.\n",
      "\n",
      "---\n",
      "\n",
      "### In Technical Terms:\n",
      "\n",
      "*   **Application:** Your software, a website, a mobile app, or even another server.\n",
      "*   **Programming:** How software interacts and makes requests.\n",
      "*   **Interface:** A way for two systems to communicate, defining the methods and data formats they can use.\n",
      "\n",
      "When an application wants to interact with another service or application, it uses that service's API to send **requests** and receive **responses**.\n",
      "\n",
      "### How APIs Work (Simplified):\n",
      "\n",
      "1.  **Request:** Your application sends a specific message (a \"request\") to the API of another service. This request typically specifies:\n",
      "    *   **What you want to do:** (e.g., \"get weather data,\" \"post a tweet,\" \"process a payment\").\n",
      "    *   **Any necessary details:** (e.g., \"for London,\" \"the tweet message,\" \"the amount to charge\").\n",
      "    *   **Authentication:** Often, a key or token to prove you're allowed to make the request.\n",
      "2.  **Processing:** The API receives the request, understands it based on its defined rules, and then sends it to the server/system that holds the data or performs the action.\n",
      "3.  **Response:** The server processes the request and sends back a \"response\" to your application through the API. This response usually contains:\n",
      "    *   **The requested data:** (e.g., current temperature, a list of tweets, payment confirmation).\n",
      "    *   **A status code:** Indicating if the request was successful or if there was an error.\n",
      "    *   **The data format:** Often in JSON or XML.\n",
      "\n",
      "### Why are APIs Important? (Benefits)\n",
      "\n",
      "*   **Interoperability:** Allows different software systems, even those built with different programming languages or on different platforms, to \"talk\" to each other.\n",
      "*   **Efficiency & Innovation:** Developers don't have to reinvent the wheel. They can use existing services (like a mapping service, a payment gateway, or a weather data provider) to add complex functionality to their apps quickly.\n",
      "*   **Modularity:** Services can be developed and maintained independently.\n",
      "*   **Automation:** Programs can interact with each other without human intervention.\n",
      "*   **Data Sharing:** Companies can expose specific data points or functionalities to partners or the public in a controlled and secure manner.\n",
      "\n",
      "### Real-World Examples:\n",
      "\n",
      "*   **Social Media Logins:** When you click \"Log in with Google\" or \"Log in with Facebook\" on a third-party website, that website is using Google's or Facebook's API to authenticate you.\n",
      "*   **Weather Apps:** Your phone's weather app uses an API from a weather data provider to fetch current conditions and forecasts.\n",
      "*   **Online Shopping:** When you pay for something online, the e-commerce site uses a payment gateway API (like Stripe or PayPal) to process your credit card information securely.\n",
      "*   **Mapping Services:** Websites often embed maps (e.g., Google Maps) using their APIs to display locations or calculate routes.\n",
      "*   **Travel Booking Sites:** These sites use APIs from airlines, hotels, and car rental companies to aggregate and display availability and prices.\n",
      "\n",
      "In essence, an API is a powerful communication tool that makes the modern connected world possible, allowing software to become building blocks for other software.\n"
     ]
    }
   ],
   "source": [
    "from google import genai\n",
    "\n",
    "\n",
    "client = genai.Client() # secret ways :>\n",
    "\n",
    "response = client.models.generate_content(\n",
    "    model=\"gemini-2.5-flash\",\n",
    "    contents='what is api'\n",
    ")\n",
    "\n",
    "print(response.text)\n"
   ]
  },
  {
   "cell_type": "code",
   "execution_count": null,
   "id": "e10b9537",
   "metadata": {},
   "outputs": [],
   "source": []
  }
 ],
 "metadata": {
  "kernelspec": {
   "display_name": "Python 3",
   "language": "python",
   "name": "python3"
  },
  "language_info": {
   "codemirror_mode": {
    "name": "ipython",
    "version": 3
   },
   "file_extension": ".py",
   "mimetype": "text/x-python",
   "name": "python",
   "nbconvert_exporter": "python",
   "pygments_lexer": "ipython3",
   "version": "3.13.3"
  }
 },
 "nbformat": 4,
 "nbformat_minor": 5
}
